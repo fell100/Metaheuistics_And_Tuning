{
  "cells": [
    {
      "attachments": {},
      "cell_type": "markdown",
      "metadata": {},
      "source": [
        "## Definindo o Problema"
      ]
    },
    {
      "cell_type": "code",
      "execution_count": 347,
      "metadata": {
        "colab": {
          "base_uri": "https://localhost:8080/"
        },
        "id": "9Sev1tJEIXbP",
        "outputId": "a8d34b52-5234-4e1c-ba54-12555337e150"
      },
      "outputs": [],
      "source": [
        "#!pip install lightgbm;\n",
        "#!pip install pymoo;\n",
        "#!pip install -U pyrecorder;"
      ]
    },
    {
      "cell_type": "code",
      "execution_count": 348,
      "metadata": {
        "id": "QrgfvJRNIFyW"
      },
      "outputs": [],
      "source": [
        "import pickle\n",
        "from sklearn.neighbors import KNeighborsClassifier\n",
        "from sklearn.metrics import accuracy_score, confusion_matrix, classification_report\n",
        "from yellowbrick.classifier import ConfusionMatrix\n",
        "import numpy as np\n",
        "from tqdm.notebook import tqdm as tqdm\n",
        "import matplotlib.pyplot as plt\n",
        "from sklearn.model_selection import cross_val_score, KFold\n",
        "#from google.colab import drive\n",
        "import pickle\n",
        "from pymoo.algorithms.soo.nonconvex.pso import PSO, PSOAnimation\n",
        "#from pymoo.factory import Rastrigin\n",
        "from pymoo.optimize import minimize\n",
        "import matplotlib.pyplot as plt\n",
        "from pymoo.factory import get_termination\n",
        "#from pymoo.util.display import Display\n",
        "from pymoo.core.callback import Callback"
      ]
    },
    {
      "cell_type": "code",
      "execution_count": 349,
      "metadata": {
        "id": "bnmY0okxIjkH"
      },
      "outputs": [],
      "source": [
        "import lightgbm as lgb"
      ]
    },
    {
      "cell_type": "code",
      "execution_count": 350,
      "metadata": {
        "colab": {
          "base_uri": "https://localhost:8080/"
        },
        "id": "io1a1cJQIQoZ",
        "outputId": "7762ca48-fc4c-4746-a658-5238c24392fc"
      },
      "outputs": [],
      "source": [
        "#drive.mount('/content/gdrive')"
      ]
    },
    {
      "cell_type": "code",
      "execution_count": 351,
      "metadata": {
        "id": "4TYgT1s1ISuF"
      },
      "outputs": [],
      "source": [
        "#with open('/content/gdrive/MyDrive/datasets/credit.pkl', 'rb') as f:\n",
        "#    x_credit_train, x_credit_test, y_credit_train, y_credit_test = pickle.load(f)\n",
        "    \n",
        "with open('./credit.pkl', 'rb') as f:\n",
        "    x_credit_train, x_credit_test, y_credit_train, y_credit_test = pickle.load(f)"
      ]
    },
    {
      "cell_type": "code",
      "execution_count": 352,
      "metadata": {
        "id": "0cw9BiQYIUCp"
      },
      "outputs": [],
      "source": [
        "\n",
        "x_credit = np.concatenate((x_credit_train, x_credit_test), axis = 0)\n",
        "y_credit = np.concatenate((y_credit_train, y_credit_test), axis = 0)\n"
      ]
    },
    {
      "cell_type": "markdown",
      "metadata": {
        "id": "tHg0NYkn-4CK"
      },
      "source": [
        "Definindo as restrições "
      ]
    },
    {
      "cell_type": "code",
      "execution_count": 353,
      "metadata": {
        "id": "BkFUaoY1fTFl"
      },
      "outputs": [],
      "source": [
        "OBJECTIVE = ['Accuracy']\n",
        "DIMENSIONS = 9 #num_leaves, min_child_samples, n_estimators, learning_rate, subsample_for_bin, min_split_gain, min_child_weight, subsample, reg_alpha, reg_lambda\n",
        "ITERATIONS = 10\n",
        "POPULATION = 15\n",
        "num_leaves_min = 10\n",
        "num_leaves_max = 200\n",
        "min_child_samples_min = 10\n",
        "min_child_samples_max = 50\n",
        "n_estimators_min = 20\n",
        "n_estimators_max = 1000\n",
        "\n",
        "learning_rate_min = 0.001\n",
        "learning_rate_max = 0.5\n",
        "subsample_for_bin_min = 50000\n",
        "subsample_for_bin_max = 500000\n",
        "min_split_gain_min = 0.01\n",
        "min_split_gain_max = 0.5\n",
        "min_child_weight_min = 0.001\n",
        "min_child_weight_max = 0.15\n",
        "subsample_min = 1.0\n",
        "subsample_max = 2.0\n",
        "reg_alpha_min =0.01\n",
        "reg_alpha_max = 100.0 \n",
        "reg_lambda_min = 0.01\n",
        "reg_lambda_max = 100.0\n",
        "\n",
        "BOUNDS = []\n",
        "SEED = 1\n",
        "INDIVIDUALS = []"
      ]
    },
    {
      "cell_type": "markdown",
      "metadata": {
        "id": "xSbKK_Og-7Oe"
      },
      "source": [
        "Definindo o problema"
      ]
    },
    {
      "cell_type": "code",
      "execution_count": 354,
      "metadata": {
        "id": "Elrs3UT_j7t6"
      },
      "outputs": [],
      "source": [
        "import numpy as np\n",
        "from pymoo.core.problem import ElementwiseProblem\n",
        "\n",
        "class OptimizeWithAccuracy(ElementwiseProblem):\n",
        "\n",
        "    def __init__(self):\n",
        "        super().__init__(n_var= DIMENSIONS,\n",
        "                         n_obj=1,\n",
        "                         n_constr=9,\n",
        "                         xl=np.array([num_leaves_min, min_child_samples_min, n_estimators_min, learning_rate_min, subsample_for_bin_min,\n",
        "                                      min_split_gain_min, min_child_weight_min, reg_alpha_min, reg_lambda_min]),\n",
        "                         xu=np.array([num_leaves_max, min_child_samples_max, n_estimators_max, learning_rate_max, subsample_for_bin_max,\n",
        "                                      min_split_gain_max, min_child_weight_max, reg_alpha_max, reg_lambda_max])\n",
        "                        )\n",
        "\n",
        "    def _evaluate(self, x, out, *args, **kwargs):\n",
        "        #num_leaves, min_child_samples, n_estimators, learning_rate, subsample_for_bin, min_split_gain, min_child_weight, reg_alpha, reg_lambda\n",
        "        \n",
        "        model_lgb = lgb.LGBMClassifier(num_leaves        = int(np.floor(x[0])), \n",
        "                                       min_child_samples = int(np.floor(x[1])), \n",
        "                                       n_estimators      = int(np.floor(x[2])),\n",
        "                                       learning_rate     = x[3] ,\n",
        "                                       subsample_for_bin = int(np.floor(x[4])),\n",
        "                                       min_split_gain    = x[5],\n",
        "                                       min_child_weight  = x[6],\n",
        "                                       reg_alpha         = x[7],\n",
        "                                       reg_lambda        = x[8],\n",
        "                                       max_depth=- 1,\n",
        "                                       n_jobs = -1\n",
        "                                       )\n",
        "        \n",
        "        kfold = KFold(n_splits = 3, shuffle = True)\n",
        "        \n",
        "        scores = cross_val_score(model_lgb, x_credit, y_credit, cv = kfold, n_jobs=-1)  \n",
        "        \n",
        "        result = scores.mean()\n",
        "        out['F'] = -1 * result\n",
        "\n",
        "problemAccuracy = OptimizeWithAccuracy()"
      ]
    },
    {
      "cell_type": "code",
      "execution_count": 355,
      "metadata": {},
      "outputs": [],
      "source": [
        "class OptimizeWithF1(ElementwiseProblem):\n",
        "\n",
        "    def __init__(self):\n",
        "        super().__init__(n_var= DIMENSIONS,\n",
        "                         n_obj=1,\n",
        "                         n_constr=9,\n",
        "                         xl=np.array([num_leaves_min, min_child_samples_min, n_estimators_min, learning_rate_min, subsample_for_bin_min,\n",
        "                                      min_split_gain_min, min_child_weight_min, reg_alpha_min, reg_lambda_min]),\n",
        "                         xu=np.array([num_leaves_max, min_child_samples_max, n_estimators_max, learning_rate_max, subsample_for_bin_max,\n",
        "                                      min_split_gain_max, min_child_weight_max, reg_alpha_max, reg_lambda_max])\n",
        "                        )\n",
        "\n",
        "    def _evaluate(self, x, out, *args, **kwargs):\n",
        "        #num_leaves, min_child_samples, n_estimators, learning_rate, subsample_for_bin, min_split_gain, min_child_weight, reg_alpha, reg_lambda\n",
        "        \n",
        "        model_lgb = lgb.LGBMClassifier(num_leaves        = int(np.round(x[0])), \n",
        "                                       min_child_samples = int(np.round(x[1])), \n",
        "                                       n_estimators      = int(np.round(x[2])),\n",
        "                                       learning_rate     = x[3] ,\n",
        "                                       subsample_for_bin = int(np.round(x[4])),\n",
        "                                       min_split_gain    = x[5],\n",
        "                                       min_child_weight  = x[6],\n",
        "                                       reg_alpha         = x[7],\n",
        "                                       reg_lambda        = x[8],\n",
        "                                       max_depth=- 1,\n",
        "                                       n_jobs = -1\n",
        "                                       )\n",
        "        \n",
        "        kfold = KFold(n_splits = 3, shuffle = True)\n",
        "        \n",
        "        scores = cross_val_score(model_lgb, x_credit, y_credit, cv = kfold, scoring='f1', n_jobs=-1)  \n",
        "        \n",
        "        result = scores.mean()\n",
        "        out['F'] = -1 * result\n",
        "\n",
        "problemF1 = OptimizeWithF1()"
      ]
    },
    {
      "cell_type": "code",
      "execution_count": 356,
      "metadata": {},
      "outputs": [],
      "source": [
        "class OptimizeWithAUC(ElementwiseProblem):\n",
        "\n",
        "    def __init__(self):\n",
        "        super().__init__(n_var= DIMENSIONS,\n",
        "                         n_obj=1,\n",
        "                         n_constr=9,\n",
        "                         xl=np.array([num_leaves_min, min_child_samples_min, n_estimators_min, learning_rate_min, subsample_for_bin_min,\n",
        "                                      min_split_gain_min, min_child_weight_min, reg_alpha_min, reg_lambda_min]),\n",
        "                         xu=np.array([num_leaves_max, min_child_samples_max, n_estimators_max, learning_rate_max, subsample_for_bin_max,\n",
        "                                      min_split_gain_max, min_child_weight_max, reg_alpha_max, reg_lambda_max])\n",
        "                        )\n",
        "\n",
        "    def _evaluate(self, x, out, *args, **kwargs):\n",
        "        #num_leaves, min_child_samples, n_estimators, learning_rate, subsample_for_bin, min_split_gain, min_child_weight, reg_alpha, reg_lambda\n",
        "        \n",
        "        model_lgb = lgb.LGBMClassifier(num_leaves        = int(np.round(x[0])), \n",
        "                                       min_child_samples = int(np.round(x[1])), \n",
        "                                       n_estimators      = int(np.round(x[2])),\n",
        "                                       learning_rate     = x[3] ,\n",
        "                                       subsample_for_bin = int(np.round(x[4])),\n",
        "                                       min_split_gain    = x[5],\n",
        "                                       min_child_weight  = x[6],\n",
        "                                       reg_alpha         = x[7],\n",
        "                                       reg_lambda        = x[8],\n",
        "                                       max_depth=- 1,\n",
        "                                       n_jobs = -1\n",
        "                                       )\n",
        "        \n",
        "        kfold = KFold(n_splits = 3, shuffle = True)\n",
        "        \n",
        "        scores = cross_val_score(model_lgb, x_credit, y_credit, cv = kfold, scoring='roc_auc', n_jobs=-1)  \n",
        "        \n",
        "        result = scores.mean()\n",
        "        out['F'] = -1 * result\n",
        "\n",
        "problemAUC = OptimizeWithAUC()"
      ]
    },
    {
      "cell_type": "code",
      "execution_count": 357,
      "metadata": {},
      "outputs": [],
      "source": [
        "from pymoo.util.display.column import Column\n",
        "from pymoo.util.display.output import Output"
      ]
    },
    {
      "cell_type": "code",
      "execution_count": 358,
      "metadata": {},
      "outputs": [],
      "source": [
        "class MyOutput(Output):\n",
        "\n",
        "    def __init__(self):\n",
        "        super().__init__()\n",
        "        global pbar \n",
        "        pbar = tqdm(total=ITERATIONS)\n",
        "        self.score = Column(\"score\", width=13)\n",
        "        self.Parameters = Column(\"Parameters\", width=35)\n",
        "        self.columns += [self.score, self.Parameters]\n",
        "\n",
        "    def update(self, algorithm):\n",
        "        super().update(algorithm)\n",
        "        self.score.set(-np.min(algorithm.pop.get(\"F\")))\n",
        "        #self.Parameters.set(algorithm.pop.get(\"X\")[0])\n",
        "        pbar.update(1)\n",
        "        if pbar.n == ITERATIONS: pbar.close()"
      ]
    },
    {
      "cell_type": "markdown",
      "metadata": {
        "id": "_HsPc7BH-MWL"
      },
      "source": [
        "## Particle Swarm Optimization (PSO)"
      ]
    },
    {
      "attachments": {},
      "cell_type": "markdown",
      "metadata": {},
      "source": [
        "### Acurácia"
      ]
    },
    {
      "cell_type": "code",
      "execution_count": 359,
      "metadata": {
        "id": "J275mWjGbVJo"
      },
      "outputs": [],
      "source": [
        "ITERATIONS = 32\n",
        "POPULATION = 32"
      ]
    },
    {
      "cell_type": "code",
      "execution_count": 360,
      "metadata": {
        "colab": {
          "base_uri": "https://localhost:8080/",
          "height": 848,
          "referenced_widgets": [
            "b504307a10f54034ad07715278fa1dbc",
            "20a38960e7374ab594f04f4b1c5e2321",
            "7c3472a6094a4249a082f8dc630e5258",
            "ae818704a52542d696c8eb0c1c182a81",
            "992dda0d38b145b88946b67edc62ab57",
            "6f29547455ac4adb8edaa11d5839f5cb",
            "1a32143976c744e5a388d7b343e7c054",
            "1614757884124ed487149ebed485833f",
            "6f124da663194ac0b073ab7a3fb168c3",
            "76b3046c318d4fbcb66b198b50cd91e7",
            "124e5b4b5b3344f4abdc93628b112d8f"
          ]
        },
        "id": "Ub3CpvtimILV",
        "outputId": "b5231789-c65e-4089-99c9-9fcc0b99f5ca"
      },
      "outputs": [
        {
          "name": "stderr",
          "output_type": "stream",
          "text": [
            "C:\\Users\\Felps\\AppData\\Local\\Temp\\ipykernel_13696\\2417788545.py:7: DeprecationWarning: Call to deprecated function (or staticmethod) get_termination. (Please use `from pymoo.termination import get_termination`)\n",
            "  term = get_termination(\"n_gen\", ITERATIONS)\n"
          ]
        },
        {
          "data": {
            "application/vnd.jupyter.widget-view+json": {
              "model_id": "4b11a5c6f8e94904a802d9bc0a540eb2",
              "version_major": 2,
              "version_minor": 0
            },
            "text/plain": [
              "  0%|          | 0/32 [00:00<?, ?it/s]"
            ]
          },
          "metadata": {},
          "output_type": "display_data"
        },
        {
          "name": "stdout",
          "output_type": "stream",
          "text": [
            "=======================================================================\n",
            "n_gen  |  n_eval  |     score     |              Parameters            \n",
            "=======================================================================\n",
            "     1 |       32 |  0.8410117067 |                                   -\n",
            "     2 |       64 |  0.8410117067 |                                   -\n",
            "     3 |       96 |  0.8410117067 |                                   -\n",
            "     4 |      128 |  0.8410117067 |                                   -\n",
            "     5 |      160 |  0.8410117067 |                                   -\n",
            "     6 |      192 |  0.8410117067 |                                   -\n",
            "     7 |      224 |  0.8410117067 |                                   -\n",
            "     8 |      256 |  0.8410117067 |                                   -\n",
            "     9 |      288 |  0.8410117067 |                                   -\n",
            "    10 |      320 |  0.8410117067 |                                   -\n",
            "    11 |      352 |  0.8410117067 |                                   -\n",
            "    12 |      384 |  0.8410117067 |                                   -\n",
            "    13 |      416 |  0.8410117067 |                                   -\n",
            "    14 |      448 |  0.8410117067 |                                   -\n",
            "    15 |      480 |  0.8410117067 |                                   -\n",
            "    16 |      512 |  0.8410117067 |                                   -\n",
            "    17 |      544 |  0.8410117067 |                                   -\n",
            "    18 |      576 |  0.8410117067 |                                   -\n",
            "    19 |      608 |  0.8410117067 |                                   -\n",
            "    20 |      640 |  0.8410117067 |                                   -\n",
            "    21 |      672 |  0.8410117067 |                                   -\n",
            "    22 |      704 |  0.8410117067 |                                   -\n",
            "    23 |      736 |  0.8410117067 |                                   -\n",
            "    24 |      768 |  0.8410117067 |                                   -\n",
            "    25 |      800 |  0.8410117067 |                                   -\n",
            "    26 |      832 |  0.8410117067 |                                   -\n",
            "    27 |      864 |  0.8410117067 |                                   -\n",
            "    28 |      896 |  0.8410117067 |                                   -\n",
            "    29 |      928 |  0.8410117067 |                                   -\n",
            "    30 |      960 |  0.8410117067 |                                   -\n",
            "    31 |      992 |  0.8410117067 |                                   -\n",
            "    32 |     1024 |  0.8410117067 |                                   -\n",
            "Best Accuracy Score [0.84101171]\n",
            "Model parameters: \n",
            " [9.51294427e+01 2.74057851e+01 4.32703512e+02 3.48640829e-01\n",
            " 3.12256980e+05 2.13942944e-01 6.10921471e-02 1.70826374e+00\n",
            " 6.63977806e+01]\n"
          ]
        }
      ],
      "source": [
        "algorithm = PSO(#pop_size=POPULATION, \n",
        "                #w=0.3, c1=4.0, c2=1.0, \n",
        "                #adaptive=False, initial_velocity='random', \n",
        "                #max_velocity_rate=0.75, pertube_best=False,\n",
        "                max_velocity_rate=0.25,\n",
        "                pop_size=POPULATION)\n",
        "term = get_termination(\"n_gen\", ITERATIONS)\n",
        "\n",
        "res = minimize(problemAccuracy,\n",
        "               algorithm,\n",
        "               #seed=SEED,\n",
        "               save_history=True,\n",
        "               verbose=True,\n",
        "               output=MyOutput(),\n",
        "               termination = term)\n",
        "\n",
        "\n",
        "index_best_individual = np.where(res.pop.get('F') == np.min(res.pop.get('F')))[0][0]\n",
        "score_best_individual = res.pop.get('F')[index_best_individual]\n",
        "parameters_best_individual = res.pop.get('X')[index_best_individual]\n",
        "\n",
        "print(f'Best Accuracy Score {-score_best_individual}')\n",
        "print(f'Model parameters: \\n {parameters_best_individual}')"
      ]
    },
    {
      "cell_type": "code",
      "execution_count": 361,
      "metadata": {
        "colab": {
          "base_uri": "https://localhost:8080/"
        },
        "id": "-F1E38iDlQUl",
        "outputId": "d83fa2a1-f2c2-49a3-c8a9-ddc5b449b2bb"
      },
      "outputs": [],
      "source": [
        "final_model = lgb.LGBMClassifier(num_leaves       = int(np.floor(parameters_best_individual[0])), \n",
        "                                min_child_samples = int(np.floor(parameters_best_individual[1])), \n",
        "                                n_estimators      = int(np.floor(parameters_best_individual[2])),\n",
        "                                learning_rate     = parameters_best_individual[3] ,\n",
        "                                subsample_for_bin = int(np.floor(parameters_best_individual[4])),\n",
        "                                min_split_gain    = parameters_best_individual[5],\n",
        "                                min_child_weight  = parameters_best_individual[6],\n",
        "                                reg_alpha         = parameters_best_individual[7],\n",
        "                                reg_lambda        = parameters_best_individual[8],\n",
        "                                max_depth=- 1\n",
        "                                )\n",
        "\n",
        "\n",
        "kfold = KFold(n_splits = 3, shuffle = True)\n",
        "\n",
        "scores = cross_val_score(final_model, x_credit, y_credit, cv = kfold, n_jobs=-1)  \n",
        "\n",
        "result = scores.mean()\n",
        "#print(result)"
      ]
    },
    {
      "cell_type": "code",
      "execution_count": 362,
      "metadata": {
        "id": "3tT-sQocbOnb"
      },
      "outputs": [],
      "source": [
        "trlist = np.array([])\n",
        "for i in range(len(res.history)):\n",
        "  trlist = np.append(trlist, -res.history[i].pop.get('F').reshape(-1)) "
      ]
    },
    {
      "cell_type": "code",
      "execution_count": 363,
      "metadata": {
        "id": "zJu3r3qI4crG"
      },
      "outputs": [],
      "source": [
        "scorelist = []\n",
        "\n",
        "for i in range(len(trlist)):\n",
        "#for i in range(1):\n",
        "  if i == 0:\n",
        "    scorelist.append(trlist[i])\n",
        "  elif trlist[i] > scorelist[i-1]:\n",
        "    scorelist.append(trlist[i])\n",
        "  else:\n",
        "    scorelist.append(scorelist[i-1])"
      ]
    },
    {
      "cell_type": "code",
      "execution_count": 364,
      "metadata": {
        "id": "kEcgjgreFrvp"
      },
      "outputs": [],
      "source": [
        "Accuracy_PSO = scorelist"
      ]
    },
    {
      "cell_type": "code",
      "execution_count": 365,
      "metadata": {
        "colab": {
          "base_uri": "https://localhost:8080/",
          "height": 351
        },
        "id": "qLYLRAg_51U5",
        "outputId": "fbd0c7ea-1543-4268-c387-0dd27f8a2a5e"
      },
      "outputs": [
        {
          "data": {
            "image/png": "[encoded data removed]",
            "text/plain": [
              "<Figure size 800x550 with 1 Axes>"
            ]
          },
          "metadata": {},
          "output_type": "display_data"
        }
      ],
      "source": [
        "plt.plot(Accuracy_PSO);"
      ]
    },
    {
      "cell_type": "code",
      "execution_count": 366,
      "metadata": {
        "colab": {
          "base_uri": "https://localhost:8080/",
          "height": 364
        },
        "id": "Ie2LDl1g6Yni",
        "outputId": "bcc10420-9cd1-4808-9914-9f90097b8e46"
      },
      "outputs": [
        {
          "data": {
            "text/plain": [
              "[<matplotlib.lines.Line2D at 0x19fc907a810>]"
            ]
          },
          "execution_count": 366,
          "metadata": {},
          "output_type": "execute_result"
        },
        {
          "data": {
            "image/png": "[encoded data removed]",
            "text/plain": [
              "<Figure size 800x550 with 1 Axes>"
            ]
          },
          "metadata": {},
          "output_type": "display_data"
        }
      ],
      "source": [
        "tracking = [-np.min(individual.pop.get('F')) for individual in res.history ]\n",
        "tracking_PSO_Accuracy = tracking\n",
        "plt.plot(tracking)"
      ]
    },
    {
      "attachments": {},
      "cell_type": "markdown",
      "metadata": {},
      "source": [
        "### F1 Score "
      ]
    },
    {
      "cell_type": "code",
      "execution_count": 367,
      "metadata": {},
      "outputs": [
        {
          "name": "stderr",
          "output_type": "stream",
          "text": [
            "C:\\Users\\Felps\\AppData\\Local\\Temp\\ipykernel_13696\\2645485919.py:7: DeprecationWarning: Call to deprecated function (or staticmethod) get_termination. (Please use `from pymoo.termination import get_termination`)\n",
            "  term = get_termination(\"n_gen\", ITERATIONS)\n"
          ]
        },
        {
          "data": {
            "application/vnd.jupyter.widget-view+json": {
              "model_id": "af57eaaf948d43d19d5a8fe26f74fd80",
              "version_major": 2,
              "version_minor": 0
            },
            "text/plain": [
              "  0%|          | 0/32 [00:00<?, ?it/s]"
            ]
          },
          "metadata": {},
          "output_type": "display_data"
        },
        {
          "name": "stdout",
          "output_type": "stream",
          "text": [
            "=======================================================================\n",
            "n_gen  |  n_eval  |     score     |              Parameters            \n",
            "=======================================================================\n",
            "     1 |       32 |  0.5478841336 |                                   -\n",
            "     2 |       64 |  0.5478841336 |                                   -\n",
            "     3 |       96 |  0.5478841336 |                                   -\n",
            "     4 |      128 |  0.5478841336 |                                   -\n",
            "     5 |      160 |  0.5478841336 |                                   -\n",
            "     6 |      192 |  0.5478841336 |                                   -\n",
            "     7 |      224 |  0.5478841336 |                                   -\n",
            "     8 |      256 |  0.5478841336 |                                   -\n",
            "     9 |      288 |  0.5478841336 |                                   -\n",
            "    10 |      320 |  0.5478841336 |                                   -\n",
            "    11 |      352 |  0.5478841336 |                                   -\n",
            "    12 |      384 |  0.5478841336 |                                   -\n",
            "    13 |      416 |  0.5478841336 |                                   -\n",
            "    14 |      448 |  0.5478841336 |                                   -\n",
            "    15 |      480 |  0.5478841336 |                                   -\n",
            "    16 |      512 |  0.5478841336 |                                   -\n",
            "    17 |      544 |  0.5478841336 |                                   -\n",
            "    18 |      576 |  0.5478841336 |                                   -\n",
            "    19 |      608 |  0.5478841336 |                                   -\n",
            "    20 |      640 |  0.5478841336 |                                   -\n",
            "    21 |      672 |  0.5478841336 |                                   -\n",
            "    22 |      704 |  0.5478841336 |                                   -\n",
            "    23 |      736 |  0.5478841336 |                                   -\n",
            "    24 |      768 |  0.5478841336 |                                   -\n",
            "    25 |      800 |  0.5478841336 |                                   -\n",
            "    26 |      832 |  0.5478841336 |                                   -\n",
            "    27 |      864 |  0.5478841336 |                                   -\n",
            "    28 |      896 |  0.5478841336 |                                   -\n",
            "    29 |      928 |  0.5478841336 |                                   -\n",
            "    30 |      960 |  0.5478841336 |                                   -\n",
            "    31 |      992 |  0.5478841336 |                                   -\n",
            "    32 |     1024 |  0.5478841336 |                                   -\n",
            "Best F1 Score [0.54788413]\n",
            "Model parameters: \n",
            " [1.68393401e+02 3.53507203e+01 3.41863433e+02 3.88327836e-01\n",
            " 4.52655845e+05 2.69643337e-01 5.87952880e-02 3.73012379e+00\n",
            " 1.16411770e+01]\n"
          ]
        }
      ],
      "source": [
        "algorithm = PSO(#pop_size=POPULATION, \n",
        "                #w=0.3, c1=4.0, c2=1.0, \n",
        "                #adaptive=False, initial_velocity='random', \n",
        "                #max_velocity_rate=0.75, pertube_best=False,\n",
        "                max_velocity_rate=0.25,\n",
        "                pop_size=POPULATION)\n",
        "term = get_termination(\"n_gen\", ITERATIONS)\n",
        "\n",
        "res = minimize(problemF1,\n",
        "               algorithm,\n",
        "               #seed=SEED,\n",
        "               save_history=True,\n",
        "               verbose=True,\n",
        "               output=MyOutput(),\n",
        "               termination = term)\n",
        "\n",
        "\n",
        "index_best_individual = np.where(res.pop.get('F') == np.min(res.pop.get('F')))[0][0]\n",
        "score_best_individual = res.pop.get('F')[index_best_individual]\n",
        "parameters_best_individual = res.pop.get('X')[index_best_individual]\n",
        "\n",
        "print(f'Best F1 Score {-score_best_individual}')\n",
        "print(f'Model parameters: \\n {parameters_best_individual}')"
      ]
    },
    {
      "cell_type": "code",
      "execution_count": 368,
      "metadata": {},
      "outputs": [
        {
          "data": {
            "image/png": "[encoded data removed]",
            "text/plain": [
              "<Figure size 800x550 with 1 Axes>"
            ]
          },
          "metadata": {},
          "output_type": "display_data"
        }
      ],
      "source": [
        "trlist = np.array([])\n",
        "for i in range(len(res.history)):\n",
        "  trlist = np.append(trlist, -res.history[i].pop.get('F').reshape(-1)) \n",
        "  \n",
        "scorelist = []\n",
        "\n",
        "for i in range(len(trlist)):\n",
        "#for i in range(1):\n",
        "  if i == 0:\n",
        "    scorelist.append(trlist[i])\n",
        "  elif trlist[i] > scorelist[i-1]:\n",
        "    scorelist.append(trlist[i])\n",
        "  else:\n",
        "    scorelist.append(scorelist[i-1])\n",
        "    \n",
        "F1_PSO = scorelist\n",
        "\n",
        "plt.plot(scorelist);"
      ]
    },
    {
      "cell_type": "code",
      "execution_count": 369,
      "metadata": {},
      "outputs": [
        {
          "data": {
            "text/plain": [
              "[<matplotlib.lines.Line2D at 0x19fcadaa810>]"
            ]
          },
          "execution_count": 369,
          "metadata": {},
          "output_type": "execute_result"
        },
        {
          "data": {
            "image/png": "[encoded data removed]",
            "text/plain": [
              "<Figure size 800x550 with 1 Axes>"
            ]
          },
          "metadata": {},
          "output_type": "display_data"
        }
      ],
      "source": [
        "tracking = [-np.min(individual.pop.get('F')) for individual in res.history ]\n",
        "tracking_PSO_F1 = tracking\n",
        "plt.plot(tracking)"
      ]
    },
    {
      "attachments": {},
      "cell_type": "markdown",
      "metadata": {},
      "source": [
        "### AUC"
      ]
    },
    {
      "cell_type": "code",
      "execution_count": 370,
      "metadata": {},
      "outputs": [
        {
          "name": "stderr",
          "output_type": "stream",
          "text": [
            "C:\\Users\\Felps\\AppData\\Local\\Temp\\ipykernel_13696\\4093374697.py:7: DeprecationWarning: Call to deprecated function (or staticmethod) get_termination. (Please use `from pymoo.termination import get_termination`)\n",
            "  term = get_termination(\"n_gen\", ITERATIONS)\n"
          ]
        },
        {
          "data": {
            "application/vnd.jupyter.widget-view+json": {
              "model_id": "40b83c5920894ae98d318a506ca9959f",
              "version_major": 2,
              "version_minor": 0
            },
            "text/plain": [
              "  0%|          | 0/32 [00:00<?, ?it/s]"
            ]
          },
          "metadata": {},
          "output_type": "display_data"
        },
        {
          "name": "stdout",
          "output_type": "stream",
          "text": [
            "=======================================================================\n",
            "n_gen  |  n_eval  |     score     |              Parameters            \n",
            "=======================================================================\n",
            "     1 |       32 |  0.8382579611 |                                   -\n",
            "     2 |       64 |  0.8382579611 |                                   -\n",
            "     3 |       96 |  0.8382579611 |                                   -\n",
            "     4 |      128 |  0.8382579611 |                                   -\n",
            "     5 |      160 |  0.8382579611 |                                   -\n",
            "     6 |      192 |  0.8382579611 |                                   -\n",
            "     7 |      224 |  0.8382579611 |                                   -\n",
            "     8 |      256 |  0.8382579611 |                                   -\n",
            "     9 |      288 |  0.8382579611 |                                   -\n",
            "    10 |      320 |  0.8382579611 |                                   -\n",
            "    11 |      352 |  0.8382579611 |                                   -\n",
            "    12 |      384 |  0.8382579611 |                                   -\n",
            "    13 |      416 |  0.8382579611 |                                   -\n",
            "    14 |      448 |  0.8382579611 |                                   -\n",
            "    15 |      480 |  0.8382579611 |                                   -\n",
            "    16 |      512 |  0.8382579611 |                                   -\n",
            "    17 |      544 |  0.8382579611 |                                   -\n",
            "    18 |      576 |  0.8382579611 |                                   -\n",
            "    19 |      608 |  0.8382579611 |                                   -\n",
            "    20 |      640 |  0.8382579611 |                                   -\n",
            "    21 |      672 |  0.8382579611 |                                   -\n",
            "    22 |      704 |  0.8382579611 |                                   -\n",
            "    23 |      736 |  0.8382579611 |                                   -\n",
            "    24 |      768 |  0.8382579611 |                                   -\n",
            "    25 |      800 |  0.8382579611 |                                   -\n",
            "    26 |      832 |  0.8382579611 |                                   -\n",
            "    27 |      864 |  0.8382579611 |                                   -\n",
            "    28 |      896 |  0.8382579611 |                                   -\n",
            "    29 |      928 |  0.8382579611 |                                   -\n",
            "    30 |      960 |  0.8382579611 |                                   -\n",
            "    31 |      992 |  0.8382579611 |                                   -\n",
            "    32 |     1024 |  0.8382579611 |                                   -\n",
            "Best AUC Score [0.83825796]\n",
            "Model parameters: \n",
            " [1.37101201e+02 2.26528062e+01 5.84915576e+01 3.22231791e-01\n",
            " 1.71132822e+05 2.32356204e-01 1.31628936e-01 9.51818141e-01\n",
            " 6.67800380e+01]\n"
          ]
        }
      ],
      "source": [
        "algorithm = PSO(#pop_size=POPULATION, \n",
        "                #w=0.3, c1=4.0, c2=1.0, \n",
        "                #adaptive=False, initial_velocity='random', \n",
        "                #max_velocity_rate=0.75, pertube_best=False,\n",
        "                max_velocity_rate=0.25,\n",
        "                pop_size=POPULATION)\n",
        "term = get_termination(\"n_gen\", ITERATIONS)\n",
        "\n",
        "res = minimize(problemAUC,\n",
        "               algorithm,\n",
        "               #seed=SEED,\n",
        "               save_history=True,\n",
        "               verbose=True,\n",
        "               output=MyOutput(),\n",
        "               termination = term)\n",
        "\n",
        "\n",
        "index_best_individual = np.where(res.pop.get('F') == np.min(res.pop.get('F')))[0][0]\n",
        "score_best_individual = res.pop.get('F')[index_best_individual]\n",
        "parameters_best_individual = res.pop.get('X')[index_best_individual]\n",
        "\n",
        "print(f'Best AUC Score {-score_best_individual}')\n",
        "print(f'Model parameters: \\n {parameters_best_individual}')"
      ]
    },
    {
      "cell_type": "code",
      "execution_count": 371,
      "metadata": {},
      "outputs": [
        {
          "data": {
            "image/png": "[encoded data removed]",
            "text/plain": [
              "<Figure size 800x550 with 1 Axes>"
            ]
          },
          "metadata": {},
          "output_type": "display_data"
        }
      ],
      "source": [
        "trlist = np.array([])\n",
        "for i in range(len(res.history)):\n",
        "  trlist = np.append(trlist, -res.history[i].pop.get('F').reshape(-1)) \n",
        "  \n",
        "scorelist = []\n",
        "\n",
        "for i in range(len(trlist)):\n",
        "#for i in range(1):\n",
        "  if i == 0:\n",
        "    scorelist.append(trlist[i])\n",
        "  elif trlist[i] > scorelist[i-1]:\n",
        "    scorelist.append(trlist[i])\n",
        "  else:\n",
        "    scorelist.append(scorelist[i-1])\n",
        "    \n",
        "AUC_PSO = scorelist\n",
        "\n",
        "plt.plot(scorelist);"
      ]
    },
    {
      "cell_type": "code",
      "execution_count": 372,
      "metadata": {},
      "outputs": [
        {
          "data": {
            "text/plain": [
              "[<matplotlib.lines.Line2D at 0x19fcb03ea50>]"
            ]
          },
          "execution_count": 372,
          "metadata": {},
          "output_type": "execute_result"
        },
        {
          "data": {
            "image/png": "[encoded data removed]",
            "text/plain": [
              "<Figure size 800x550 with 1 Axes>"
            ]
          },
          "metadata": {},
          "output_type": "display_data"
        }
      ],
      "source": [
        "tracking = [-np.min(individual.pop.get('F')) for individual in res.history ]\n",
        "tracking_PSO_AUC = tracking\n",
        "plt.plot(tracking)"
      ]
    },
    {
      "cell_type": "markdown",
      "metadata": {
        "id": "iTAAhn6w-Be4"
      },
      "source": [
        "## Algoritmo Genético (GA)"
      ]
    },
    {
      "attachments": {},
      "cell_type": "markdown",
      "metadata": {},
      "source": [
        "### Acurácia"
      ]
    },
    {
      "cell_type": "code",
      "execution_count": 373,
      "metadata": {
        "id": "1iXezRJUgWiM"
      },
      "outputs": [],
      "source": [
        "ITERATIONS = 32\n",
        "POPULATION = 32"
      ]
    },
    {
      "cell_type": "code",
      "execution_count": 374,
      "metadata": {
        "colab": {
          "base_uri": "https://localhost:8080/",
          "height": 848,
          "referenced_widgets": [
            "12434838d89048188eefe1af0332bfd6",
            "b6288aa156624b108015ab993c54d52b",
            "f45e5f0d4187404fb8f63acd3c26fe17",
            "aaa16b6dbffd42ef973b1826e5ed2242",
            "8721e5217b97444d948e5b85c6fd53c7",
            "d25235d18f8045de9948417d13538ef3",
            "01d3490253a8464281845cb171385d59",
            "7f079b743c6e4ad897ae55ba366a15b9",
            "54cbbc7ffbcc401abfbf3167f882019e",
            "d539e4a476cb4ae28e78769b17b97aa9",
            "fb379b55e7bd4b3bb7ed4b0ec6390b2e"
          ]
        },
        "id": "TK9YdWdMfAw3",
        "outputId": "60624262-0c77-4e32-8106-540ea70cd8f9"
      },
      "outputs": [
        {
          "name": "stderr",
          "output_type": "stream",
          "text": [
            "C:\\Users\\Felps\\AppData\\Local\\Temp\\ipykernel_13696\\3390466977.py:5: DeprecationWarning: Call to deprecated function (or staticmethod) get_termination. (Please use `from pymoo.termination import get_termination`)\n",
            "  term = get_termination(\"n_gen\", ITERATIONS)\n"
          ]
        },
        {
          "data": {
            "application/vnd.jupyter.widget-view+json": {
              "model_id": "d8278d4ee93a44888483492aa347e0cc",
              "version_major": 2,
              "version_minor": 0
            },
            "text/plain": [
              "  0%|          | 0/32 [00:00<?, ?it/s]"
            ]
          },
          "metadata": {},
          "output_type": "display_data"
        },
        {
          "name": "stdout",
          "output_type": "stream",
          "text": [
            "=======================================================================\n",
            "n_gen  |  n_eval  |     score     |              Parameters            \n",
            "=======================================================================\n",
            "     1 |       32 |  0.8394154998 |                                   -\n",
            "     2 |       64 |  0.8394154998 |                                   -\n",
            "     3 |       96 |  0.8405513411 |                                   -\n",
            "     4 |      128 |  0.8405818680 |                                   -\n",
            "     5 |      160 |  0.8409502317 |                                   -\n",
            "     6 |      192 |  0.8409810215 |                                   -\n",
            "     7 |      224 |  0.8417483775 |                                   -\n",
            "     8 |      256 |  0.8417483775 |                                   -\n",
            "     9 |      288 |  0.8418711522 |                                   -\n",
            "    10 |      320 |  0.8431293556 |                                   -\n",
            "    11 |      352 |  0.8431293556 |                                   -\n",
            "    12 |      384 |  0.8431293556 |                                   -\n",
            "    13 |      416 |  0.8431293556 |                                   -\n",
            "    14 |      448 |  0.8432828777 |                                   -\n",
            "    15 |      480 |  0.8432828777 |                                   -\n",
            "    16 |      512 |  0.8432828777 |                                   -\n",
            "    17 |      544 |  0.8432828777 |                                   -\n",
            "    18 |      576 |  0.8432828777 |                                   -\n",
            "    19 |      608 |  0.8432828777 |                                   -\n",
            "    20 |      640 |  0.8432828777 |                                   -\n",
            "    21 |      672 |  0.8432828777 |                                   -\n",
            "    22 |      704 |  0.8437433224 |                                   -\n",
            "    23 |      736 |  0.8437433224 |                                   -\n",
            "    24 |      768 |  0.8437433224 |                                   -\n",
            "    25 |      800 |  0.8437433224 |                                   -\n",
            "    26 |      832 |  0.8437433224 |                                   -\n",
            "    27 |      864 |  0.8437433224 |                                   -\n",
            "    28 |      896 |  0.8437433224 |                                   -\n",
            "    29 |      928 |  0.8437433224 |                                   -\n",
            "    30 |      960 |  0.8437433224 |                                   -\n",
            "    31 |      992 |  0.8437433224 |                                   -\n",
            "    32 |     1024 |  0.8437433224 |                                   -\n",
            "Best Accuracy Score [0.84374332]\n",
            "Model parameters: \n",
            " [6.22523840e+01 1.67178775e+01 1.36800051e+02 2.44593679e-01\n",
            " 7.63373712e+04 5.28716118e-02 6.55411493e-02 1.11457023e+00\n",
            " 1.46307924e+01]\n"
          ]
        }
      ],
      "source": [
        "from pymoo.algorithms.soo.nonconvex.ga import GA\n",
        "\n",
        "algorithm = GA(pop_size=POPULATION)\n",
        "\n",
        "term = get_termination(\"n_gen\", ITERATIONS)\n",
        "\n",
        "res = minimize(problemAccuracy,\n",
        "               algorithm,\n",
        "               save_history=True,\n",
        "               verbose=True,\n",
        "               output=MyOutput(),\n",
        "               termination = term)\n",
        "\n",
        "\n",
        "index_best_individual = np.where(res.pop.get('F') == np.min(res.pop.get('F')))[0][0]\n",
        "score_best_individual = res.pop.get('F')[index_best_individual]\n",
        "parameters_best_individual = res.pop.get('X')[index_best_individual]\n",
        "\n",
        "print(f'Best Accuracy Score {-score_best_individual}')\n",
        "print(f'Model parameters: \\n {parameters_best_individual}')"
      ]
    },
    {
      "cell_type": "code",
      "execution_count": 375,
      "metadata": {
        "colab": {
          "base_uri": "https://localhost:8080/",
          "height": 364
        },
        "id": "Aw1RtuhKgPkR",
        "outputId": "6b173010-6841-44be-fc9c-1e08c709308c"
      },
      "outputs": [
        {
          "data": {
            "text/plain": [
              "[<matplotlib.lines.Line2D at 0x19fcad3a8d0>]"
            ]
          },
          "execution_count": 375,
          "metadata": {},
          "output_type": "execute_result"
        },
        {
          "data": {
            "image/png": "[encoded data removed]",
            "text/plain": [
              "<Figure size 800x550 with 1 Axes>"
            ]
          },
          "metadata": {},
          "output_type": "display_data"
        }
      ],
      "source": [
        "tracking = [-np.min(individual.pop.get('F')) for individual in res.history ]\n",
        "tracking_GA_Accuracy = tracking\n",
        "plt.plot(tracking)"
      ]
    },
    {
      "cell_type": "code",
      "execution_count": 376,
      "metadata": {
        "id": "EuxPTJqU95Ib"
      },
      "outputs": [],
      "source": [
        "trlist = np.array([])\n",
        "for i in range(len(res.history)):\n",
        "  trlist = np.append(trlist, -res.history[i].pop.get('F').reshape(-1)) "
      ]
    },
    {
      "cell_type": "code",
      "execution_count": 377,
      "metadata": {
        "id": "COvG1svS97RF"
      },
      "outputs": [],
      "source": [
        "scorelist = []\n",
        "\n",
        "for i in range(len(trlist)):\n",
        "  if i == 0:\n",
        "    scorelist.append(trlist[i])\n",
        "  elif trlist[i] > scorelist[i-1]:\n",
        "    scorelist.append(trlist[i])\n",
        "  else:\n",
        "    scorelist.append(scorelist[i-1])"
      ]
    },
    {
      "cell_type": "code",
      "execution_count": 378,
      "metadata": {
        "id": "P4ubDrqPGUnS"
      },
      "outputs": [],
      "source": [
        "Accuracy_GA = scorelist"
      ]
    },
    {
      "cell_type": "code",
      "execution_count": 379,
      "metadata": {
        "colab": {
          "base_uri": "https://localhost:8080/",
          "height": 347
        },
        "id": "N3xxFM4e99pt",
        "outputId": "e0d19dc9-1416-42a5-c33f-945a66a17ee0"
      },
      "outputs": [
        {
          "data": {
            "image/png": "[encoded data removed]",
            "text/plain": [
              "<Figure size 800x550 with 1 Axes>"
            ]
          },
          "metadata": {},
          "output_type": "display_data"
        }
      ],
      "source": [
        "plt.plot(scorelist);"
      ]
    },
    {
      "attachments": {},
      "cell_type": "markdown",
      "metadata": {},
      "source": [
        "### F1 Score "
      ]
    },
    {
      "cell_type": "code",
      "execution_count": 380,
      "metadata": {},
      "outputs": [
        {
          "name": "stderr",
          "output_type": "stream",
          "text": [
            "C:\\Users\\Felps\\AppData\\Local\\Temp\\ipykernel_13696\\1745594656.py:5: DeprecationWarning: Call to deprecated function (or staticmethod) get_termination. (Please use `from pymoo.termination import get_termination`)\n",
            "  term = get_termination(\"n_gen\", ITERATIONS)\n"
          ]
        },
        {
          "data": {
            "application/vnd.jupyter.widget-view+json": {
              "model_id": "3e7b7683a710440981e4deb13ed89b3f",
              "version_major": 2,
              "version_minor": 0
            },
            "text/plain": [
              "  0%|          | 0/32 [00:00<?, ?it/s]"
            ]
          },
          "metadata": {},
          "output_type": "display_data"
        },
        {
          "name": "stdout",
          "output_type": "stream",
          "text": [
            "=======================================================================\n",
            "n_gen  |  n_eval  |     score     |              Parameters            \n",
            "=======================================================================\n",
            "     1 |       32 |  0.5582819984 |                                   -\n",
            "     2 |       64 |  0.5582819984 |                                   -\n",
            "     3 |       96 |  0.5582819984 |                                   -\n",
            "     4 |      128 |  0.5611743976 |                                   -\n",
            "     5 |      160 |  0.5611743976 |                                   -\n",
            "     6 |      192 |  0.5620141955 |                                   -\n",
            "     7 |      224 |  0.5639618482 |                                   -\n",
            "     8 |      256 |  0.5639618482 |                                   -\n",
            "     9 |      288 |  0.5662779871 |                                   -\n",
            "    10 |      320 |  0.5686952487 |                                   -\n",
            "    11 |      352 |  0.5686952487 |                                   -\n",
            "    12 |      384 |  0.5718870509 |                                   -\n",
            "    13 |      416 |  0.5718870509 |                                   -\n",
            "    14 |      448 |  0.5718870509 |                                   -\n",
            "    15 |      480 |  0.5718870509 |                                   -\n",
            "    16 |      512 |  0.5738911381 |                                   -\n",
            "    17 |      544 |  0.5738911381 |                                   -\n",
            "    18 |      576 |  0.5738911381 |                                   -\n",
            "    19 |      608 |  0.5738911381 |                                   -\n",
            "    20 |      640 |  0.5738911381 |                                   -\n"
          ]
        }
      ],
      "source": [
        "from pymoo.algorithms.soo.nonconvex.ga import GA\n",
        "\n",
        "algorithm = GA(pop_size=POPULATION)\n",
        "\n",
        "term = get_termination(\"n_gen\", ITERATIONS)\n",
        "\n",
        "res = minimize(problemF1,\n",
        "               algorithm,\n",
        "               save_history=True,\n",
        "               verbose=True,\n",
        "               output=MyOutput(),\n",
        "               termination = term)\n",
        "\n",
        "\n",
        "index_best_individual = np.where(res.pop.get('F') == np.min(res.pop.get('F')))[0][0]\n",
        "score_best_individual = res.pop.get('F')[index_best_individual]\n",
        "parameters_best_individual = res.pop.get('X')[index_best_individual]\n",
        "\n",
        "print(f'Best F1 Score {-score_best_individual}')\n",
        "print(f'Model parameters: \\n {parameters_best_individual}')"
      ]
    },
    {
      "cell_type": "code",
      "execution_count": null,
      "metadata": {},
      "outputs": [],
      "source": [
        "trlist = np.array([])\n",
        "for i in range(len(res.history)):\n",
        "  trlist = np.append(trlist, -res.history[i].pop.get('F').reshape(-1)) \n",
        "  \n",
        "scorelist = []\n",
        "\n",
        "for i in range(len(trlist)):\n",
        "#for i in range(1):\n",
        "  if i == 0:\n",
        "    scorelist.append(trlist[i])\n",
        "  elif trlist[i] > scorelist[i-1]:\n",
        "    scorelist.append(trlist[i])\n",
        "  else:\n",
        "    scorelist.append(scorelist[i-1])\n",
        "    \n",
        "F1_GA = scorelist\n",
        "\n",
        "plt.plot(scorelist);"
      ]
    },
    {
      "cell_type": "code",
      "execution_count": null,
      "metadata": {},
      "outputs": [],
      "source": [
        "tracking = [-np.min(individual.pop.get('F')) for individual in res.history ]\n",
        "tracking_GA_F1 = tracking\n",
        "plt.plot(tracking)"
      ]
    },
    {
      "attachments": {},
      "cell_type": "markdown",
      "metadata": {},
      "source": [
        "### AUC"
      ]
    },
    {
      "cell_type": "code",
      "execution_count": null,
      "metadata": {},
      "outputs": [],
      "source": [
        "from pymoo.algorithms.soo.nonconvex.ga import GA\n",
        "\n",
        "algorithm = GA(pop_size=POPULATION)\n",
        "\n",
        "term = get_termination(\"n_gen\", ITERATIONS)\n",
        "\n",
        "res = minimize(problemAUC,\n",
        "               algorithm,\n",
        "               save_history=True,\n",
        "               verbose=True,\n",
        "               output=MyOutput(),\n",
        "               termination = term)\n",
        "\n",
        "\n",
        "index_best_individual = np.where(res.pop.get('F') == np.min(res.pop.get('F')))[0][0]\n",
        "score_best_individual = res.pop.get('F')[index_best_individual]\n",
        "parameters_best_individual = res.pop.get('X')[index_best_individual]\n",
        "\n",
        "print(f'Best AUC Score {-score_best_individual}')\n",
        "print(f'Model parameters: \\n {parameters_best_individual}')"
      ]
    },
    {
      "cell_type": "code",
      "execution_count": null,
      "metadata": {},
      "outputs": [],
      "source": [
        "trlist = np.array([])\n",
        "for i in range(len(res.history)):\n",
        "  trlist = np.append(trlist, -res.history[i].pop.get('F').reshape(-1)) \n",
        "  \n",
        "scorelist = []\n",
        "\n",
        "for i in range(len(trlist)):\n",
        "#for i in range(1):\n",
        "  if i == 0:\n",
        "    scorelist.append(trlist[i])\n",
        "  elif trlist[i] > scorelist[i-1]:\n",
        "    scorelist.append(trlist[i])\n",
        "  else:\n",
        "    scorelist.append(scorelist[i-1])\n",
        "    \n",
        "AUC_GA = scorelist\n",
        "\n",
        "plt.plot(scorelist);"
      ]
    },
    {
      "cell_type": "code",
      "execution_count": null,
      "metadata": {},
      "outputs": [],
      "source": [
        "tracking = [-np.min(individual.pop.get('F')) for individual in res.history ]\n",
        "tracking_GA_AUC = tracking\n",
        "plt.plot(tracking)"
      ]
    },
    {
      "cell_type": "markdown",
      "metadata": {
        "id": "F-WtiEIO0kFu"
      },
      "source": [
        "## Grid Search"
      ]
    },
    {
      "attachments": {},
      "cell_type": "markdown",
      "metadata": {},
      "source": [
        "### Acurácia"
      ]
    },
    {
      "cell_type": "code",
      "execution_count": null,
      "metadata": {
        "id": "OvuV46Aa0dBR"
      },
      "outputs": [],
      "source": [
        "from sklearn.model_selection import GridSearchCV"
      ]
    },
    {
      "cell_type": "code",
      "execution_count": null,
      "metadata": {
        "colab": {
          "base_uri": "https://localhost:8080/"
        },
        "id": "X4nK3alPCEQm",
        "outputId": "ece560c4-eb7c-4e23-e62a-b9423bd07386"
      },
      "outputs": [],
      "source": [
        "n_possibilities = 2\n",
        "\n",
        "#num_leaves_grid = [i for i in range(num_leaves_min,num_leaves_max, int((num_leaves_max)/13))]\n",
        "num_leaves_grid = [i for i in map(lambda x: int(x), np.linspace(num_leaves_min, num_leaves_max, n_possibilities))]\n",
        "num_leaves_grid = num_leaves_grid + [100, 50, 75, 125, 11,150]\n",
        "print('Num_Leaves_Grid: ')\n",
        "print(num_leaves_grid, len(num_leaves_grid))\n",
        "print('\\n')\n",
        "\n",
        "\n",
        "min_child_samples_grid = [i for i in map(lambda x: int(x), np.linspace(min_child_samples_min, min_child_samples_max, n_possibilities))]\n",
        "print('min_child_samples_grid:')\n",
        "print(min_child_samples_grid, len(min_child_samples_grid))\n",
        "print('\\n')\n",
        "\n",
        "n_estimators_grid = [i for i in map(lambda x: int(x), np.linspace(n_estimators_min, n_estimators_max, n_possibilities))]\n",
        "print('n_estimators_grid:')\n",
        "print(n_estimators_grid, len(n_estimators_grid))\n",
        "print('\\n')\n",
        "\n",
        "learning_rate_grid = np.linspace(learning_rate_min, learning_rate_max, n_possibilities)\n",
        "print('learning_rate_grid:')\n",
        "print(learning_rate_grid, len(learning_rate_grid))\n",
        "print('\\n')\n",
        "\n",
        "subsample_for_bin_grid = [i for i in map(lambda x: int(x), np.linspace(subsample_for_bin_min, subsample_for_bin_max, n_possibilities))]\n",
        "print('subsample_for_bin_grid:')\n",
        "print(subsample_for_bin_grid, len(subsample_for_bin_grid))\n",
        "print('\\n')\n",
        "\n",
        "min_split_gain_grid = np.linspace(min_split_gain_min, min_split_gain_max, n_possibilities)\n",
        "print('min_split_gain_grid:')\n",
        "print(min_split_gain_grid, len(min_split_gain_grid))\n",
        "print('\\n')\n",
        "\n",
        "min_child_weight_grid = np.linspace(min_child_weight_min, min_child_weight_max, n_possibilities)\n",
        "print('min_child_weight_grid:')\n",
        "print(min_child_weight_grid, len(min_child_weight_grid))\n",
        "print('\\n')\n",
        "\n",
        "reg_alpha_grid = np.linspace(reg_alpha_min, reg_alpha_max, n_possibilities)\n",
        "print('reg_alpha_grid:')\n",
        "print(reg_alpha_grid, len(reg_alpha_grid))\n",
        "print('\\n')\n"
      ]
    },
    {
      "cell_type": "code",
      "execution_count": null,
      "metadata": {
        "id": "sWL2gq5M0jmq"
      },
      "outputs": [],
      "source": [
        "parametros = {'num_leaves': num_leaves_grid, #int\n",
        "              'min_child_samples': min_child_samples_grid,#int\n",
        "              'n_estimators': n_estimators_grid, #int\n",
        "              'learning_rate': learning_rate_grid,\n",
        "              'subsample_for_bin': subsample_for_bin_grid, # int\n",
        "              'min_split_gain': min_split_gain_grid,\n",
        "              'min_child_weight': min_child_weight_grid,\n",
        "              'reg_alpha': reg_alpha_grid,\n",
        "              'max_depth': [-1],\n",
        "              'n_jobs': [-1]}"
      ]
    },
    {
      "cell_type": "code",
      "execution_count": null,
      "metadata": {
        "colab": {
          "base_uri": "https://localhost:8080/"
        },
        "id": "Cg8ZpgTM0tK7",
        "outputId": "efa2aaa1-3397-45fe-83c3-2eea6127b6a7"
      },
      "outputs": [],
      "source": [
        "kfold = KFold(n_splits = 3, shuffle = True)\n",
        "grid_search = GridSearchCV(estimator = lgb.LGBMClassifier(), param_grid = parametros, cv = kfold, n_jobs= -1, verbose = 3)\n",
        "grid_search.fit(x_credit, y_credit)\n",
        "melhores_parametros = grid_search.best_params_\n",
        "melhor_resultado = grid_search.best_score_\n",
        "print(melhores_parametros)\n",
        "print(melhor_resultado)"
      ]
    },
    {
      "cell_type": "code",
      "execution_count": null,
      "metadata": {
        "colab": {
          "base_uri": "https://localhost:8080/"
        },
        "id": "ekOamIhnrFd5",
        "outputId": "4d91ab89-5f11-4dc4-d71b-3837ba0cd1e9"
      },
      "outputs": [],
      "source": [
        "grid_search.cv_results_.keys()"
      ]
    },
    {
      "cell_type": "code",
      "execution_count": null,
      "metadata": {
        "id": "uo45HhIasnc4"
      },
      "outputs": [],
      "source": [
        "trlist = grid_search.cv_results_['mean_test_score']"
      ]
    },
    {
      "cell_type": "code",
      "execution_count": null,
      "metadata": {
        "id": "k0PjBeFHIqKw"
      },
      "outputs": [],
      "source": [
        "scorelist = []\n",
        "\n",
        "for i in range(len(trlist)):\n",
        "#for i in range(1):\n",
        "  if i == 0:\n",
        "    scorelist.append(trlist[i])\n",
        "  elif trlist[i] > scorelist[i-1]:\n",
        "    scorelist.append(trlist[i])\n",
        "  else:\n",
        "    scorelist.append(scorelist[i-1])"
      ]
    },
    {
      "cell_type": "code",
      "execution_count": null,
      "metadata": {
        "colab": {
          "base_uri": "https://localhost:8080/"
        },
        "id": "xjb_n_Hkr3WK",
        "outputId": "91f6887b-7c92-4b1d-8719-825d2ce7d88e"
      },
      "outputs": [],
      "source": [
        "tracking_GS_Accuracy = scorelist\n",
        "plt.plot(scorelist); "
      ]
    },
    {
      "attachments": {},
      "cell_type": "markdown",
      "metadata": {},
      "source": [
        "### F1 Score"
      ]
    },
    {
      "cell_type": "code",
      "execution_count": null,
      "metadata": {},
      "outputs": [],
      "source": [
        "kfold = KFold(n_splits = 3, shuffle = True)\n",
        "grid_search = GridSearchCV(estimator = lgb.LGBMClassifier(), param_grid = parametros, cv = kfold, n_jobs= -1, scoring='f1', verbose = 3)\n",
        "grid_search.fit(x_credit, y_credit)\n",
        "melhores_parametros = grid_search.best_params_\n",
        "melhor_resultado = grid_search.best_score_\n",
        "print(melhores_parametros)\n",
        "print(melhor_resultado)\n",
        "\n",
        "trlist = grid_search.cv_results_['mean_test_score']\n",
        "\n",
        "\n",
        "scorelist = []\n",
        "\n",
        "for i in range(len(trlist)):\n",
        "#for i in range(1):\n",
        "  if i == 0:\n",
        "    scorelist.append(trlist[i])\n",
        "  elif trlist[i] > scorelist[i-1]:\n",
        "    scorelist.append(trlist[i])\n",
        "  else:\n",
        "    scorelist.append(scorelist[i-1])\n",
        "    \n",
        "tracking_GS_F1 = scorelist\n",
        "plt.plot(scorelist); "
      ]
    },
    {
      "attachments": {},
      "cell_type": "markdown",
      "metadata": {},
      "source": [
        "### AUC"
      ]
    },
    {
      "cell_type": "code",
      "execution_count": null,
      "metadata": {},
      "outputs": [],
      "source": [
        "kfold = KFold(n_splits = 3, shuffle = True)\n",
        "grid_search = GridSearchCV(estimator = lgb.LGBMClassifier(), param_grid = parametros, cv = kfold, n_jobs= -1, scoring='roc_auc', verbose = 3)\n",
        "grid_search.fit(x_credit, y_credit)\n",
        "melhores_parametros = grid_search.best_params_\n",
        "melhor_resultado = grid_search.best_score_\n",
        "print(melhores_parametros)\n",
        "print(melhor_resultado)\n",
        "\n",
        "trlist = grid_search.cv_results_['mean_test_score']\n",
        "\n",
        "\n",
        "scorelist = []\n",
        "\n",
        "for i in range(len(trlist)):\n",
        "#for i in range(1):\n",
        "  if i == 0:\n",
        "    scorelist.append(trlist[i])\n",
        "  elif trlist[i] > scorelist[i-1]:\n",
        "    scorelist.append(trlist[i])\n",
        "  else:\n",
        "    scorelist.append(scorelist[i-1])\n",
        "    \n",
        "tracking_GS_AUC = scorelist\n",
        "plt.plot(scorelist); "
      ]
    },
    {
      "cell_type": "markdown",
      "metadata": {
        "id": "vA6kphUO0vcT"
      },
      "source": [
        "## Optuna"
      ]
    },
    {
      "attachments": {},
      "cell_type": "markdown",
      "metadata": {},
      "source": [
        "### Acurácia"
      ]
    },
    {
      "cell_type": "code",
      "execution_count": null,
      "metadata": {
        "colab": {
          "base_uri": "https://localhost:8080/"
        },
        "id": "AtVNXGxotkiD",
        "outputId": "3eeeb6d4-9bc6-49eb-b3d6-7c9482852c52"
      },
      "outputs": [],
      "source": [
        "!pip install optuna"
      ]
    },
    {
      "cell_type": "code",
      "execution_count": null,
      "metadata": {
        "id": "X_R8NlJD0xYP"
      },
      "outputs": [],
      "source": [
        "import optuna\n",
        "import sklearn\n",
        "from sklearn import datasets\n",
        "def objective(trial):\n",
        "  \n",
        "      num_leaves = trial.suggest_int('num_leaves', num_leaves_min, num_leaves_max) #int\n",
        "      min_child_samples = trial.suggest_int('min_child_samples', min_child_samples_min, min_child_samples_max) #int\n",
        "      n_estimators      = trial.suggest_int('n_estimators', n_estimators_min, n_estimators_max)#int\n",
        "      learning_rate     = trial.suggest_float('learning_rate', learning_rate_min, learning_rate_max)\n",
        "      subsample_for_bin = trial.suggest_int('subsample_for_bin', subsample_for_bin_min, subsample_for_bin_max) #int\n",
        "      min_split_gain    = trial.suggest_float('min_split_gain', min_split_gain_min, min_split_gain_max)\n",
        "      min_child_weight  = trial.suggest_float('min_child_weight', min_child_weight_min, min_child_weight_max)\n",
        "      reg_alpha         = trial.suggest_float('reg_alpha', reg_alpha_min, reg_alpha_max)\n",
        "      reg_lambda        = trial.suggest_float('reg_lambda', reg_lambda_min, reg_lambda_max)\n",
        "\n",
        "      final_model = lgb.LGBMClassifier(num_leaves       = num_leaves, \n",
        "                                      min_child_samples = min_child_samples, \n",
        "                                      n_estimators      = n_estimators,\n",
        "                                      learning_rate     = learning_rate,\n",
        "                                      subsample_for_bin = subsample_for_bin,\n",
        "                                      min_split_gain    = min_split_gain,\n",
        "                                      min_child_weight  = min_child_weight,\n",
        "                                      reg_alpha         = reg_alpha,\n",
        "                                      reg_lambda        = reg_lambda,\n",
        "                                      max_depth= -1,\n",
        "                                      n_jobs = -1\n",
        "                                      )\n",
        "      \n",
        "      kfold = KFold(n_splits = 3, shuffle = True)\n",
        "\n",
        "      return sklearn.model_selection.cross_val_score(final_model, x_credit, y_credit, n_jobs=-1, cv=kfold).mean()"
      ]
    },
    {
      "cell_type": "code",
      "execution_count": null,
      "metadata": {
        "colab": {
          "base_uri": "https://localhost:8080/"
        },
        "id": "r62Ch5ng00NT",
        "outputId": "05e8015b-6c79-4043-daf8-028abeea7334"
      },
      "outputs": [],
      "source": [
        "study = optuna.create_study(direction='maximize')\n",
        "study.optimize(objective, n_trials=1024)"
      ]
    },
    {
      "cell_type": "code",
      "execution_count": null,
      "metadata": {
        "colab": {
          "base_uri": "https://localhost:8080/"
        },
        "id": "EDyF45aQ01hO",
        "outputId": "006c07d6-5d77-4859-aeeb-997dc6b2b1eb"
      },
      "outputs": [],
      "source": [
        "trial = study.best_trial\n",
        "print('Accuracy: {}'.format(trial.value))"
      ]
    },
    {
      "cell_type": "code",
      "execution_count": null,
      "metadata": {
        "colab": {
          "base_uri": "https://localhost:8080/"
        },
        "id": "B6F3ltb903Sg",
        "outputId": "72e3ea29-cf8f-4869-ccc9-ff16a3b79047"
      },
      "outputs": [],
      "source": [
        "print(\"Best hyperparameters: {}\".format(trial.params))"
      ]
    },
    {
      "cell_type": "code",
      "execution_count": null,
      "metadata": {
        "id": "odCO6YCmz1q4"
      },
      "outputs": [],
      "source": [
        "tracking = []\n",
        "for i in range(len(study.trials)):\n",
        "  if i == 0: \n",
        "    tracking.append(study.trials[i].value)\n",
        "  elif tracking[i-1] > study.trials[i].value:\n",
        "    tracking.append(tracking[i-1])\n",
        "  else:\n",
        "    tracking.append(study.trials[i].value)\n",
        "#tracking_sorted = sorted(tracking)"
      ]
    },
    {
      "cell_type": "code",
      "execution_count": null,
      "metadata": {
        "id": "ukqgm-fOHTVs"
      },
      "outputs": [],
      "source": [
        "tracking_Optuna_Accuracy = tracking"
      ]
    },
    {
      "cell_type": "code",
      "execution_count": null,
      "metadata": {
        "colab": {
          "base_uri": "https://localhost:8080/",
          "height": 347
        },
        "id": "L8cqXHz06SXp",
        "outputId": "e0ea3abf-1a22-479f-b12c-fa76bb91b4c6"
      },
      "outputs": [],
      "source": [
        "plt.plot(tracking);\n",
        "#plt.plot(tracking_sorted) "
      ]
    },
    {
      "cell_type": "code",
      "execution_count": null,
      "metadata": {
        "colab": {
          "base_uri": "https://localhost:8080/",
          "height": 542
        },
        "id": "dSnAebcQ04n8",
        "outputId": "e0275cf0-9485-43d1-af08-75042d2f3351"
      },
      "outputs": [],
      "source": [
        "#optuna.visualization.plot_optimization_history(study)"
      ]
    },
    {
      "cell_type": "code",
      "execution_count": null,
      "metadata": {
        "colab": {
          "base_uri": "https://localhost:8080/",
          "height": 562
        },
        "id": "PykRbFk506AF",
        "outputId": "b37580c8-b893-4d8f-f745-60affb470c52"
      },
      "outputs": [],
      "source": [
        "#optuna.visualization.plot_slice(study)"
      ]
    },
    {
      "attachments": {},
      "cell_type": "markdown",
      "metadata": {},
      "source": [
        "### F1 Score"
      ]
    },
    {
      "cell_type": "code",
      "execution_count": null,
      "metadata": {},
      "outputs": [],
      "source": [
        "def objective(trial):\n",
        "  \n",
        "      num_leaves = trial.suggest_int('num_leaves', num_leaves_min, num_leaves_max) #int\n",
        "      min_child_samples = trial.suggest_int('min_child_samples', min_child_samples_min, min_child_samples_max) #int\n",
        "      n_estimators      = trial.suggest_int('n_estimators', n_estimators_min, n_estimators_max)#int\n",
        "      learning_rate     = trial.suggest_float('learning_rate', learning_rate_min, learning_rate_max)\n",
        "      subsample_for_bin = trial.suggest_int('subsample_for_bin', subsample_for_bin_min, subsample_for_bin_max) #int\n",
        "      min_split_gain    = trial.suggest_float('min_split_gain', min_split_gain_min, min_split_gain_max)\n",
        "      min_child_weight  = trial.suggest_float('min_child_weight', min_child_weight_min, min_child_weight_max)\n",
        "      reg_alpha         = trial.suggest_float('reg_alpha', reg_alpha_min, reg_alpha_max)\n",
        "      reg_lambda        = trial.suggest_float('reg_lambda', reg_lambda_min, reg_lambda_max)\n",
        "\n",
        "      final_model = lgb.LGBMClassifier(num_leaves       = num_leaves, \n",
        "                                      min_child_samples = min_child_samples, \n",
        "                                      n_estimators      = n_estimators,\n",
        "                                      learning_rate     = learning_rate,\n",
        "                                      subsample_for_bin = subsample_for_bin,\n",
        "                                      min_split_gain    = min_split_gain,\n",
        "                                      min_child_weight  = min_child_weight,\n",
        "                                      reg_alpha         = reg_alpha,\n",
        "                                      reg_lambda        = reg_lambda,\n",
        "                                      max_depth= -1,\n",
        "                                      n_jobs = -1\n",
        "                                      )\n",
        "      \n",
        "      kfold = KFold(n_splits = 3, shuffle = True)\n",
        "\n",
        "      return sklearn.model_selection.cross_val_score(final_model, x_credit, y_credit, n_jobs=-1, scoring='f1', cv=kfold).mean()"
      ]
    },
    {
      "cell_type": "code",
      "execution_count": null,
      "metadata": {},
      "outputs": [],
      "source": [
        "study = optuna.create_study(direction='maximize')\n",
        "study.optimize(objective, n_trials=1024)\n",
        "\n",
        "trial = study.best_trial\n",
        "\n",
        "print('F1 Score: {}'.format(trial.value))\n",
        "print(\"Best hyperparameters: {}\".format(trial.params))\n",
        "\n",
        "tracking = []\n",
        "for i in range(len(study.trials)):\n",
        "  if i == 0: \n",
        "    tracking.append(study.trials[i].value)\n",
        "  elif tracking[i-1] > study.trials[i].value:\n",
        "    tracking.append(tracking[i-1])\n",
        "  else:\n",
        "    tracking.append(study.trials[i].value)\n",
        "#tracking_sorted = sorted(tracking)\n",
        "\n",
        "tracking_Optuna_F1 = tracking\n",
        "\n",
        "plt.plot(tracking);\n",
        "#plt.plot(tracking_sorted) "
      ]
    },
    {
      "attachments": {},
      "cell_type": "markdown",
      "metadata": {},
      "source": [
        "### AUC"
      ]
    },
    {
      "cell_type": "code",
      "execution_count": null,
      "metadata": {},
      "outputs": [],
      "source": [
        "def objective(trial):\n",
        "  \n",
        "      num_leaves = trial.suggest_int('num_leaves', num_leaves_min, num_leaves_max) #int\n",
        "      min_child_samples = trial.suggest_int('min_child_samples', min_child_samples_min, min_child_samples_max) #int\n",
        "      n_estimators      = trial.suggest_int('n_estimators', n_estimators_min, n_estimators_max)#int\n",
        "      learning_rate     = trial.suggest_float('learning_rate', learning_rate_min, learning_rate_max)\n",
        "      subsample_for_bin = trial.suggest_int('subsample_for_bin', subsample_for_bin_min, subsample_for_bin_max) #int\n",
        "      min_split_gain    = trial.suggest_float('min_split_gain', min_split_gain_min, min_split_gain_max)\n",
        "      min_child_weight  = trial.suggest_float('min_child_weight', min_child_weight_min, min_child_weight_max)\n",
        "      reg_alpha         = trial.suggest_float('reg_alpha', reg_alpha_min, reg_alpha_max)\n",
        "      reg_lambda        = trial.suggest_float('reg_lambda', reg_lambda_min, reg_lambda_max)\n",
        "\n",
        "      final_model = lgb.LGBMClassifier(num_leaves       = num_leaves, \n",
        "                                      min_child_samples = min_child_samples, \n",
        "                                      n_estimators      = n_estimators,\n",
        "                                      learning_rate     = learning_rate,\n",
        "                                      subsample_for_bin = subsample_for_bin,\n",
        "                                      min_split_gain    = min_split_gain,\n",
        "                                      min_child_weight  = min_child_weight,\n",
        "                                      reg_alpha         = reg_alpha,\n",
        "                                      reg_lambda        = reg_lambda,\n",
        "                                      max_depth= -1,\n",
        "                                      n_jobs = -1\n",
        "                                      )\n",
        "      \n",
        "      kfold = KFold(n_splits = 3, shuffle = True)\n",
        "\n",
        "      return sklearn.model_selection.cross_val_score(final_model, x_credit, y_credit, n_jobs=-1, scoring='roc_auc', cv=kfold).mean()"
      ]
    },
    {
      "cell_type": "code",
      "execution_count": null,
      "metadata": {},
      "outputs": [],
      "source": [
        "study = optuna.create_study(direction='maximize')\n",
        "study.optimize(objective, n_trials=1024)\n",
        "\n",
        "trial = study.best_trial\n",
        "\n",
        "print('AUC: {}'.format(trial.value))\n",
        "print(\"Best hyperparameters: {}\".format(trial.params))\n",
        "\n",
        "tracking = []\n",
        "for i in range(len(study.trials)):\n",
        "  if i == 0: \n",
        "    tracking.append(study.trials[i].value)\n",
        "  elif tracking[i-1] > study.trials[i].value:\n",
        "    tracking.append(tracking[i-1])\n",
        "  else:\n",
        "    tracking.append(study.trials[i].value)\n",
        "#tracking_sorted = sorted(tracking)\n",
        "\n",
        "tracking_Optuna_AUC = tracking\n",
        "\n",
        "plt.plot(tracking);\n",
        "#plt.plot(tracking_sorted) "
      ]
    },
    {
      "cell_type": "markdown",
      "metadata": {
        "id": "O554Q6QTEVSZ"
      },
      "source": [
        "# Análise Comparativa"
      ]
    },
    {
      "cell_type": "code",
      "execution_count": null,
      "metadata": {
        "colab": {
          "base_uri": "https://localhost:8080/",
          "height": 335
        },
        "id": "fQLG5-KOEa-j",
        "outputId": "475764bd-0f8b-4a28-dfbc-06b9f8e93d0d"
      },
      "outputs": [],
      "source": [
        "fig, (ax1, ax2) = plt.subplots(1, 2, figsize=(20,5))\n",
        "\n",
        "ax1.set_title('PSO X Gerações')\n",
        "ax2.set_title('PSO X Avaliações')\n",
        "\n",
        "ax1.plot(tracking_PSO_Accuracy)\n",
        "ax2.plot(Accuracy_PSO)\n",
        "plt.show()"
      ]
    },
    {
      "cell_type": "code",
      "execution_count": null,
      "metadata": {
        "colab": {
          "base_uri": "https://localhost:8080/",
          "height": 335
        },
        "id": "rQXRvTMeGdtO",
        "outputId": "3e5b32fe-6843-4453-c4c0-c72f988355e3"
      },
      "outputs": [],
      "source": [
        "fig, (ax1, ax2) = plt.subplots(1, 2, figsize=(20,5))\n",
        "\n",
        "ax1.set_title('GA X Gerações')\n",
        "ax2.set_title('GA X Avaliações')\n",
        "\n",
        "ax1.plot(tracking_GA_Accuracy)\n",
        "ax2.plot(Accuracy_GA)\n",
        "plt.show()"
      ]
    },
    {
      "attachments": {},
      "cell_type": "markdown",
      "metadata": {},
      "source": [
        "Gráficos Comparativos Acurácia"
      ]
    },
    {
      "cell_type": "code",
      "execution_count": null,
      "metadata": {
        "colab": {
          "base_uri": "https://localhost:8080/",
          "height": 592
        },
        "id": "wPAE1qekG2QL",
        "outputId": "ed21fdf7-0168-43ed-be6f-6a7d40ee56a7"
      },
      "outputs": [],
      "source": [
        "from IPython.core.pylabtools import figsize\n",
        "from matplotlib.pyplot import figure\n",
        "import matplotlib.patches as mpatches\n",
        "\n",
        "plt.figure(figsize=(12, 6))\n",
        "red_patch = mpatches.Patch(color='red', label='PSO')\n",
        "blue_patch = mpatches.Patch(color='blue', label='GA')\n",
        "green_patch = mpatches.Patch(color='green', label='Optuna')\n",
        "#black_patch = mpatches.Patch(color='black', label='GridSearch')\n",
        "\n",
        "plt.legend(handles=[red_patch, blue_patch, green_patch, black_patch])\n",
        "plt.plot(tracking_GA_Accuracy, color = 'blue', linewidth=1, linestyle='-', )\n",
        "plt.plot(tracking_PSO_Accuracy, color = 'red', linewidth=1, linestyle='-')\n",
        "plt.plot(tracking_Optuna_Accuracy, color = 'green', linewidth=1, linestyle='-')\n",
        "#plt.plot(tracking_GS, color = 'black', linewidth=3, linestyle='-')\n",
        "plt.show()"
      ]
    },
    {
      "cell_type": "code",
      "execution_count": null,
      "metadata": {
        "colab": {
          "base_uri": "https://localhost:8080/",
          "height": 901
        },
        "id": "hkxfnJJoKHia",
        "outputId": "b1c67284-9c27-4868-c7c1-54368e704ec5"
      },
      "outputs": [],
      "source": [
        "fig, ax = plt.subplots(2, 2, figsize=(25,15))\n",
        "\n",
        "ax[0, 0].set_title(f'Genetic Algorithm (GA) - Accuracy: {max(tracking_GA_Accuracy)}', fontdict={'fontsize': 20, 'fontweight': 'medium'})\n",
        "ax[0, 1].set_title(f'Particle Swarm Optimization (PSO) - Accuracy: {max(tracking_PSO_Accuracy)}', fontdict={'fontsize': 20, 'fontweight': 'medium'})\n",
        "\n",
        "ax[1, 0].set_title(f'Grid Search - Accuracy: {max(tracking_GS_Accuracy)}', fontdict={'fontsize': 20, 'fontweight': 'medium'})\n",
        "ax[1, 1].set_title(f'Optuna - Accuracy: {max(tracking_Optuna_Accuracy)}', fontdict={'fontsize': 20, 'fontweight': 'medium'})\n",
        "\n",
        "ax[0,0].plot(tracking_GA_Accuracy, color = 'blue', linewidth=3, linestyle='-', )\n",
        "ax[0,1].plot(tracking_PSO_Accuracy, color = 'red', linewidth=3, linestyle='-')\n",
        "\n",
        "ax[1,0].plot(tracking_GS_Accuracy, color = 'black', linewidth=3, linestyle='-')\n",
        "ax[1,1].plot(tracking_Optuna_Accuracy, color = 'green', linewidth=3, linestyle='-')\n"
      ]
    },
    {
      "attachments": {},
      "cell_type": "markdown",
      "metadata": {},
      "source": [
        "F1 score"
      ]
    },
    {
      "cell_type": "code",
      "execution_count": null,
      "metadata": {},
      "outputs": [],
      "source": [
        "plt.figure(figsize=(12, 6))\n",
        "red_patch = mpatches.Patch(color='red', label='PSO')\n",
        "blue_patch = mpatches.Patch(color='blue', label='GA')\n",
        "green_patch = mpatches.Patch(color='green', label='Optuna')\n",
        "#black_patch = mpatches.Patch(color='black', label='GridSearch')\n",
        "\n",
        "plt.legend(handles=[red_patch, blue_patch, green_patch, black_patch])\n",
        "plt.plot(tracking_GA_F1, color = 'blue', linewidth=1, linestyle='-', )\n",
        "plt.plot(tracking_PSO_F1, color = 'red', linewidth=1, linestyle='-')\n",
        "plt.plot(tracking_Optuna_F1, color = 'green', linewidth=1, linestyle='-')\n",
        "#plt.plot(tracking_GS, color = 'black', linewidth=3, linestyle='-')\n",
        "plt.show()"
      ]
    },
    {
      "cell_type": "code",
      "execution_count": null,
      "metadata": {},
      "outputs": [],
      "source": [
        "fig, ax = plt.subplots(2, 2, figsize=(25,15))\n",
        "\n",
        "ax[0, 0].set_title(f'Genetic Algorithm (GA) - Accuracy: {max(tracking_GA_F1)}', fontdict={'fontsize': 20, 'fontweight': 'medium'})\n",
        "ax[0, 1].set_title(f'Particle Swarm Optimization (PSO) - Accuracy: {max(tracking_PSO_F1)}', fontdict={'fontsize': 20, 'fontweight': 'medium'})\n",
        "\n",
        "ax[1, 0].set_title(f'Grid Search - Accuracy: {max(tracking_GS_F1)}', fontdict={'fontsize': 20, 'fontweight': 'medium'})\n",
        "ax[1, 1].set_title(f'Optuna - Accuracy: {max(tracking_Optuna_F1)}', fontdict={'fontsize': 20, 'fontweight': 'medium'})\n",
        "\n",
        "ax[0,0].plot(tracking_GA_F1, color = 'blue', linewidth=3, linestyle='-', )\n",
        "ax[0,1].plot(tracking_PSO_F1, color = 'red', linewidth=3, linestyle='-')\n",
        "\n",
        "ax[1,0].plot(tracking_GS_F1, color = 'black', linewidth=3, linestyle='-')\n",
        "ax[1,1].plot(tracking_Optuna_F1, color = 'green', linewidth=3, linestyle='-')\n"
      ]
    },
    {
      "attachments": {},
      "cell_type": "markdown",
      "metadata": {},
      "source": [
        "ROC AUC"
      ]
    },
    {
      "cell_type": "code",
      "execution_count": null,
      "metadata": {},
      "outputs": [],
      "source": [
        "plt.figure(figsize=(12, 6))\n",
        "red_patch = mpatches.Patch(color='red', label='PSO')\n",
        "blue_patch = mpatches.Patch(color='blue', label='GA')\n",
        "green_patch = mpatches.Patch(color='green', label='Optuna')\n",
        "#black_patch = mpatches.Patch(color='black', label='GridSearch')\n",
        "\n",
        "plt.legend(handles=[red_patch, blue_patch, green_patch, black_patch])\n",
        "plt.plot(tracking_GA_AUC, color = 'blue', linewidth=1, linestyle='-', )\n",
        "plt.plot(tracking_PSO_AUC, color = 'red', linewidth=1, linestyle='-')\n",
        "plt.plot(tracking_Optuna_AUC, color = 'green', linewidth=1, linestyle='-')\n",
        "#plt.plot(tracking_GS, color = 'black', linewidth=3, linestyle='-')\n",
        "plt.show()"
      ]
    },
    {
      "cell_type": "code",
      "execution_count": null,
      "metadata": {},
      "outputs": [],
      "source": [
        "fig, ax = plt.subplots(2, 2, figsize=(25,15))\n",
        "\n",
        "ax[0, 0].set_title(f'Genetic Algorithm (GA) - Accuracy: {max(tracking_GA_AUC)}', fontdict={'fontsize': 20, 'fontweight': 'medium'})\n",
        "ax[0, 1].set_title(f'Particle Swarm Optimization (PSO) - Accuracy: {max(tracking_PSO_AUC)}', fontdict={'fontsize': 20, 'fontweight': 'medium'})\n",
        "\n",
        "ax[1, 0].set_title(f'Grid Search - Accuracy: {max(tracking_GS_AUC)}', fontdict={'fontsize': 20, 'fontweight': 'medium'})\n",
        "ax[1, 1].set_title(f'Optuna - Accuracy: {max(tracking_Optuna_AUC)}', fontdict={'fontsize': 20, 'fontweight': 'medium'})\n",
        "\n",
        "ax[0,0].plot(tracking_GA_AUC, color = 'blue', linewidth=3, linestyle='-', )\n",
        "ax[0,1].plot(tracking_PSO_AUC, color = 'red', linewidth=3, linestyle='-')\n",
        "\n",
        "ax[1,0].plot(tracking_GS_AUC, color = 'black', linewidth=3, linestyle='-')\n",
        "ax[1,1].plot(tracking_Optuna_AUC, color = 'green', linewidth=3, linestyle='-')\n"
      ]
    }
  ],
  "metadata": {
    "colab": {
      "collapsed_sections": [
        "_HsPc7BH-MWL",
        "iTAAhn6w-Be4",
        "F-WtiEIO0kFu",
        "vA6kphUO0vcT"
      ],
      "provenance": []
    },
    "kernelspec": {
      "display_name": "Python 3",
      "language": "python",
      "name": "python3"
    },
    "language_info": {
      "codemirror_mode": {
        "name": "ipython",
        "version": 3
      },
      "file_extension": ".py",
      "mimetype": "text/x-python",
      "name": "python",
      "nbconvert_exporter": "python",
      "pygments_lexer": "ipython3",
      "version": "3.11.1"
    },
    "vscode": {
      "interpreter": {
        "hash": "8a5ac1e257a3445902302263f7bb85e3e096a16fcac665c553104f20e5a7c6c3"
      }
    },
    "widgets": {
      "application/vnd.jupyter.widget-state+json": {
        "01d3490253a8464281845cb171385d59": {
          "model_module": "@jupyter-widgets/controls",
          "model_module_version": "1.5.0",
          "model_name": "DescriptionStyleModel",
          "state": {
            "_model_module": "@jupyter-widgets/controls",
            "_model_module_version": "1.5.0",
            "_model_name": "DescriptionStyleModel",
            "_view_count": null,
            "_view_module": "@jupyter-widgets/base",
            "_view_module_version": "1.2.0",
            "_view_name": "StyleView",
            "description_width": ""
          }
        },
        "12434838d89048188eefe1af0332bfd6": {
          "model_module": "@jupyter-widgets/controls",
          "model_module_version": "1.5.0",
          "model_name": "HBoxModel",
          "state": {
            "_dom_classes": [],
            "_model_module": "@jupyter-widgets/controls",
            "_model_module_version": "1.5.0",
            "_model_name": "HBoxModel",
            "_view_count": null,
            "_view_module": "@jupyter-widgets/controls",
            "_view_module_version": "1.5.0",
            "_view_name": "HBoxView",
            "box_style": "",
            "children": [
              "IPY_MODEL_b6288aa156624b108015ab993c54d52b",
              "IPY_MODEL_f45e5f0d4187404fb8f63acd3c26fe17",
              "IPY_MODEL_aaa16b6dbffd42ef973b1826e5ed2242"
            ],
            "layout": "IPY_MODEL_8721e5217b97444d948e5b85c6fd53c7"
          }
        },
        "124e5b4b5b3344f4abdc93628b112d8f": {
          "model_module": "@jupyter-widgets/controls",
          "model_module_version": "1.5.0",
          "model_name": "DescriptionStyleModel",
          "state": {
            "_model_module": "@jupyter-widgets/controls",
            "_model_module_version": "1.5.0",
            "_model_name": "DescriptionStyleModel",
            "_view_count": null,
            "_view_module": "@jupyter-widgets/base",
            "_view_module_version": "1.2.0",
            "_view_name": "StyleView",
            "description_width": ""
          }
        },
        "1614757884124ed487149ebed485833f": {
          "model_module": "@jupyter-widgets/base",
          "model_module_version": "1.2.0",
          "model_name": "LayoutModel",
          "state": {
            "_model_module": "@jupyter-widgets/base",
            "_model_module_version": "1.2.0",
            "_model_name": "LayoutModel",
            "_view_count": null,
            "_view_module": "@jupyter-widgets/base",
            "_view_module_version": "1.2.0",
            "_view_name": "LayoutView",
            "align_content": null,
            "align_items": null,
            "align_self": null,
            "border": null,
            "bottom": null,
            "display": null,
            "flex": null,
            "flex_flow": null,
            "grid_area": null,
            "grid_auto_columns": null,
            "grid_auto_flow": null,
            "grid_auto_rows": null,
            "grid_column": null,
            "grid_gap": null,
            "grid_row": null,
            "grid_template_areas": null,
            "grid_template_columns": null,
            "grid_template_rows": null,
            "height": null,
            "justify_content": null,
            "justify_items": null,
            "left": null,
            "margin": null,
            "max_height": null,
            "max_width": null,
            "min_height": null,
            "min_width": null,
            "object_fit": null,
            "object_position": null,
            "order": null,
            "overflow": null,
            "overflow_x": null,
            "overflow_y": null,
            "padding": null,
            "right": null,
            "top": null,
            "visibility": null,
            "width": null
          }
        },
        "1a32143976c744e5a388d7b343e7c054": {
          "model_module": "@jupyter-widgets/controls",
          "model_module_version": "1.5.0",
          "model_name": "DescriptionStyleModel",
          "state": {
            "_model_module": "@jupyter-widgets/controls",
            "_model_module_version": "1.5.0",
            "_model_name": "DescriptionStyleModel",
            "_view_count": null,
            "_view_module": "@jupyter-widgets/base",
            "_view_module_version": "1.2.0",
            "_view_name": "StyleView",
            "description_width": ""
          }
        },
        "20a38960e7374ab594f04f4b1c5e2321": {
          "model_module": "@jupyter-widgets/controls",
          "model_module_version": "1.5.0",
          "model_name": "HTMLModel",
          "state": {
            "_dom_classes": [],
            "_model_module": "@jupyter-widgets/controls",
            "_model_module_version": "1.5.0",
            "_model_name": "HTMLModel",
            "_view_count": null,
            "_view_module": "@jupyter-widgets/controls",
            "_view_module_version": "1.5.0",
            "_view_name": "HTMLView",
            "description": "",
            "description_tooltip": null,
            "layout": "IPY_MODEL_6f29547455ac4adb8edaa11d5839f5cb",
            "placeholder": "​",
            "style": "IPY_MODEL_1a32143976c744e5a388d7b343e7c054",
            "value": "100%"
          }
        },
        "54cbbc7ffbcc401abfbf3167f882019e": {
          "model_module": "@jupyter-widgets/controls",
          "model_module_version": "1.5.0",
          "model_name": "ProgressStyleModel",
          "state": {
            "_model_module": "@jupyter-widgets/controls",
            "_model_module_version": "1.5.0",
            "_model_name": "ProgressStyleModel",
            "_view_count": null,
            "_view_module": "@jupyter-widgets/base",
            "_view_module_version": "1.2.0",
            "_view_name": "StyleView",
            "bar_color": null,
            "description_width": ""
          }
        },
        "6f124da663194ac0b073ab7a3fb168c3": {
          "model_module": "@jupyter-widgets/controls",
          "model_module_version": "1.5.0",
          "model_name": "ProgressStyleModel",
          "state": {
            "_model_module": "@jupyter-widgets/controls",
            "_model_module_version": "1.5.0",
            "_model_name": "ProgressStyleModel",
            "_view_count": null,
            "_view_module": "@jupyter-widgets/base",
            "_view_module_version": "1.2.0",
            "_view_name": "StyleView",
            "bar_color": null,
            "description_width": ""
          }
        },
        "6f29547455ac4adb8edaa11d5839f5cb": {
          "model_module": "@jupyter-widgets/base",
          "model_module_version": "1.2.0",
          "model_name": "LayoutModel",
          "state": {
            "_model_module": "@jupyter-widgets/base",
            "_model_module_version": "1.2.0",
            "_model_name": "LayoutModel",
            "_view_count": null,
            "_view_module": "@jupyter-widgets/base",
            "_view_module_version": "1.2.0",
            "_view_name": "LayoutView",
            "align_content": null,
            "align_items": null,
            "align_self": null,
            "border": null,
            "bottom": null,
            "display": null,
            "flex": null,
            "flex_flow": null,
            "grid_area": null,
            "grid_auto_columns": null,
            "grid_auto_flow": null,
            "grid_auto_rows": null,
            "grid_column": null,
            "grid_gap": null,
            "grid_row": null,
            "grid_template_areas": null,
            "grid_template_columns": null,
            "grid_template_rows": null,
            "height": null,
            "justify_content": null,
            "justify_items": null,
            "left": null,
            "margin": null,
            "max_height": null,
            "max_width": null,
            "min_height": null,
            "min_width": null,
            "object_fit": null,
            "object_position": null,
            "order": null,
            "overflow": null,
            "overflow_x": null,
            "overflow_y": null,
            "padding": null,
            "right": null,
            "top": null,
            "visibility": null,
            "width": null
          }
        },
        "76b3046c318d4fbcb66b198b50cd91e7": {
          "model_module": "@jupyter-widgets/base",
          "model_module_version": "1.2.0",
          "model_name": "LayoutModel",
          "state": {
            "_model_module": "@jupyter-widgets/base",
            "_model_module_version": "1.2.0",
            "_model_name": "LayoutModel",
            "_view_count": null,
            "_view_module": "@jupyter-widgets/base",
            "_view_module_version": "1.2.0",
            "_view_name": "LayoutView",
            "align_content": null,
            "align_items": null,
            "align_self": null,
            "border": null,
            "bottom": null,
            "display": null,
            "flex": null,
            "flex_flow": null,
            "grid_area": null,
            "grid_auto_columns": null,
            "grid_auto_flow": null,
            "grid_auto_rows": null,
            "grid_column": null,
            "grid_gap": null,
            "grid_row": null,
            "grid_template_areas": null,
            "grid_template_columns": null,
            "grid_template_rows": null,
            "height": null,
            "justify_content": null,
            "justify_items": null,
            "left": null,
            "margin": null,
            "max_height": null,
            "max_width": null,
            "min_height": null,
            "min_width": null,
            "object_fit": null,
            "object_position": null,
            "order": null,
            "overflow": null,
            "overflow_x": null,
            "overflow_y": null,
            "padding": null,
            "right": null,
            "top": null,
            "visibility": null,
            "width": null
          }
        },
        "7c3472a6094a4249a082f8dc630e5258": {
          "model_module": "@jupyter-widgets/controls",
          "model_module_version": "1.5.0",
          "model_name": "FloatProgressModel",
          "state": {
            "_dom_classes": [],
            "_model_module": "@jupyter-widgets/controls",
            "_model_module_version": "1.5.0",
            "_model_name": "FloatProgressModel",
            "_view_count": null,
            "_view_module": "@jupyter-widgets/controls",
            "_view_module_version": "1.5.0",
            "_view_name": "ProgressView",
            "bar_style": "success",
            "description": "",
            "description_tooltip": null,
            "layout": "IPY_MODEL_1614757884124ed487149ebed485833f",
            "max": 32,
            "min": 0,
            "orientation": "horizontal",
            "style": "IPY_MODEL_6f124da663194ac0b073ab7a3fb168c3",
            "value": 32
          }
        },
        "7f079b743c6e4ad897ae55ba366a15b9": {
          "model_module": "@jupyter-widgets/base",
          "model_module_version": "1.2.0",
          "model_name": "LayoutModel",
          "state": {
            "_model_module": "@jupyter-widgets/base",
            "_model_module_version": "1.2.0",
            "_model_name": "LayoutModel",
            "_view_count": null,
            "_view_module": "@jupyter-widgets/base",
            "_view_module_version": "1.2.0",
            "_view_name": "LayoutView",
            "align_content": null,
            "align_items": null,
            "align_self": null,
            "border": null,
            "bottom": null,
            "display": null,
            "flex": null,
            "flex_flow": null,
            "grid_area": null,
            "grid_auto_columns": null,
            "grid_auto_flow": null,
            "grid_auto_rows": null,
            "grid_column": null,
            "grid_gap": null,
            "grid_row": null,
            "grid_template_areas": null,
            "grid_template_columns": null,
            "grid_template_rows": null,
            "height": null,
            "justify_content": null,
            "justify_items": null,
            "left": null,
            "margin": null,
            "max_height": null,
            "max_width": null,
            "min_height": null,
            "min_width": null,
            "object_fit": null,
            "object_position": null,
            "order": null,
            "overflow": null,
            "overflow_x": null,
            "overflow_y": null,
            "padding": null,
            "right": null,
            "top": null,
            "visibility": null,
            "width": null
          }
        },
        "8721e5217b97444d948e5b85c6fd53c7": {
          "model_module": "@jupyter-widgets/base",
          "model_module_version": "1.2.0",
          "model_name": "LayoutModel",
          "state": {
            "_model_module": "@jupyter-widgets/base",
            "_model_module_version": "1.2.0",
            "_model_name": "LayoutModel",
            "_view_count": null,
            "_view_module": "@jupyter-widgets/base",
            "_view_module_version": "1.2.0",
            "_view_name": "LayoutView",
            "align_content": null,
            "align_items": null,
            "align_self": null,
            "border": null,
            "bottom": null,
            "display": null,
            "flex": null,
            "flex_flow": null,
            "grid_area": null,
            "grid_auto_columns": null,
            "grid_auto_flow": null,
            "grid_auto_rows": null,
            "grid_column": null,
            "grid_gap": null,
            "grid_row": null,
            "grid_template_areas": null,
            "grid_template_columns": null,
            "grid_template_rows": null,
            "height": null,
            "justify_content": null,
            "justify_items": null,
            "left": null,
            "margin": null,
            "max_height": null,
            "max_width": null,
            "min_height": null,
            "min_width": null,
            "object_fit": null,
            "object_position": null,
            "order": null,
            "overflow": null,
            "overflow_x": null,
            "overflow_y": null,
            "padding": null,
            "right": null,
            "top": null,
            "visibility": null,
            "width": null
          }
        },
        "992dda0d38b145b88946b67edc62ab57": {
          "model_module": "@jupyter-widgets/base",
          "model_module_version": "1.2.0",
          "model_name": "LayoutModel",
          "state": {
            "_model_module": "@jupyter-widgets/base",
            "_model_module_version": "1.2.0",
            "_model_name": "LayoutModel",
            "_view_count": null,
            "_view_module": "@jupyter-widgets/base",
            "_view_module_version": "1.2.0",
            "_view_name": "LayoutView",
            "align_content": null,
            "align_items": null,
            "align_self": null,
            "border": null,
            "bottom": null,
            "display": null,
            "flex": null,
            "flex_flow": null,
            "grid_area": null,
            "grid_auto_columns": null,
            "grid_auto_flow": null,
            "grid_auto_rows": null,
            "grid_column": null,
            "grid_gap": null,
            "grid_row": null,
            "grid_template_areas": null,
            "grid_template_columns": null,
            "grid_template_rows": null,
            "height": null,
            "justify_content": null,
            "justify_items": null,
            "left": null,
            "margin": null,
            "max_height": null,
            "max_width": null,
            "min_height": null,
            "min_width": null,
            "object_fit": null,
            "object_position": null,
            "order": null,
            "overflow": null,
            "overflow_x": null,
            "overflow_y": null,
            "padding": null,
            "right": null,
            "top": null,
            "visibility": null,
            "width": null
          }
        },
        "aaa16b6dbffd42ef973b1826e5ed2242": {
          "model_module": "@jupyter-widgets/controls",
          "model_module_version": "1.5.0",
          "model_name": "HTMLModel",
          "state": {
            "_dom_classes": [],
            "_model_module": "@jupyter-widgets/controls",
            "_model_module_version": "1.5.0",
            "_model_name": "HTMLModel",
            "_view_count": null,
            "_view_module": "@jupyter-widgets/controls",
            "_view_module_version": "1.5.0",
            "_view_name": "HTMLView",
            "description": "",
            "description_tooltip": null,
            "layout": "IPY_MODEL_d539e4a476cb4ae28e78769b17b97aa9",
            "placeholder": "​",
            "style": "IPY_MODEL_fb379b55e7bd4b3bb7ed4b0ec6390b2e",
            "value": " 32/32 [48:44&lt;00:00, 118.10s/it]"
          }
        },
        "ae818704a52542d696c8eb0c1c182a81": {
          "model_module": "@jupyter-widgets/controls",
          "model_module_version": "1.5.0",
          "model_name": "HTMLModel",
          "state": {
            "_dom_classes": [],
            "_model_module": "@jupyter-widgets/controls",
            "_model_module_version": "1.5.0",
            "_model_name": "HTMLModel",
            "_view_count": null,
            "_view_module": "@jupyter-widgets/controls",
            "_view_module_version": "1.5.0",
            "_view_name": "HTMLView",
            "description": "",
            "description_tooltip": null,
            "layout": "IPY_MODEL_76b3046c318d4fbcb66b198b50cd91e7",
            "placeholder": "​",
            "style": "IPY_MODEL_124e5b4b5b3344f4abdc93628b112d8f",
            "value": " 32/32 [15:48&lt;00:00, 30.29s/it]"
          }
        },
        "b504307a10f54034ad07715278fa1dbc": {
          "model_module": "@jupyter-widgets/controls",
          "model_module_version": "1.5.0",
          "model_name": "HBoxModel",
          "state": {
            "_dom_classes": [],
            "_model_module": "@jupyter-widgets/controls",
            "_model_module_version": "1.5.0",
            "_model_name": "HBoxModel",
            "_view_count": null,
            "_view_module": "@jupyter-widgets/controls",
            "_view_module_version": "1.5.0",
            "_view_name": "HBoxView",
            "box_style": "",
            "children": [
              "IPY_MODEL_20a38960e7374ab594f04f4b1c5e2321",
              "IPY_MODEL_7c3472a6094a4249a082f8dc630e5258",
              "IPY_MODEL_ae818704a52542d696c8eb0c1c182a81"
            ],
            "layout": "IPY_MODEL_992dda0d38b145b88946b67edc62ab57"
          }
        },
        "b6288aa156624b108015ab993c54d52b": {
          "model_module": "@jupyter-widgets/controls",
          "model_module_version": "1.5.0",
          "model_name": "HTMLModel",
          "state": {
            "_dom_classes": [],
            "_model_module": "@jupyter-widgets/controls",
            "_model_module_version": "1.5.0",
            "_model_name": "HTMLModel",
            "_view_count": null,
            "_view_module": "@jupyter-widgets/controls",
            "_view_module_version": "1.5.0",
            "_view_name": "HTMLView",
            "description": "",
            "description_tooltip": null,
            "layout": "IPY_MODEL_d25235d18f8045de9948417d13538ef3",
            "placeholder": "​",
            "style": "IPY_MODEL_01d3490253a8464281845cb171385d59",
            "value": "100%"
          }
        },
        "d25235d18f8045de9948417d13538ef3": {
          "model_module": "@jupyter-widgets/base",
          "model_module_version": "1.2.0",
          "model_name": "LayoutModel",
          "state": {
            "_model_module": "@jupyter-widgets/base",
            "_model_module_version": "1.2.0",
            "_model_name": "LayoutModel",
            "_view_count": null,
            "_view_module": "@jupyter-widgets/base",
            "_view_module_version": "1.2.0",
            "_view_name": "LayoutView",
            "align_content": null,
            "align_items": null,
            "align_self": null,
            "border": null,
            "bottom": null,
            "display": null,
            "flex": null,
            "flex_flow": null,
            "grid_area": null,
            "grid_auto_columns": null,
            "grid_auto_flow": null,
            "grid_auto_rows": null,
            "grid_column": null,
            "grid_gap": null,
            "grid_row": null,
            "grid_template_areas": null,
            "grid_template_columns": null,
            "grid_template_rows": null,
            "height": null,
            "justify_content": null,
            "justify_items": null,
            "left": null,
            "margin": null,
            "max_height": null,
            "max_width": null,
            "min_height": null,
            "min_width": null,
            "object_fit": null,
            "object_position": null,
            "order": null,
            "overflow": null,
            "overflow_x": null,
            "overflow_y": null,
            "padding": null,
            "right": null,
            "top": null,
            "visibility": null,
            "width": null
          }
        },
        "d539e4a476cb4ae28e78769b17b97aa9": {
          "model_module": "@jupyter-widgets/base",
          "model_module_version": "1.2.0",
          "model_name": "LayoutModel",
          "state": {
            "_model_module": "@jupyter-widgets/base",
            "_model_module_version": "1.2.0",
            "_model_name": "LayoutModel",
            "_view_count": null,
            "_view_module": "@jupyter-widgets/base",
            "_view_module_version": "1.2.0",
            "_view_name": "LayoutView",
            "align_content": null,
            "align_items": null,
            "align_self": null,
            "border": null,
            "bottom": null,
            "display": null,
            "flex": null,
            "flex_flow": null,
            "grid_area": null,
            "grid_auto_columns": null,
            "grid_auto_flow": null,
            "grid_auto_rows": null,
            "grid_column": null,
            "grid_gap": null,
            "grid_row": null,
            "grid_template_areas": null,
            "grid_template_columns": null,
            "grid_template_rows": null,
            "height": null,
            "justify_content": null,
            "justify_items": null,
            "left": null,
            "margin": null,
            "max_height": null,
            "max_width": null,
            "min_height": null,
            "min_width": null,
            "object_fit": null,
            "object_position": null,
            "order": null,
            "overflow": null,
            "overflow_x": null,
            "overflow_y": null,
            "padding": null,
            "right": null,
            "top": null,
            "visibility": null,
            "width": null
          }
        },
        "f45e5f0d4187404fb8f63acd3c26fe17": {
          "model_module": "@jupyter-widgets/controls",
          "model_module_version": "1.5.0",
          "model_name": "FloatProgressModel",
          "state": {
            "_dom_classes": [],
            "_model_module": "@jupyter-widgets/controls",
            "_model_module_version": "1.5.0",
            "_model_name": "FloatProgressModel",
            "_view_count": null,
            "_view_module": "@jupyter-widgets/controls",
            "_view_module_version": "1.5.0",
            "_view_name": "ProgressView",
            "bar_style": "success",
            "description": "",
            "description_tooltip": null,
            "layout": "IPY_MODEL_7f079b743c6e4ad897ae55ba366a15b9",
            "max": 32,
            "min": 0,
            "orientation": "horizontal",
            "style": "IPY_MODEL_54cbbc7ffbcc401abfbf3167f882019e",
            "value": 32
          }
        },
        "fb379b55e7bd4b3bb7ed4b0ec6390b2e": {
          "model_module": "@jupyter-widgets/controls",
          "model_module_version": "1.5.0",
          "model_name": "DescriptionStyleModel",
          "state": {
            "_model_module": "@jupyter-widgets/controls",
            "_model_module_version": "1.5.0",
            "_model_name": "DescriptionStyleModel",
            "_view_count": null,
            "_view_module": "@jupyter-widgets/base",
            "_view_module_version": "1.2.0",
            "_view_name": "StyleView",
            "description_width": ""
          }
        }
      }
    }
  },
  "nbformat": 4,
  "nbformat_minor": 0
}
