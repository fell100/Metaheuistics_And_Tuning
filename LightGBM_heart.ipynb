{
  "cells": [
    {
      "attachments": {},
      "cell_type": "markdown",
      "metadata": {},
      "source": [
        "## Definindo o Problema"
      ]
    },
    {
      "cell_type": "code",
      "execution_count": null,
      "metadata": {
        "colab": {
          "base_uri": "https://localhost:8080/"
        },
        "id": "9Sev1tJEIXbP",
        "outputId": "a8d34b52-5234-4e1c-ba54-12555337e150"
      },
      "outputs": [],
      "source": [
        "#!pip install lightgbm;\n",
        "#!pip install pymoo;\n",
        "#!pip install -U pyrecorder;"
      ]
    },
    {
      "cell_type": "code",
      "execution_count": null,
      "metadata": {
        "id": "QrgfvJRNIFyW"
      },
      "outputs": [],
      "source": [
        "import pickle\n",
        "from sklearn.neighbors import KNeighborsClassifier\n",
        "from sklearn.metrics import accuracy_score, confusion_matrix, classification_report\n",
        "from yellowbrick.classifier import ConfusionMatrix\n",
        "import numpy as np\n",
        "from tqdm.notebook import tqdm as tqdm\n",
        "import matplotlib.pyplot as plt\n",
        "from sklearn.model_selection import cross_val_score, KFold\n",
        "#from google.colab import drive\n",
        "import pickle\n",
        "from pymoo.algorithms.soo.nonconvex.pso import PSO, PSOAnimation\n",
        "#from pymoo.factory import Rastrigin\n",
        "from pymoo.optimize import minimize\n",
        "import matplotlib.pyplot as plt\n",
        "from pymoo.factory import get_termination\n",
        "#from pymoo.util.display import Display\n",
        "from pymoo.core.callback import Callback"
      ]
    },
    {
      "cell_type": "code",
      "execution_count": null,
      "metadata": {
        "id": "bnmY0okxIjkH"
      },
      "outputs": [],
      "source": [
        "import lightgbm as lgb"
      ]
    },
    {
      "cell_type": "code",
      "execution_count": null,
      "metadata": {
        "colab": {
          "base_uri": "https://localhost:8080/"
        },
        "id": "io1a1cJQIQoZ",
        "outputId": "7762ca48-fc4c-4746-a658-5238c24392fc"
      },
      "outputs": [],
      "source": [
        "#drive.mount('/content/gdrive')"
      ]
    },
    {
      "cell_type": "code",
      "execution_count": null,
      "metadata": {
        "id": "4TYgT1s1ISuF"
      },
      "outputs": [],
      "source": [
        "#with open('/content/gdrive/MyDrive/datasets/credit.pkl', 'rb') as f:\n",
        "#    x_heart_train, x_heart_test, y_heart_train, y_heart_test = pickle.load(f)\n",
        "    \n",
        "with open('./heart.pkl', 'rb') as f:\n",
        "    x_heart, y_heart = pickle.load(f)"
      ]
    },
    {
      "cell_type": "markdown",
      "metadata": {
        "id": "tHg0NYkn-4CK"
      },
      "source": [
        "Definindo as restrições "
      ]
    },
    {
      "cell_type": "code",
      "execution_count": null,
      "metadata": {
        "id": "BkFUaoY1fTFl"
      },
      "outputs": [],
      "source": [
        "OBJECTIVE = ['Accuracy']\n",
        "DIMENSIONS = 9 #num_leaves, min_child_samples, n_estimators, learning_rate, subsample_for_bin, min_split_gain, min_child_weight, subsample, reg_alpha, reg_lambda\n",
        "ITERATIONS = 10\n",
        "POPULATION = 15\n",
        "num_leaves_min = 10\n",
        "num_leaves_max = 200\n",
        "min_child_samples_min = 10\n",
        "min_child_samples_max = 50\n",
        "n_estimators_min = 20\n",
        "n_estimators_max = 1000\n",
        "\n",
        "learning_rate_min = 0.001\n",
        "learning_rate_max = 0.5\n",
        "subsample_for_bin_min = 50000\n",
        "subsample_for_bin_max = 500000\n",
        "min_split_gain_min = 0.01\n",
        "min_split_gain_max = 0.5\n",
        "min_child_weight_min = 0.001\n",
        "min_child_weight_max = 0.15\n",
        "subsample_min = 1.0\n",
        "subsample_max = 2.0\n",
        "reg_alpha_min =0.01\n",
        "reg_alpha_max = 100.0 \n",
        "reg_lambda_min = 0.01\n",
        "reg_lambda_max = 100.0\n",
        "\n",
        "BOUNDS = []\n",
        "SEED = 1\n",
        "INDIVIDUALS = []"
      ]
    },
    {
      "cell_type": "markdown",
      "metadata": {
        "id": "xSbKK_Og-7Oe"
      },
      "source": [
        "Definindo o problema"
      ]
    },
    {
      "cell_type": "code",
      "execution_count": null,
      "metadata": {
        "id": "Elrs3UT_j7t6"
      },
      "outputs": [],
      "source": [
        "import numpy as np\n",
        "from pymoo.core.problem import ElementwiseProblem\n",
        "\n",
        "class OptimizeWithAccuracy(ElementwiseProblem):\n",
        "\n",
        "    def __init__(self):\n",
        "        super().__init__(n_var= DIMENSIONS,\n",
        "                         n_obj=1,\n",
        "                         n_constr=9,\n",
        "                         xl=np.array([num_leaves_min, min_child_samples_min, n_estimators_min, learning_rate_min, subsample_for_bin_min,\n",
        "                                      min_split_gain_min, min_child_weight_min, reg_alpha_min, reg_lambda_min]),\n",
        "                         xu=np.array([num_leaves_max, min_child_samples_max, n_estimators_max, learning_rate_max, subsample_for_bin_max,\n",
        "                                      min_split_gain_max, min_child_weight_max, reg_alpha_max, reg_lambda_max])\n",
        "                        )\n",
        "\n",
        "    def _evaluate(self, x, out, *args, **kwargs):\n",
        "        #num_leaves, min_child_samples, n_estimators, learning_rate, subsample_for_bin, min_split_gain, min_child_weight, reg_alpha, reg_lambda\n",
        "        \n",
        "        model_lgb = lgb.LGBMClassifier(num_leaves        = int(np.round(x[0])), \n",
        "                                       min_child_samples = int(np.round(x[1])), \n",
        "                                       n_estimators      = int(np.round(x[2])),\n",
        "                                       learning_rate     = x[3] ,\n",
        "                                       subsample_for_bin = int(np.round(x[4])),\n",
        "                                       min_split_gain    = x[5],\n",
        "                                       min_child_weight  = x[6],\n",
        "                                       reg_alpha         = x[7],\n",
        "                                       reg_lambda        = x[8],\n",
        "                                       max_depth=- 1,\n",
        "                                       n_jobs = -1\n",
        "                                       )\n",
        "        \n",
        "        kfold = KFold(n_splits = 3, shuffle = True)\n",
        "        \n",
        "        scores = cross_val_score(model_lgb, x_heart, y_heart, cv = kfold, n_jobs=-1)  \n",
        "        \n",
        "        result = scores.mean()\n",
        "        out['F'] = -1 * result\n",
        "\n",
        "problemAccuracy = OptimizeWithAccuracy()"
      ]
    },
    {
      "cell_type": "code",
      "execution_count": null,
      "metadata": {},
      "outputs": [],
      "source": [
        "class OptimizeWithF1(ElementwiseProblem):\n",
        "\n",
        "    def __init__(self):\n",
        "        super().__init__(n_var= DIMENSIONS,\n",
        "                         n_obj=1,\n",
        "                         n_constr=9,\n",
        "                         xl=np.array([num_leaves_min, min_child_samples_min, n_estimators_min, learning_rate_min, subsample_for_bin_min,\n",
        "                                      min_split_gain_min, min_child_weight_min, reg_alpha_min, reg_lambda_min]),\n",
        "                         xu=np.array([num_leaves_max, min_child_samples_max, n_estimators_max, learning_rate_max, subsample_for_bin_max,\n",
        "                                      min_split_gain_max, min_child_weight_max, reg_alpha_max, reg_lambda_max])\n",
        "                        )\n",
        "\n",
        "    def _evaluate(self, x, out, *args, **kwargs):\n",
        "        #num_leaves, min_child_samples, n_estimators, learning_rate, subsample_for_bin, min_split_gain, min_child_weight, reg_alpha, reg_lambda\n",
        "        \n",
        "        model_lgb = lgb.LGBMClassifier(num_leaves        = int(np.round(x[0])), \n",
        "                                       min_child_samples = int(np.round(x[1])), \n",
        "                                       n_estimators      = int(np.round(x[2])),\n",
        "                                       learning_rate     = x[3] ,\n",
        "                                       subsample_for_bin = int(np.round(x[4])),\n",
        "                                       min_split_gain    = x[5],\n",
        "                                       min_child_weight  = x[6],\n",
        "                                       reg_alpha         = x[7],\n",
        "                                       reg_lambda        = x[8],\n",
        "                                       max_depth=- 1,\n",
        "                                       n_jobs = -1\n",
        "                                       )\n",
        "        \n",
        "        kfold = KFold(n_splits = 3, shuffle = True)\n",
        "        \n",
        "        scores = cross_val_score(model_lgb, x_heart, y_heart, cv = kfold, scoring='f1', n_jobs=-1)  \n",
        "        \n",
        "        result = scores.mean()\n",
        "        out['F'] = -1 * result\n",
        "\n",
        "problemF1 = OptimizeWithF1()"
      ]
    },
    {
      "cell_type": "code",
      "execution_count": null,
      "metadata": {},
      "outputs": [],
      "source": [
        "class OptimizeWithAUC(ElementwiseProblem):\n",
        "\n",
        "    def __init__(self):\n",
        "        super().__init__(n_var= DIMENSIONS,\n",
        "                         n_obj=1,\n",
        "                         n_constr=9,\n",
        "                         xl=np.array([num_leaves_min, min_child_samples_min, n_estimators_min, learning_rate_min, subsample_for_bin_min,\n",
        "                                      min_split_gain_min, min_child_weight_min, reg_alpha_min, reg_lambda_min]),\n",
        "                         xu=np.array([num_leaves_max, min_child_samples_max, n_estimators_max, learning_rate_max, subsample_for_bin_max,\n",
        "                                      min_split_gain_max, min_child_weight_max, reg_alpha_max, reg_lambda_max])\n",
        "                        )\n",
        "\n",
        "    def _evaluate(self, x, out, *args, **kwargs):\n",
        "        #num_leaves, min_child_samples, n_estimators, learning_rate, subsample_for_bin, min_split_gain, min_child_weight, reg_alpha, reg_lambda\n",
        "        \n",
        "        model_lgb = lgb.LGBMClassifier(num_leaves        = int(np.round(x[0])), \n",
        "                                       min_child_samples = int(np.round(x[1])), \n",
        "                                       n_estimators      = int(np.round(x[2])),\n",
        "                                       learning_rate     = x[3] ,\n",
        "                                       subsample_for_bin = int(np.round(x[4])),\n",
        "                                       min_split_gain    = x[5],\n",
        "                                       min_child_weight  = x[6],\n",
        "                                       reg_alpha         = x[7],\n",
        "                                       reg_lambda        = x[8],\n",
        "                                       max_depth=- 1,\n",
        "                                       n_jobs = -1\n",
        "                                       )\n",
        "        \n",
        "        kfold = KFold(n_splits = 3, shuffle = True)\n",
        "        \n",
        "        scores = cross_val_score(model_lgb, x_heart, y_heart, cv = kfold, scoring='roc_auc', n_jobs=-1)  \n",
        "        \n",
        "        result = scores.mean()\n",
        "        out['F'] = -1 * result\n",
        "\n",
        "problemAUC = OptimizeWithAUC()"
      ]
    },
    {
      "cell_type": "code",
      "execution_count": null,
      "metadata": {},
      "outputs": [],
      "source": [
        "from pymoo.util.display.column import Column\n",
        "from pymoo.util.display.output import Output"
      ]
    },
    {
      "cell_type": "code",
      "execution_count": null,
      "metadata": {},
      "outputs": [],
      "source": [
        "class MyOutput(Output):\n",
        "\n",
        "    def __init__(self):\n",
        "        super().__init__()\n",
        "        global pbar \n",
        "        pbar = tqdm(total=ITERATIONS)\n",
        "        self.score = Column(\"score\", width=13)\n",
        "        self.Parameters = Column(\"Parameters\", width=35)\n",
        "        self.columns += [self.score, self.Parameters]\n",
        "\n",
        "    def update(self, algorithm):\n",
        "        super().update(algorithm)\n",
        "        self.score.set(-np.min(algorithm.pop.get(\"F\")))\n",
        "        #self.Parameters.set(algorithm.pop.get(\"X\")[0])\n",
        "        pbar.update(1)\n",
        "        if pbar.n == ITERATIONS: pbar.close()"
      ]
    },
    {
      "cell_type": "markdown",
      "metadata": {
        "id": "_HsPc7BH-MWL"
      },
      "source": [
        "## Particle Swarm Optimization (PSO)"
      ]
    },
    {
      "attachments": {},
      "cell_type": "markdown",
      "metadata": {},
      "source": [
        "### Acurácia"
      ]
    },
    {
      "cell_type": "code",
      "execution_count": null,
      "metadata": {
        "id": "J275mWjGbVJo"
      },
      "outputs": [],
      "source": [
        "ITERATIONS = 32\n",
        "POPULATION = 32"
      ]
    },
    {
      "cell_type": "code",
      "execution_count": null,
      "metadata": {
        "colab": {
          "base_uri": "https://localhost:8080/",
          "height": 848,
          "referenced_widgets": [
            "b504307a10f54034ad07715278fa1dbc",
            "20a38960e7374ab594f04f4b1c5e2321",
            "7c3472a6094a4249a082f8dc630e5258",
            "ae818704a52542d696c8eb0c1c182a81",
            "992dda0d38b145b88946b67edc62ab57",
            "6f29547455ac4adb8edaa11d5839f5cb",
            "1a32143976c744e5a388d7b343e7c054",
            "1614757884124ed487149ebed485833f",
            "6f124da663194ac0b073ab7a3fb168c3",
            "76b3046c318d4fbcb66b198b50cd91e7",
            "124e5b4b5b3344f4abdc93628b112d8f"
          ]
        },
        "id": "Ub3CpvtimILV",
        "outputId": "b5231789-c65e-4089-99c9-9fcc0b99f5ca"
      },
      "outputs": [],
      "source": [
        "def run_accuracy_pso(ITERATIONS = 32, POPULATION = 32):\n",
        "    algorithm = PSO(#pop_size=POPULATION, \n",
        "                    #w=0.3, c1=4.0, c2=1.0, \n",
        "                    #adaptive=False, initial_velocity='random', \n",
        "                    #max_velocity_rate=0.75, pertube_best=False,\n",
        "                    max_velocity_rate=0.25,\n",
        "                    pop_size=POPULATION)\n",
        "    term = get_termination(\"n_gen\", ITERATIONS)\n",
        "\n",
        "    res = minimize(problemAccuracy,\n",
        "                algorithm,\n",
        "                #seed=SEED,\n",
        "                save_history=True,\n",
        "                verbose=False,\n",
        "                output=MyOutput(),\n",
        "                termination = term)\n",
        "\n",
        "\n",
        "    index_best_individual = np.where(res.pop.get('F') == np.min(res.pop.get('F')))[0][0]\n",
        "    score_best_individual = res.pop.get('F')[index_best_individual]\n",
        "    parameters_best_individual = res.pop.get('X')[index_best_individual]\n",
        "\n",
        "    print(f'Best Accuracy Score {-score_best_individual}')\n",
        "    print(f'Model parameters: \\n {parameters_best_individual}')\n",
        "    return score_best_individual, parameters_best_individual, res"
      ]
    },
    {
      "cell_type": "code",
      "execution_count": null,
      "metadata": {},
      "outputs": [],
      "source": [
        "score_best_individual, parameters_best_individual, res = run_accuracy_pso()"
      ]
    },
    {
      "cell_type": "code",
      "execution_count": null,
      "metadata": {
        "colab": {
          "base_uri": "https://localhost:8080/"
        },
        "id": "-F1E38iDlQUl",
        "outputId": "d83fa2a1-f2c2-49a3-c8a9-ddc5b449b2bb"
      },
      "outputs": [],
      "source": [
        "final_model = lgb.LGBMClassifier(num_leaves       = int(np.round(parameters_best_individual[0])), \n",
        "                                min_child_samples = int(np.round(parameters_best_individual[1])), \n",
        "                                n_estimators      = int(np.round(parameters_best_individual[2])),\n",
        "                                learning_rate     = parameters_best_individual[3] ,\n",
        "                                subsample_for_bin = int(np.round(parameters_best_individual[4])),\n",
        "                                min_split_gain    = parameters_best_individual[5],\n",
        "                                min_child_weight  = parameters_best_individual[6],\n",
        "                                reg_alpha         = parameters_best_individual[7],\n",
        "                                reg_lambda        = parameters_best_individual[8],\n",
        "                                max_depth=- 1\n",
        "                                )\n",
        "\n",
        "\n",
        "kfold = KFold(n_splits = 3, shuffle = True)\n",
        "\n",
        "scores = cross_val_score(final_model, x_heart, y_heart, cv = kfold, n_jobs=-1)  \n",
        "\n",
        "result = scores.mean()\n",
        "#print(result)"
      ]
    },
    {
      "cell_type": "code",
      "execution_count": null,
      "metadata": {
        "id": "3tT-sQocbOnb"
      },
      "outputs": [],
      "source": [
        "trlist = np.array([])\n",
        "for i in range(len(res.history)):\n",
        "  trlist = np.append(trlist, -res.history[i].pop.get('F').reshape(-1)) "
      ]
    },
    {
      "cell_type": "code",
      "execution_count": null,
      "metadata": {
        "id": "zJu3r3qI4crG"
      },
      "outputs": [],
      "source": [
        "scorelist = []\n",
        "\n",
        "for i in range(len(trlist)):\n",
        "#for i in range(1):\n",
        "  if i == 0:\n",
        "    scorelist.append(trlist[i])\n",
        "  elif trlist[i] > scorelist[i-1]:\n",
        "    scorelist.append(trlist[i])\n",
        "  else:\n",
        "    scorelist.append(scorelist[i-1])"
      ]
    },
    {
      "cell_type": "code",
      "execution_count": null,
      "metadata": {
        "id": "kEcgjgreFrvp"
      },
      "outputs": [],
      "source": [
        "Accuracy_PSO = scorelist"
      ]
    },
    {
      "cell_type": "code",
      "execution_count": null,
      "metadata": {
        "colab": {
          "base_uri": "https://localhost:8080/",
          "height": 351
        },
        "id": "qLYLRAg_51U5",
        "outputId": "fbd0c7ea-1543-4268-c387-0dd27f8a2a5e"
      },
      "outputs": [],
      "source": [
        "plt.plot(Accuracy_PSO);"
      ]
    },
    {
      "cell_type": "code",
      "execution_count": null,
      "metadata": {
        "colab": {
          "base_uri": "https://localhost:8080/",
          "height": 364
        },
        "id": "Ie2LDl1g6Yni",
        "outputId": "bcc10420-9cd1-4808-9914-9f90097b8e46"
      },
      "outputs": [],
      "source": [
        "tracking = [-np.min(individual.pop.get('F')) for individual in res.history ]\n",
        "tracking_PSO_Accuracy = tracking\n",
        "plt.plot(tracking)"
      ]
    },
    {
      "attachments": {},
      "cell_type": "markdown",
      "metadata": {},
      "source": [
        "### F1 Score "
      ]
    },
    {
      "cell_type": "code",
      "execution_count": null,
      "metadata": {},
      "outputs": [],
      "source": [
        "def run_f1_pso(ITERATIONS = 32, POPULATION = 32):\n",
        "    algorithm = PSO(#pop_size=POPULATION, \n",
        "                    #w=0.3, c1=4.0, c2=1.0, \n",
        "                    #adaptive=False, initial_velocity='random', \n",
        "                    #max_velocity_rate=0.75, pertube_best=False,\n",
        "                    max_velocity_rate=0.25,\n",
        "                    pop_size=POPULATION)\n",
        "    term = get_termination(\"n_gen\", ITERATIONS)\n",
        "\n",
        "    res = minimize(problemF1,\n",
        "                algorithm,\n",
        "                #seed=SEED,\n",
        "                save_history=True,\n",
        "                verbose=False,\n",
        "                output=MyOutput(),\n",
        "                termination = term)\n",
        "\n",
        "\n",
        "    index_best_individual = np.where(res.pop.get('F') == np.min(res.pop.get('F')))[0][0]\n",
        "    score_best_individual = res.pop.get('F')[index_best_individual]\n",
        "    parameters_best_individual = res.pop.get('X')[index_best_individual]\n",
        "\n",
        "    print(f'Best F1 Score {-score_best_individual}')\n",
        "    print(f'Model parameters: \\n {parameters_best_individual}')\n",
        "    return score_best_individual, parameters_best_individual, res"
      ]
    },
    {
      "cell_type": "code",
      "execution_count": null,
      "metadata": {},
      "outputs": [],
      "source": [
        "score_best_individual, parameters_best_individual, res = run_f1_pso()"
      ]
    },
    {
      "cell_type": "code",
      "execution_count": null,
      "metadata": {},
      "outputs": [],
      "source": [
        "trlist = np.array([])\n",
        "for i in range(len(res.history)):\n",
        "  trlist = np.append(trlist, -res.history[i].pop.get('F').reshape(-1)) \n",
        "  \n",
        "scorelist = []\n",
        "\n",
        "for i in range(len(trlist)):\n",
        "#for i in range(1):\n",
        "  if i == 0:\n",
        "    scorelist.append(trlist[i])\n",
        "  elif trlist[i] > scorelist[i-1]:\n",
        "    scorelist.append(trlist[i])\n",
        "  else:\n",
        "    scorelist.append(scorelist[i-1])\n",
        "    \n",
        "F1_PSO = scorelist\n",
        "\n",
        "plt.plot(scorelist);"
      ]
    },
    {
      "cell_type": "code",
      "execution_count": null,
      "metadata": {},
      "outputs": [],
      "source": [
        "tracking = [-np.min(individual.pop.get('F')) for individual in res.history ]\n",
        "tracking_PSO_F1 = tracking\n",
        "plt.plot(tracking)"
      ]
    },
    {
      "attachments": {},
      "cell_type": "markdown",
      "metadata": {},
      "source": [
        "### AUC"
      ]
    },
    {
      "cell_type": "code",
      "execution_count": null,
      "metadata": {},
      "outputs": [],
      "source": [
        "def run_auc_pso(ITERATIONS = 32, POPULATION = 32):\n",
        "    algorithm = PSO(#pop_size=POPULATION, \n",
        "                    #w=0.3, c1=4.0, c2=1.0, \n",
        "                    #adaptive=False, initial_velocity='random', \n",
        "                    #max_velocity_rate=0.75, pertube_best=False,\n",
        "                    max_velocity_rate=0.25,\n",
        "                    pop_size=POPULATION)\n",
        "    term = get_termination(\"n_gen\", ITERATIONS)\n",
        "\n",
        "    res = minimize(problemAUC,\n",
        "                algorithm,\n",
        "                #seed=SEED,\n",
        "                save_history=True,\n",
        "                verbose=False,\n",
        "                output=MyOutput(),\n",
        "                termination = term)\n",
        "\n",
        "\n",
        "    index_best_individual = np.where(res.pop.get('F') == np.min(res.pop.get('F')))[0][0]\n",
        "    score_best_individual = res.pop.get('F')[index_best_individual]\n",
        "    parameters_best_individual = res.pop.get('X')[index_best_individual]\n",
        "\n",
        "    print(f'Best AUC Score {-score_best_individual}')\n",
        "    print(f'Model parameters: \\n {parameters_best_individual}')\n",
        "    \n",
        "    return score_best_individual, parameters_best_individual, res"
      ]
    },
    {
      "cell_type": "code",
      "execution_count": null,
      "metadata": {},
      "outputs": [],
      "source": [
        "score_best_individual, parameters_best_individual, res = run_auc_pso()"
      ]
    },
    {
      "cell_type": "code",
      "execution_count": null,
      "metadata": {},
      "outputs": [],
      "source": [
        "trlist = np.array([])\n",
        "for i in range(len(res.history)):\n",
        "  trlist = np.append(trlist, -res.history[i].pop.get('F').reshape(-1)) \n",
        "  \n",
        "scorelist = []\n",
        "\n",
        "for i in range(len(trlist)):\n",
        "#for i in range(1):\n",
        "  if i == 0:\n",
        "    scorelist.append(trlist[i])\n",
        "  elif trlist[i] > scorelist[i-1]:\n",
        "    scorelist.append(trlist[i])\n",
        "  else:\n",
        "    scorelist.append(scorelist[i-1])\n",
        "    \n",
        "AUC_PSO = scorelist\n",
        "\n",
        "plt.plot(scorelist);"
      ]
    },
    {
      "cell_type": "code",
      "execution_count": null,
      "metadata": {},
      "outputs": [],
      "source": [
        "tracking = [-np.min(individual.pop.get('F')) for individual in res.history ]\n",
        "tracking_PSO_AUC = tracking\n",
        "plt.plot(tracking)"
      ]
    },
    {
      "cell_type": "markdown",
      "metadata": {
        "id": "iTAAhn6w-Be4"
      },
      "source": [
        "## Algoritmo Genético (GA)"
      ]
    },
    {
      "attachments": {},
      "cell_type": "markdown",
      "metadata": {},
      "source": [
        "### Acurácia"
      ]
    },
    {
      "cell_type": "code",
      "execution_count": null,
      "metadata": {
        "id": "1iXezRJUgWiM"
      },
      "outputs": [],
      "source": [
        "ITERATIONS = 32\n",
        "POPULATION = 32"
      ]
    },
    {
      "cell_type": "code",
      "execution_count": null,
      "metadata": {},
      "outputs": [],
      "source": [
        "from pymoo.algorithms.soo.nonconvex.ga import GA"
      ]
    },
    {
      "cell_type": "code",
      "execution_count": null,
      "metadata": {
        "colab": {
          "base_uri": "https://localhost:8080/",
          "height": 848,
          "referenced_widgets": [
            "12434838d89048188eefe1af0332bfd6",
            "b6288aa156624b108015ab993c54d52b",
            "f45e5f0d4187404fb8f63acd3c26fe17",
            "aaa16b6dbffd42ef973b1826e5ed2242",
            "8721e5217b97444d948e5b85c6fd53c7",
            "d25235d18f8045de9948417d13538ef3",
            "01d3490253a8464281845cb171385d59",
            "7f079b743c6e4ad897ae55ba366a15b9",
            "54cbbc7ffbcc401abfbf3167f882019e",
            "d539e4a476cb4ae28e78769b17b97aa9",
            "fb379b55e7bd4b3bb7ed4b0ec6390b2e"
          ]
        },
        "id": "TK9YdWdMfAw3",
        "outputId": "60624262-0c77-4e32-8106-540ea70cd8f9"
      },
      "outputs": [],
      "source": [
        "def run_accuracy_ga(ITERATIONS = 32, POPULATION = 32):\n",
        "\n",
        "    algorithm = GA(pop_size=POPULATION)\n",
        "\n",
        "    term = get_termination(\"n_gen\", ITERATIONS)\n",
        "\n",
        "    res = minimize(problemAccuracy,\n",
        "                algorithm,\n",
        "                save_history=True,\n",
        "                verbose=False,\n",
        "                output=MyOutput(),\n",
        "                termination = term)\n",
        "\n",
        "\n",
        "    index_best_individual = np.where(res.pop.get('F') == np.min(res.pop.get('F')))[0][0]\n",
        "    score_best_individual = res.pop.get('F')[index_best_individual]\n",
        "    parameters_best_individual = res.pop.get('X')[index_best_individual]\n",
        "\n",
        "    print(f'Best Accuracy Score {-score_best_individual}')\n",
        "    print(f'Model parameters: \\n {parameters_best_individual}')\n",
        "    \n",
        "    return score_best_individual, parameters_best_individual, res"
      ]
    },
    {
      "cell_type": "code",
      "execution_count": null,
      "metadata": {},
      "outputs": [],
      "source": [
        "score_best_individual, parameters_best_individual, res = run_accuracy_ga()"
      ]
    },
    {
      "cell_type": "code",
      "execution_count": null,
      "metadata": {
        "colab": {
          "base_uri": "https://localhost:8080/",
          "height": 364
        },
        "id": "Aw1RtuhKgPkR",
        "outputId": "6b173010-6841-44be-fc9c-1e08c709308c"
      },
      "outputs": [],
      "source": [
        "tracking = [-np.min(individual.pop.get('F')) for individual in res.history ]\n",
        "tracking_GA_Accuracy = tracking\n",
        "plt.plot(tracking)"
      ]
    },
    {
      "cell_type": "code",
      "execution_count": null,
      "metadata": {
        "id": "EuxPTJqU95Ib"
      },
      "outputs": [],
      "source": [
        "trlist = np.array([])\n",
        "for i in range(len(res.history)):\n",
        "  trlist = np.append(trlist, -res.history[i].pop.get('F').reshape(-1)) "
      ]
    },
    {
      "cell_type": "code",
      "execution_count": null,
      "metadata": {
        "id": "COvG1svS97RF"
      },
      "outputs": [],
      "source": [
        "scorelist = []\n",
        "\n",
        "for i in range(len(trlist)):\n",
        "  if i == 0:\n",
        "    scorelist.append(trlist[i])\n",
        "  elif trlist[i] > scorelist[i-1]:\n",
        "    scorelist.append(trlist[i])\n",
        "  else:\n",
        "    scorelist.append(scorelist[i-1])"
      ]
    },
    {
      "cell_type": "code",
      "execution_count": null,
      "metadata": {
        "id": "P4ubDrqPGUnS"
      },
      "outputs": [],
      "source": [
        "Accuracy_GA = scorelist"
      ]
    },
    {
      "cell_type": "code",
      "execution_count": null,
      "metadata": {
        "colab": {
          "base_uri": "https://localhost:8080/",
          "height": 347
        },
        "id": "N3xxFM4e99pt",
        "outputId": "e0d19dc9-1416-42a5-c33f-945a66a17ee0"
      },
      "outputs": [],
      "source": [
        "plt.plot(scorelist);"
      ]
    },
    {
      "attachments": {},
      "cell_type": "markdown",
      "metadata": {},
      "source": [
        "### F1 Score "
      ]
    },
    {
      "cell_type": "code",
      "execution_count": null,
      "metadata": {},
      "outputs": [],
      "source": [
        "from pymoo.algorithms.soo.nonconvex.ga import GA\n",
        "def run_f1_ga(ITERATIONS = 32, POPULATION = 32):\n",
        "    algorithm = GA(pop_size=POPULATION)\n",
        "\n",
        "    term = get_termination(\"n_gen\", ITERATIONS)\n",
        "\n",
        "    res = minimize(problemF1,\n",
        "                algorithm,\n",
        "                save_history=True,\n",
        "                verbose=False,\n",
        "                output=MyOutput(),\n",
        "                termination = term)\n",
        "\n",
        "\n",
        "    index_best_individual = np.where(res.pop.get('F') == np.min(res.pop.get('F')))[0][0]\n",
        "    score_best_individual = res.pop.get('F')[index_best_individual]\n",
        "    parameters_best_individual = res.pop.get('X')[index_best_individual]\n",
        "\n",
        "    print(f'Best F1 Score {-score_best_individual}')\n",
        "    print(f'Model parameters: \\n {parameters_best_individual}')\n",
        "    \n",
        "    return score_best_individual, parameters_best_individual, res"
      ]
    },
    {
      "cell_type": "code",
      "execution_count": null,
      "metadata": {},
      "outputs": [],
      "source": [
        "score_best_individual, parameters_best_individual, res = run_f1_ga()"
      ]
    },
    {
      "cell_type": "code",
      "execution_count": null,
      "metadata": {},
      "outputs": [],
      "source": [
        "trlist = np.array([])\n",
        "for i in range(len(res.history)):\n",
        "  trlist = np.append(trlist, -res.history[i].pop.get('F').reshape(-1)) \n",
        "  \n",
        "scorelist = []\n",
        "\n",
        "for i in range(len(trlist)):\n",
        "#for i in range(1):\n",
        "  if i == 0:\n",
        "    scorelist.append(trlist[i])\n",
        "  elif trlist[i] > scorelist[i-1]:\n",
        "    scorelist.append(trlist[i])\n",
        "  else:\n",
        "    scorelist.append(scorelist[i-1])\n",
        "    \n",
        "F1_GA = scorelist\n",
        "\n",
        "plt.plot(scorelist);"
      ]
    },
    {
      "cell_type": "code",
      "execution_count": null,
      "metadata": {},
      "outputs": [],
      "source": [
        "tracking = [-np.min(individual.pop.get('F')) for individual in res.history ]\n",
        "tracking_GA_F1 = tracking\n",
        "plt.plot(tracking)"
      ]
    },
    {
      "attachments": {},
      "cell_type": "markdown",
      "metadata": {},
      "source": [
        "### AUC"
      ]
    },
    {
      "cell_type": "code",
      "execution_count": null,
      "metadata": {},
      "outputs": [],
      "source": [
        "from pymoo.algorithms.soo.nonconvex.ga import GA\n",
        "def run_auc_ga(ITERATIONS = 32, POPULATION = 32):\n",
        "    algorithm = GA(pop_size=POPULATION)\n",
        "\n",
        "    term = get_termination(\"n_gen\", ITERATIONS)\n",
        "\n",
        "    res = minimize(problemAUC,\n",
        "                algorithm,\n",
        "                save_history=True,\n",
        "                verbose=False,\n",
        "                output=MyOutput(),\n",
        "                termination = term)\n",
        "\n",
        "\n",
        "    index_best_individual = np.where(res.pop.get('F') == np.min(res.pop.get('F')))[0][0]\n",
        "    score_best_individual = res.pop.get('F')[index_best_individual]\n",
        "    parameters_best_individual = res.pop.get('X')[index_best_individual]\n",
        "\n",
        "    print(f'Best AUC Score {-score_best_individual}')\n",
        "    print(f'Model parameters: \\n {parameters_best_individual}')\n",
        "    \n",
        "    return score_best_individual, parameters_best_individual, res"
      ]
    },
    {
      "cell_type": "code",
      "execution_count": null,
      "metadata": {},
      "outputs": [],
      "source": [
        "score_best_individual, parameters_best_individual, res = run_auc_ga()"
      ]
    },
    {
      "cell_type": "code",
      "execution_count": null,
      "metadata": {},
      "outputs": [],
      "source": [
        "trlist = np.array([])\n",
        "for i in range(len(res.history)):\n",
        "  trlist = np.append(trlist, -res.history[i].pop.get('F').reshape(-1)) \n",
        "  \n",
        "scorelist = []\n",
        "\n",
        "for i in range(len(trlist)):\n",
        "#for i in range(1):\n",
        "  if i == 0:\n",
        "    scorelist.append(trlist[i])\n",
        "  elif trlist[i] > scorelist[i-1]:\n",
        "    scorelist.append(trlist[i])\n",
        "  else:\n",
        "    scorelist.append(scorelist[i-1])\n",
        "    \n",
        "AUC_GA = scorelist\n",
        "\n",
        "plt.plot(scorelist);"
      ]
    },
    {
      "cell_type": "code",
      "execution_count": null,
      "metadata": {},
      "outputs": [],
      "source": [
        "tracking = [-np.min(individual.pop.get('F')) for individual in res.history ]\n",
        "tracking_GA_AUC = tracking\n",
        "plt.plot(tracking)"
      ]
    },
    {
      "cell_type": "markdown",
      "metadata": {
        "id": "F-WtiEIO0kFu"
      },
      "source": [
        "## Grid Search"
      ]
    },
    {
      "attachments": {},
      "cell_type": "markdown",
      "metadata": {},
      "source": [
        "### Acurácia"
      ]
    },
    {
      "cell_type": "code",
      "execution_count": null,
      "metadata": {
        "id": "OvuV46Aa0dBR"
      },
      "outputs": [],
      "source": [
        "from sklearn.model_selection import GridSearchCV"
      ]
    },
    {
      "cell_type": "code",
      "execution_count": null,
      "metadata": {
        "colab": {
          "base_uri": "https://localhost:8080/"
        },
        "id": "X4nK3alPCEQm",
        "outputId": "ece560c4-eb7c-4e23-e62a-b9423bd07386"
      },
      "outputs": [],
      "source": [
        "n_possibilities = 2\n",
        "\n",
        "#num_leaves_grid = [i for i in range(num_leaves_min,num_leaves_max, int((num_leaves_max)/13))]\n",
        "num_leaves_grid = [i for i in map(lambda x: int(x), np.linspace(num_leaves_min, num_leaves_max, n_possibilities))]\n",
        "num_leaves_grid = num_leaves_grid + [100, 50, 75, 125, 11,150]\n",
        "print('Num_Leaves_Grid: ')\n",
        "print(num_leaves_grid, len(num_leaves_grid))\n",
        "print('\\n')\n",
        "\n",
        "\n",
        "min_child_samples_grid = [i for i in map(lambda x: int(x), np.linspace(min_child_samples_min, min_child_samples_max, n_possibilities))]\n",
        "print('min_child_samples_grid:')\n",
        "print(min_child_samples_grid, len(min_child_samples_grid))\n",
        "print('\\n')\n",
        "\n",
        "n_estimators_grid = [i for i in map(lambda x: int(x), np.linspace(n_estimators_min, n_estimators_max, n_possibilities))]\n",
        "print('n_estimators_grid:')\n",
        "print(n_estimators_grid, len(n_estimators_grid))\n",
        "print('\\n')\n",
        "\n",
        "learning_rate_grid = np.linspace(learning_rate_min, learning_rate_max, n_possibilities)\n",
        "print('learning_rate_grid:')\n",
        "print(learning_rate_grid, len(learning_rate_grid))\n",
        "print('\\n')\n",
        "\n",
        "subsample_for_bin_grid = [i for i in map(lambda x: int(x), np.linspace(subsample_for_bin_min, subsample_for_bin_max, n_possibilities))]\n",
        "print('subsample_for_bin_grid:')\n",
        "print(subsample_for_bin_grid, len(subsample_for_bin_grid))\n",
        "print('\\n')\n",
        "\n",
        "min_split_gain_grid = np.linspace(min_split_gain_min, min_split_gain_max, n_possibilities)\n",
        "print('min_split_gain_grid:')\n",
        "print(min_split_gain_grid, len(min_split_gain_grid))\n",
        "print('\\n')\n",
        "\n",
        "min_child_weight_grid = np.linspace(min_child_weight_min, min_child_weight_max, n_possibilities)\n",
        "print('min_child_weight_grid:')\n",
        "print(min_child_weight_grid, len(min_child_weight_grid))\n",
        "print('\\n')\n",
        "\n",
        "reg_alpha_grid = np.linspace(reg_alpha_min, reg_alpha_max, n_possibilities)\n",
        "print('reg_alpha_grid:')\n",
        "print(reg_alpha_grid, len(reg_alpha_grid))\n",
        "print('\\n')\n"
      ]
    },
    {
      "cell_type": "code",
      "execution_count": null,
      "metadata": {
        "id": "sWL2gq5M0jmq"
      },
      "outputs": [],
      "source": [
        "parametros = {'num_leaves': num_leaves_grid, #int\n",
        "              'min_child_samples': min_child_samples_grid,#int\n",
        "              'n_estimators': n_estimators_grid, #int\n",
        "              'learning_rate': learning_rate_grid,\n",
        "              'subsample_for_bin': subsample_for_bin_grid, # int\n",
        "              'min_split_gain': min_split_gain_grid,\n",
        "              'min_child_weight': min_child_weight_grid,\n",
        "              'reg_alpha': reg_alpha_grid,\n",
        "              'max_depth': [-1],\n",
        "              'n_jobs': [-1]}"
      ]
    },
    {
      "cell_type": "code",
      "execution_count": null,
      "metadata": {
        "colab": {
          "base_uri": "https://localhost:8080/"
        },
        "id": "Cg8ZpgTM0tK7",
        "outputId": "efa2aaa1-3397-45fe-83c3-2eea6127b6a7"
      },
      "outputs": [],
      "source": [
        "kfold = KFold(n_splits = 3, shuffle = True)\n",
        "grid_search = GridSearchCV(estimator = lgb.LGBMClassifier(), param_grid = parametros, cv = kfold, n_jobs= -1, verbose = 3)\n",
        "grid_search.fit(x_heart, y_heart)\n",
        "melhores_parametros = grid_search.best_params_\n",
        "melhor_resultado = grid_search.best_score_\n",
        "print(melhores_parametros)\n",
        "print(melhor_resultado)"
      ]
    },
    {
      "cell_type": "code",
      "execution_count": null,
      "metadata": {
        "colab": {
          "base_uri": "https://localhost:8080/"
        },
        "id": "ekOamIhnrFd5",
        "outputId": "4d91ab89-5f11-4dc4-d71b-3837ba0cd1e9"
      },
      "outputs": [],
      "source": [
        "grid_search.cv_results_.keys()"
      ]
    },
    {
      "cell_type": "code",
      "execution_count": null,
      "metadata": {
        "id": "uo45HhIasnc4"
      },
      "outputs": [],
      "source": [
        "trlist = grid_search.cv_results_['mean_test_score']"
      ]
    },
    {
      "cell_type": "code",
      "execution_count": null,
      "metadata": {
        "id": "k0PjBeFHIqKw"
      },
      "outputs": [],
      "source": [
        "scorelist = []\n",
        "\n",
        "for i in range(len(trlist)):\n",
        "#for i in range(1):\n",
        "  if i == 0:\n",
        "    scorelist.append(trlist[i])\n",
        "  elif trlist[i] > scorelist[i-1]:\n",
        "    scorelist.append(trlist[i])\n",
        "  else:\n",
        "    scorelist.append(scorelist[i-1])"
      ]
    },
    {
      "cell_type": "code",
      "execution_count": null,
      "metadata": {
        "colab": {
          "base_uri": "https://localhost:8080/"
        },
        "id": "xjb_n_Hkr3WK",
        "outputId": "91f6887b-7c92-4b1d-8719-825d2ce7d88e"
      },
      "outputs": [],
      "source": [
        "tracking_GS_Accuracy = scorelist\n",
        "plt.plot(scorelist); "
      ]
    },
    {
      "attachments": {},
      "cell_type": "markdown",
      "metadata": {},
      "source": [
        "### F1 Score"
      ]
    },
    {
      "cell_type": "code",
      "execution_count": null,
      "metadata": {},
      "outputs": [],
      "source": [
        "kfold = KFold(n_splits = 3, shuffle = True)\n",
        "grid_search = GridSearchCV(estimator = lgb.LGBMClassifier(), param_grid = parametros, cv = kfold, n_jobs= -1, scoring='f1', verbose = 3)\n",
        "grid_search.fit(x_heart, y_heart)\n",
        "melhores_parametros = grid_search.best_params_\n",
        "melhor_resultado = grid_search.best_score_\n",
        "print(melhores_parametros)\n",
        "print(melhor_resultado)\n",
        "\n",
        "trlist = grid_search.cv_results_['mean_test_score']\n",
        "\n",
        "\n",
        "scorelist = []\n",
        "\n",
        "for i in range(len(trlist)):\n",
        "#for i in range(1):\n",
        "  if i == 0:\n",
        "    scorelist.append(trlist[i])\n",
        "  elif trlist[i] > scorelist[i-1]:\n",
        "    scorelist.append(trlist[i])\n",
        "  else:\n",
        "    scorelist.append(scorelist[i-1])\n",
        "    \n",
        "tracking_GS_F1 = scorelist\n",
        "plt.plot(scorelist); "
      ]
    },
    {
      "attachments": {},
      "cell_type": "markdown",
      "metadata": {},
      "source": [
        "### AUC"
      ]
    },
    {
      "cell_type": "code",
      "execution_count": null,
      "metadata": {},
      "outputs": [],
      "source": [
        "kfold = KFold(n_splits = 3, shuffle = True)\n",
        "grid_search = GridSearchCV(estimator = lgb.LGBMClassifier(), param_grid = parametros, cv = kfold, n_jobs= -1, scoring='roc_auc', verbose = 3)\n",
        "grid_search.fit(x_heart, y_heart)\n",
        "melhores_parametros = grid_search.best_params_\n",
        "melhor_resultado = grid_search.best_score_\n",
        "print(melhores_parametros)\n",
        "print(melhor_resultado)\n",
        "\n",
        "trlist = grid_search.cv_results_['mean_test_score']\n",
        "\n",
        "\n",
        "scorelist = []\n",
        "\n",
        "for i in range(len(trlist)):\n",
        "#for i in range(1):\n",
        "  if i == 0:\n",
        "    scorelist.append(trlist[i])\n",
        "  elif trlist[i] > scorelist[i-1]:\n",
        "    scorelist.append(trlist[i])\n",
        "  else:\n",
        "    scorelist.append(scorelist[i-1])\n",
        "    \n",
        "tracking_GS_AUC = scorelist\n",
        "plt.plot(scorelist); "
      ]
    },
    {
      "cell_type": "markdown",
      "metadata": {
        "id": "vA6kphUO0vcT"
      },
      "source": [
        "## Optuna"
      ]
    },
    {
      "attachments": {},
      "cell_type": "markdown",
      "metadata": {},
      "source": [
        "### Acurácia"
      ]
    },
    {
      "cell_type": "code",
      "execution_count": null,
      "metadata": {
        "colab": {
          "base_uri": "https://localhost:8080/"
        },
        "id": "AtVNXGxotkiD",
        "outputId": "3eeeb6d4-9bc6-49eb-b3d6-7c9482852c52"
      },
      "outputs": [],
      "source": [
        "!pip install optuna"
      ]
    },
    {
      "cell_type": "code",
      "execution_count": null,
      "metadata": {
        "id": "X_R8NlJD0xYP"
      },
      "outputs": [],
      "source": [
        "import optuna\n",
        "optuna.logging.set_verbosity(optuna.logging.WARNING)\n",
        "import sklearn\n",
        "from sklearn import datasets\n",
        "def objective_accuracy(trial):\n",
        "  \n",
        "      num_leaves = trial.suggest_int('num_leaves', num_leaves_min, num_leaves_max) #int\n",
        "      min_child_samples = trial.suggest_int('min_child_samples', min_child_samples_min, min_child_samples_max) #int\n",
        "      n_estimators      = trial.suggest_int('n_estimators', n_estimators_min, n_estimators_max)#int\n",
        "      learning_rate     = trial.suggest_float('learning_rate', learning_rate_min, learning_rate_max)\n",
        "      subsample_for_bin = trial.suggest_int('subsample_for_bin', subsample_for_bin_min, subsample_for_bin_max) #int\n",
        "      min_split_gain    = trial.suggest_float('min_split_gain', min_split_gain_min, min_split_gain_max)\n",
        "      min_child_weight  = trial.suggest_float('min_child_weight', min_child_weight_min, min_child_weight_max)\n",
        "      reg_alpha         = trial.suggest_float('reg_alpha', reg_alpha_min, reg_alpha_max)\n",
        "      reg_lambda        = trial.suggest_float('reg_lambda', reg_lambda_min, reg_lambda_max)\n",
        "\n",
        "      final_model = lgb.LGBMClassifier(num_leaves       = num_leaves, \n",
        "                                      min_child_samples = min_child_samples, \n",
        "                                      n_estimators      = n_estimators,\n",
        "                                      learning_rate     = learning_rate,\n",
        "                                      subsample_for_bin = subsample_for_bin,\n",
        "                                      min_split_gain    = min_split_gain,\n",
        "                                      min_child_weight  = min_child_weight,\n",
        "                                      reg_alpha         = reg_alpha,\n",
        "                                      reg_lambda        = reg_lambda,\n",
        "                                      max_depth= -1,\n",
        "                                      n_jobs = -1\n",
        "                                      )\n",
        "      \n",
        "      kfold = KFold(n_splits = 3, shuffle = True)\n",
        "\n",
        "      return sklearn.model_selection.cross_val_score(final_model, x_heart, y_heart, n_jobs=-1, cv=kfold).mean()"
      ]
    },
    {
      "cell_type": "code",
      "execution_count": null,
      "metadata": {
        "colab": {
          "base_uri": "https://localhost:8080/"
        },
        "id": "r62Ch5ng00NT",
        "outputId": "05e8015b-6c79-4043-daf8-028abeea7334"
      },
      "outputs": [],
      "source": [
        "def run_optuna_accuracy(n_trials=1024):\n",
        "    study = optuna.create_study(direction='maximize')\n",
        "    study.optimize(objective_accuracy, n_trials=n_trials, n_jobs = -1)\n",
        "    trial = study.best_trial\n",
        "    print('Accuracy: {}'.format(trial.value))\n",
        "    print(\"Best hyperparameters: {}\".format(trial.params))\n",
        "    return trial.value, study\n"
      ]
    },
    {
      "cell_type": "code",
      "execution_count": null,
      "metadata": {},
      "outputs": [],
      "source": [
        "trial, study = run_optuna_accuracy()"
      ]
    },
    {
      "cell_type": "code",
      "execution_count": null,
      "metadata": {},
      "outputs": [],
      "source": [
        "trial"
      ]
    },
    {
      "cell_type": "code",
      "execution_count": null,
      "metadata": {
        "id": "odCO6YCmz1q4"
      },
      "outputs": [],
      "source": [
        "tracking = []\n",
        "for i in range(len(study.trials)):\n",
        "  if i == 0: \n",
        "    tracking.append(study.trials[i].value)\n",
        "  elif tracking[i-1] > study.trials[i].value:\n",
        "    tracking.append(tracking[i-1])\n",
        "  else:\n",
        "    tracking.append(study.trials[i].value)\n",
        "#tracking_sorted = sorted(tracking)"
      ]
    },
    {
      "cell_type": "code",
      "execution_count": null,
      "metadata": {
        "id": "ukqgm-fOHTVs"
      },
      "outputs": [],
      "source": [
        "tracking_Optuna_Accuracy = tracking"
      ]
    },
    {
      "cell_type": "code",
      "execution_count": null,
      "metadata": {
        "colab": {
          "base_uri": "https://localhost:8080/",
          "height": 347
        },
        "id": "L8cqXHz06SXp",
        "outputId": "e0ea3abf-1a22-479f-b12c-fa76bb91b4c6"
      },
      "outputs": [],
      "source": [
        "plt.plot(tracking);\n",
        "#plt.plot(tracking_sorted) "
      ]
    },
    {
      "cell_type": "code",
      "execution_count": null,
      "metadata": {
        "colab": {
          "base_uri": "https://localhost:8080/",
          "height": 542
        },
        "id": "dSnAebcQ04n8",
        "outputId": "e0275cf0-9485-43d1-af08-75042d2f3351"
      },
      "outputs": [],
      "source": [
        "#optuna.visualization.plot_optimization_history(study)"
      ]
    },
    {
      "cell_type": "code",
      "execution_count": null,
      "metadata": {
        "colab": {
          "base_uri": "https://localhost:8080/",
          "height": 562
        },
        "id": "PykRbFk506AF",
        "outputId": "b37580c8-b893-4d8f-f745-60affb470c52"
      },
      "outputs": [],
      "source": [
        "#optuna.visualization.plot_slice(study)"
      ]
    },
    {
      "attachments": {},
      "cell_type": "markdown",
      "metadata": {},
      "source": [
        "### F1 Score"
      ]
    },
    {
      "cell_type": "code",
      "execution_count": null,
      "metadata": {},
      "outputs": [],
      "source": [
        "def objective_f1(trial):\n",
        "  \n",
        "      num_leaves = trial.suggest_int('num_leaves', num_leaves_min, num_leaves_max) #int\n",
        "      min_child_samples = trial.suggest_int('min_child_samples', min_child_samples_min, min_child_samples_max) #int\n",
        "      n_estimators      = trial.suggest_int('n_estimators', n_estimators_min, n_estimators_max)#int\n",
        "      learning_rate     = trial.suggest_float('learning_rate', learning_rate_min, learning_rate_max)\n",
        "      subsample_for_bin = trial.suggest_int('subsample_for_bin', subsample_for_bin_min, subsample_for_bin_max) #int\n",
        "      min_split_gain    = trial.suggest_float('min_split_gain', min_split_gain_min, min_split_gain_max)\n",
        "      min_child_weight  = trial.suggest_float('min_child_weight', min_child_weight_min, min_child_weight_max)\n",
        "      reg_alpha         = trial.suggest_float('reg_alpha', reg_alpha_min, reg_alpha_max)\n",
        "      reg_lambda        = trial.suggest_float('reg_lambda', reg_lambda_min, reg_lambda_max)\n",
        "\n",
        "      final_model = lgb.LGBMClassifier(num_leaves       = num_leaves, \n",
        "                                      min_child_samples = min_child_samples, \n",
        "                                      n_estimators      = n_estimators,\n",
        "                                      learning_rate     = learning_rate,\n",
        "                                      subsample_for_bin = subsample_for_bin,\n",
        "                                      min_split_gain    = min_split_gain,\n",
        "                                      min_child_weight  = min_child_weight,\n",
        "                                      reg_alpha         = reg_alpha,\n",
        "                                      reg_lambda        = reg_lambda,\n",
        "                                      max_depth= -1,\n",
        "                                      n_jobs = -1\n",
        "                                      )\n",
        "      \n",
        "      kfold = KFold(n_splits = 3, shuffle = True)\n",
        "\n",
        "      return sklearn.model_selection.cross_val_score(final_model, x_heart, y_heart, n_jobs=-1, scoring='f1', cv=kfold).mean()"
      ]
    },
    {
      "cell_type": "code",
      "execution_count": null,
      "metadata": {},
      "outputs": [],
      "source": [
        "def run_optuna_f1(n_trials=1024):\n",
        "    study = optuna.create_study(direction='maximize')\n",
        "    study.optimize(objective_f1, n_trials=n_trials, n_jobs = -1)\n",
        "    trial = study.best_trial\n",
        "    print('F1: {}'.format(trial.value))\n",
        "    print(\"Best hyperparameters: {}\".format(trial.params))\n",
        "    return trial.value, study"
      ]
    },
    {
      "cell_type": "code",
      "execution_count": null,
      "metadata": {},
      "outputs": [],
      "source": [
        "trial, study = run_optuna_f1()"
      ]
    },
    {
      "cell_type": "code",
      "execution_count": null,
      "metadata": {},
      "outputs": [],
      "source": [
        "tracking = []\n",
        "for i in range(len(study.trials)):\n",
        "  if i == 0: \n",
        "    tracking.append(study.trials[i].value)\n",
        "  elif tracking[i-1] > study.trials[i].value:\n",
        "    tracking.append(tracking[i-1])\n",
        "  else:\n",
        "    tracking.append(study.trials[i].value)\n",
        "#tracking_sorted = sorted(tracking)\n",
        "\n",
        "tracking_Optuna_F1 = tracking\n",
        "\n",
        "plt.plot(tracking);\n",
        "#plt.plot(tracking_sorted) "
      ]
    },
    {
      "attachments": {},
      "cell_type": "markdown",
      "metadata": {},
      "source": [
        "### AUC"
      ]
    },
    {
      "cell_type": "code",
      "execution_count": null,
      "metadata": {},
      "outputs": [],
      "source": [
        "def objective_auc(trial):\n",
        "  \n",
        "      num_leaves = trial.suggest_int('num_leaves', num_leaves_min, num_leaves_max) #int\n",
        "      min_child_samples = trial.suggest_int('min_child_samples', min_child_samples_min, min_child_samples_max) #int\n",
        "      n_estimators      = trial.suggest_int('n_estimators', n_estimators_min, n_estimators_max)#int\n",
        "      learning_rate     = trial.suggest_float('learning_rate', learning_rate_min, learning_rate_max)\n",
        "      subsample_for_bin = trial.suggest_int('subsample_for_bin', subsample_for_bin_min, subsample_for_bin_max) #int\n",
        "      min_split_gain    = trial.suggest_float('min_split_gain', min_split_gain_min, min_split_gain_max)\n",
        "      min_child_weight  = trial.suggest_float('min_child_weight', min_child_weight_min, min_child_weight_max)\n",
        "      reg_alpha         = trial.suggest_float('reg_alpha', reg_alpha_min, reg_alpha_max)\n",
        "      reg_lambda        = trial.suggest_float('reg_lambda', reg_lambda_min, reg_lambda_max)\n",
        "\n",
        "      final_model = lgb.LGBMClassifier(num_leaves       = num_leaves, \n",
        "                                      min_child_samples = min_child_samples, \n",
        "                                      n_estimators      = n_estimators,\n",
        "                                      learning_rate     = learning_rate,\n",
        "                                      subsample_for_bin = subsample_for_bin,\n",
        "                                      min_split_gain    = min_split_gain,\n",
        "                                      min_child_weight  = min_child_weight,\n",
        "                                      reg_alpha         = reg_alpha,\n",
        "                                      reg_lambda        = reg_lambda,\n",
        "                                      max_depth= -1,\n",
        "                                      n_jobs = -1\n",
        "                                      )\n",
        "      \n",
        "      kfold = KFold(n_splits = 3, shuffle = True)\n",
        "\n",
        "      return sklearn.model_selection.cross_val_score(final_model, x_heart, y_heart, n_jobs=-1, scoring='roc_auc', cv=kfold).mean()"
      ]
    },
    {
      "cell_type": "code",
      "execution_count": null,
      "metadata": {},
      "outputs": [],
      "source": [
        "def run_optuna_auc(n_trials=1024):\n",
        "    study = optuna.create_study(direction='maximize')\n",
        "    study.optimize(objective_auc, n_trials=n_trials, n_jobs = -1)\n",
        "    trial = study.best_trial\n",
        "    print('AUC: {}'.format(trial.value))\n",
        "    print(\"Best hyperparameters: {}\".format(trial.params))\n",
        "    return trial.value, study"
      ]
    },
    {
      "cell_type": "code",
      "execution_count": null,
      "metadata": {},
      "outputs": [],
      "source": [
        "trial, study = run_optuna_auc()"
      ]
    },
    {
      "cell_type": "code",
      "execution_count": null,
      "metadata": {},
      "outputs": [],
      "source": [
        "tracking = []\n",
        "for i in range(len(study.trials)):\n",
        "  if i == 0: \n",
        "    tracking.append(study.trials[i].value)\n",
        "  elif tracking[i-1] > study.trials[i].value:\n",
        "    tracking.append(tracking[i-1])\n",
        "  else:\n",
        "    tracking.append(study.trials[i].value)\n",
        "#tracking_sorted = sorted(tracking)\n",
        "\n",
        "tracking_Optuna_AUC = tracking\n",
        "\n",
        "plt.plot(tracking);\n",
        "#plt.plot(tracking_sorted) "
      ]
    },
    {
      "cell_type": "markdown",
      "metadata": {
        "id": "O554Q6QTEVSZ"
      },
      "source": [
        "# Análise Comparativa"
      ]
    },
    {
      "cell_type": "code",
      "execution_count": null,
      "metadata": {
        "colab": {
          "base_uri": "https://localhost:8080/",
          "height": 335
        },
        "id": "fQLG5-KOEa-j",
        "outputId": "475764bd-0f8b-4a28-dfbc-06b9f8e93d0d"
      },
      "outputs": [],
      "source": [
        "fig, (ax1, ax2) = plt.subplots(1, 2, figsize=(20,5))\n",
        "\n",
        "ax1.set_title('PSO X Gerações')\n",
        "ax2.set_title('PSO X Avaliações')\n",
        "\n",
        "ax1.plot(tracking_PSO_Accuracy)\n",
        "ax2.plot(Accuracy_PSO)\n",
        "plt.show()"
      ]
    },
    {
      "cell_type": "code",
      "execution_count": null,
      "metadata": {
        "colab": {
          "base_uri": "https://localhost:8080/",
          "height": 335
        },
        "id": "rQXRvTMeGdtO",
        "outputId": "3e5b32fe-6843-4453-c4c0-c72f988355e3"
      },
      "outputs": [],
      "source": [
        "fig, (ax1, ax2) = plt.subplots(1, 2, figsize=(20,5))\n",
        "\n",
        "ax1.set_title('GA X Gerações')\n",
        "ax2.set_title('GA X Avaliações')\n",
        "\n",
        "ax1.plot(tracking_GA_Accuracy)\n",
        "ax2.plot(Accuracy_GA)\n",
        "plt.show()"
      ]
    },
    {
      "attachments": {},
      "cell_type": "markdown",
      "metadata": {},
      "source": [
        "Gráficos Comparativos Acurácia"
      ]
    },
    {
      "cell_type": "code",
      "execution_count": null,
      "metadata": {
        "colab": {
          "base_uri": "https://localhost:8080/",
          "height": 592
        },
        "id": "wPAE1qekG2QL",
        "outputId": "ed21fdf7-0168-43ed-be6f-6a7d40ee56a7"
      },
      "outputs": [],
      "source": [
        "from IPython.core.pylabtools import figsize\n",
        "from matplotlib.pyplot import figure\n",
        "import matplotlib.patches as mpatches\n",
        "\n",
        "plt.figure(figsize=(12, 6))\n",
        "red_patch = mpatches.Patch(color='red', label='PSO')\n",
        "blue_patch = mpatches.Patch(color='blue', label='GA')\n",
        "green_patch = mpatches.Patch(color='green', label='Optuna')\n",
        "#black_patch = mpatches.Patch(color='black', label='GridSearch')\n",
        "\n",
        "plt.legend(handles=[red_patch, blue_patch, green_patch])\n",
        "plt.plot(Accuracy_GA, color = 'blue', linewidth=1, linestyle='-', )\n",
        "plt.plot(Accuracy_PSO, color = 'red', linewidth=1, linestyle='-')\n",
        "plt.plot(tracking_Optuna_Accuracy, color = 'green', linewidth=1, linestyle='-')\n",
        "#plt.plot(tracking_GS, color = 'black', linewidth=3, linestyle='-')\n",
        "plt.show()"
      ]
    },
    {
      "cell_type": "code",
      "execution_count": null,
      "metadata": {
        "colab": {
          "base_uri": "https://localhost:8080/",
          "height": 901
        },
        "id": "hkxfnJJoKHia",
        "outputId": "b1c67284-9c27-4868-c7c1-54368e704ec5"
      },
      "outputs": [],
      "source": [
        "fig, ax = plt.subplots(2, 2, figsize=(25,15))\n",
        "\n",
        "ax[0, 0].set_title(f'Genetic Algorithm (GA) - Accuracy: {max(tracking_GA_Accuracy)}', fontdict={'fontsize': 20, 'fontweight': 'medium'})\n",
        "ax[0, 1].set_title(f'Particle Swarm Optimization (PSO) - Accuracy: {max(tracking_PSO_Accuracy)}', fontdict={'fontsize': 20, 'fontweight': 'medium'})\n",
        "\n",
        "ax[1, 0].set_title(f'Grid Search - Accuracy: {max(tracking_GS_Accuracy)}', fontdict={'fontsize': 20, 'fontweight': 'medium'})\n",
        "ax[1, 1].set_title(f'Optuna - Accuracy: {max(tracking_Optuna_Accuracy)}', fontdict={'fontsize': 20, 'fontweight': 'medium'})\n",
        "\n",
        "ax[0,0].plot(tracking_GA_Accuracy, color = 'blue', linewidth=3, linestyle='-', )\n",
        "ax[0,1].plot(tracking_PSO_Accuracy, color = 'red', linewidth=3, linestyle='-')\n",
        "\n",
        "ax[1,0].plot(tracking_GS_Accuracy, color = 'black', linewidth=3, linestyle='-')\n",
        "ax[1,1].plot(tracking_Optuna_Accuracy, color = 'green', linewidth=3, linestyle='-')\n"
      ]
    },
    {
      "attachments": {},
      "cell_type": "markdown",
      "metadata": {},
      "source": [
        "F1 score"
      ]
    },
    {
      "cell_type": "code",
      "execution_count": null,
      "metadata": {},
      "outputs": [],
      "source": [
        "plt.figure(figsize=(12, 6))\n",
        "red_patch = mpatches.Patch(color='red', label='PSO')\n",
        "blue_patch = mpatches.Patch(color='blue', label='GA')\n",
        "green_patch = mpatches.Patch(color='green', label='Optuna')\n",
        "#black_patch = mpatches.Patch(color='black', label='GridSearch')\n",
        "\n",
        "plt.legend(handles=[red_patch, blue_patch, green_patch])\n",
        "plt.plot(F1_GA, color = 'blue', linewidth=1, linestyle='-', )\n",
        "plt.plot(F1_PSO, color = 'red', linewidth=1, linestyle='-')\n",
        "plt.plot(tracking_Optuna_F1, color = 'green', linewidth=1, linestyle='-')\n",
        "#plt.plot(tracking_GS, color = 'black', linewidth=3, linestyle='-')\n",
        "plt.show()"
      ]
    },
    {
      "cell_type": "code",
      "execution_count": null,
      "metadata": {},
      "outputs": [],
      "source": [
        "fig, ax = plt.subplots(2, 2, figsize=(25,15))\n",
        "\n",
        "ax[0, 0].set_title(f'Genetic Algorithm (GA) - Accuracy: {max(tracking_GA_F1)}', fontdict={'fontsize': 20, 'fontweight': 'medium'})\n",
        "ax[0, 1].set_title(f'Particle Swarm Optimization (PSO) - Accuracy: {max(tracking_PSO_F1)}', fontdict={'fontsize': 20, 'fontweight': 'medium'})\n",
        "\n",
        "ax[1, 0].set_title(f'Grid Search - Accuracy: {max(tracking_GS_F1)}', fontdict={'fontsize': 20, 'fontweight': 'medium'})\n",
        "ax[1, 1].set_title(f'Optuna - Accuracy: {max(tracking_Optuna_F1)}', fontdict={'fontsize': 20, 'fontweight': 'medium'})\n",
        "\n",
        "ax[0,0].plot(tracking_GA_F1, color = 'blue', linewidth=3, linestyle='-', )\n",
        "ax[0,1].plot(tracking_PSO_F1, color = 'red', linewidth=3, linestyle='-')\n",
        "\n",
        "ax[1,0].plot(tracking_GS_F1, color = 'black', linewidth=3, linestyle='-')\n",
        "ax[1,1].plot(tracking_Optuna_F1, color = 'green', linewidth=3, linestyle='-')\n"
      ]
    },
    {
      "attachments": {},
      "cell_type": "markdown",
      "metadata": {},
      "source": [
        "ROC AUC"
      ]
    },
    {
      "cell_type": "code",
      "execution_count": null,
      "metadata": {},
      "outputs": [],
      "source": [
        "plt.figure(figsize=(12, 6))\n",
        "red_patch = mpatches.Patch(color='red', label='PSO')\n",
        "blue_patch = mpatches.Patch(color='blue', label='GA')\n",
        "green_patch = mpatches.Patch(color='green', label='Optuna')\n",
        "#black_patch = mpatches.Patch(color='black', label='GridSearch')\n",
        "\n",
        "plt.legend(handles=[red_patch, blue_patch, green_patch])\n",
        "plt.plot(AUC_GA, color = 'blue', linewidth=1, linestyle='-', )\n",
        "plt.plot(AUC_PSO, color = 'red', linewidth=1, linestyle='-')\n",
        "plt.plot(tracking_Optuna_AUC, color = 'green', linewidth=1, linestyle='-')\n",
        "#plt.plot(tracking_GS, color = 'black', linewidth=3, linestyle='-')\n",
        "plt.show()"
      ]
    },
    {
      "cell_type": "code",
      "execution_count": null,
      "metadata": {},
      "outputs": [],
      "source": [
        "fig, ax = plt.subplots(2, 2, figsize=(25,15))\n",
        "\n",
        "ax[0, 0].set_title(f'Genetic Algorithm (GA) - Accuracy: {max(tracking_GA_AUC)}', fontdict={'fontsize': 20, 'fontweight': 'medium'})\n",
        "ax[0, 1].set_title(f'Particle Swarm Optimization (PSO) - Accuracy: {max(tracking_PSO_AUC)}', fontdict={'fontsize': 20, 'fontweight': 'medium'})\n",
        "\n",
        "ax[1, 0].set_title(f'Grid Search - Accuracy: {max(tracking_GS_AUC)}', fontdict={'fontsize': 20, 'fontweight': 'medium'})\n",
        "ax[1, 1].set_title(f'Optuna - Accuracy: {max(tracking_Optuna_AUC)}', fontdict={'fontsize': 20, 'fontweight': 'medium'})\n",
        "\n",
        "ax[0,0].plot(tracking_GA_AUC, color = 'blue', linewidth=3, linestyle='-', )\n",
        "ax[0,1].plot(tracking_PSO_AUC, color = 'red', linewidth=3, linestyle='-')\n",
        "\n",
        "ax[1,0].plot(tracking_GS_AUC, color = 'black', linewidth=3, linestyle='-')\n",
        "ax[1,1].plot(tracking_Optuna_AUC, color = 'green', linewidth=3, linestyle='-')\n"
      ]
    },
    {
      "attachments": {},
      "cell_type": "markdown",
      "metadata": {},
      "source": [
        "# Gerando Dados Para Análise "
      ]
    },
    {
      "cell_type": "code",
      "execution_count": 155,
      "metadata": {},
      "outputs": [
        {
          "name": "stderr",
          "output_type": "stream",
          "text": [
            "  0%|          | 0/2 [00:00<?, ?it/s]C:\\Users\\Felps\\AppData\\Local\\Temp\\ipykernel_25136\\3417283545.py:8: DeprecationWarning: Call to deprecated function (or staticmethod) get_termination. (Please use `from pymoo.termination import get_termination`)\n",
            "  term = get_termination(\"n_gen\", ITERATIONS)\n",
            "\n",
            "  3%|▎         | 1/32 [00:00<00:20,  1.51it/s]\n"
          ]
        },
        {
          "name": "stdout",
          "output_type": "stream",
          "text": [
            "=======================================================================\n",
            "n_gen  |  n_eval  |     score     |              Parameters            \n",
            "=======================================================================\n",
            "     1 |        1 |  0.7083929213 |                                   -\n",
            "Best Accuracy Score [0.70839292]\n",
            "Model parameters: \n",
            " [1.75902174e+02 4.31576241e+01 9.95430598e+02 1.56786321e-01\n",
            " 2.89825454e+05 4.05110505e-01 1.18405285e-01 7.02893376e+01\n",
            " 6.36836563e+01]\n"
          ]
        },
        {
          "name": "stderr",
          "output_type": "stream",
          "text": [
            "  3%|▎         | 1/32 [00:00<00:01, 30.28it/s]\n"
          ]
        },
        {
          "name": "stdout",
          "output_type": "stream",
          "text": [
            "=======================================================================\n",
            "n_gen  |  n_eval  |     score     |              Parameters            \n",
            "=======================================================================\n",
            "     1 |        1 |  0.8356160375 |                                   -\n",
            "Best F1 Score [0.83561604]\n",
            "Model parameters: \n",
            " [9.62326915e+01 4.18281255e+01 1.44196521e+02 2.05633440e-01\n",
            " 2.72853045e+05 1.82029986e-01 5.62659946e-02 6.33734900e+01\n",
            " 1.63584659e+01]\n"
          ]
        },
        {
          "name": "stderr",
          "output_type": "stream",
          "text": [
            "\n",
            "  3%|▎         | 1/32 [00:00<00:00, 71.36it/s]\n",
            "C:\\Users\\Felps\\AppData\\Local\\Temp\\ipykernel_25136\\4101288156.py:19: FutureWarning: The frame.append method is deprecated and will be removed from pandas in a future version. Use pandas.concat instead.\n",
            "  lightGBM_data = lightGBM_data.append(temp, ignore_index = True)\n",
            "C:\\Users\\Felps\\AppData\\Local\\Temp\\ipykernel_25136\\2877920736.py:5: DeprecationWarning: Call to deprecated function (or staticmethod) get_termination. (Please use `from pymoo.termination import get_termination`)\n",
            "  term = get_termination(\"n_gen\", ITERATIONS)\n"
          ]
        },
        {
          "name": "stdout",
          "output_type": "stream",
          "text": [
            "=======================================================================\n",
            "n_gen  |  n_eval  |     score     |              Parameters            \n",
            "=======================================================================\n",
            "     1 |        1 |  0.8129590358 |                                   -\n",
            "Best AUC Score [0.81295904]\n",
            "Model parameters: \n",
            " [9.50778249e+01 3.53800067e+01 3.27559281e+01 2.02145674e-01\n",
            " 4.40591779e+05 1.09521448e-01 1.74437340e-02 9.50759223e+01\n",
            " 4.96525068e+01]\n"
          ]
        },
        {
          "name": "stderr",
          "output_type": "stream",
          "text": [
            "  3%|▎         | 1/32 [00:00<00:00, 71.36it/s]\n"
          ]
        },
        {
          "name": "stdout",
          "output_type": "stream",
          "text": [
            "=======================================================================\n",
            "n_gen  |  n_eval  |     score     |              Parameters            \n",
            "=======================================================================\n",
            "     1 |        1 |  0.7180186721 |                                   -\n",
            "Best Accuracy Score [0.71801867]\n",
            "Model parameters: \n",
            " [3.02298563e+01 2.39184521e+01 7.54626121e+02 1.04121732e-01\n",
            " 1.78220097e+05 3.64363309e-01 6.91799813e-02 7.46786646e+01\n",
            " 2.89787522e+01]\n"
          ]
        },
        {
          "name": "stderr",
          "output_type": "stream",
          "text": [
            "\n",
            "  3%|▎         | 1/32 [00:00<00:00, 39.96it/s]\n"
          ]
        },
        {
          "name": "stdout",
          "output_type": "stream",
          "text": [
            "=======================================================================\n",
            "n_gen  |  n_eval  |     score     |              Parameters            \n",
            "=======================================================================\n",
            "     1 |        1 |  0.7098944601 |                                   -\n",
            "Best F1 Score [0.70989446]\n",
            "Model parameters: \n",
            " [1.25581600e+02 1.93931396e+01 1.78954425e+02 4.64125973e-01\n",
            " 1.50942883e+05 3.16419097e-01 5.27086692e-02 8.41911099e+01\n",
            " 6.24552072e+01]\n"
          ]
        },
        {
          "name": "stderr",
          "output_type": "stream",
          "text": [
            "  3%|▎         | 1/32 [00:00<00:00, 71.36it/s]\n",
            "C:\\Users\\Felps\\AppData\\Local\\Temp\\ipykernel_25136\\4101288156.py:29: FutureWarning: The frame.append method is deprecated and will be removed from pandas in a future version. Use pandas.concat instead.\n",
            "  lightGBM_data = lightGBM_data.append(temp, ignore_index = True)\n",
            "C:\\Users\\Felps\\AppData\\Local\\Temp\\ipykernel_25136\\4101288156.py:39: FutureWarning: The frame.append method is deprecated and will be removed from pandas in a future version. Use pandas.concat instead.\n",
            "  lightGBM_data = lightGBM_data.append(temp, ignore_index = True)\n",
            " 50%|█████     | 1/2 [00:00<00:00,  5.23it/s]C:\\Users\\Felps\\AppData\\Local\\Temp\\ipykernel_25136\\3417283545.py:8: DeprecationWarning: Call to deprecated function (or staticmethod) get_termination. (Please use `from pymoo.termination import get_termination`)\n",
            "  term = get_termination(\"n_gen\", ITERATIONS)\n"
          ]
        },
        {
          "name": "stdout",
          "output_type": "stream",
          "text": [
            "=======================================================================\n",
            "n_gen  |  n_eval  |     score     |              Parameters            \n",
            "=======================================================================\n",
            "     1 |        1 |  0.9264287482 |                                   -\n",
            "Best AUC Score [0.92642875]\n",
            "Model parameters: \n",
            " [9.97078786e+01 2.45626241e+01 7.40601127e+02 3.89618842e-01\n",
            " 2.74051845e+05 2.24251108e-01 1.03062574e-01 6.42921082e+00\n",
            " 6.95297204e+01]\n",
            "Accuracy: 0.7017630708528598\n",
            "Best hyperparameters: {'num_leaves': 97, 'min_child_samples': 23, 'n_estimators': 527, 'learning_rate': 0.1784417127292156, 'subsample_for_bin': 180860, 'min_split_gain': 0.32307844022001914, 'min_child_weight': 0.1294397467138734, 'reg_alpha': 71.11869100981312, 'reg_lambda': 26.10796605248794}\n",
            "F1: 0.8620277104849334\n",
            "Best hyperparameters: {'num_leaves': 11, 'min_child_samples': 10, 'n_estimators': 898, 'learning_rate': 0.40947930257739373, 'subsample_for_bin': 343461, 'min_split_gain': 0.41328405994548545, 'min_child_weight': 0.056835149413797144, 'reg_alpha': 16.908402751951492, 'reg_lambda': 22.343491742648425}\n",
            "AUC: 0.8129527383843625\n",
            "Best hyperparameters: {'num_leaves': 95, 'min_child_samples': 29, 'n_estimators': 117, 'learning_rate': 0.19428530503294614, 'subsample_for_bin': 198806, 'min_split_gain': 0.016376310050468676, 'min_child_weight': 0.035782473212466824, 'reg_alpha': 87.65901410238497, 'reg_lambda': 87.82770247044375}\n"
          ]
        },
        {
          "name": "stderr",
          "output_type": "stream",
          "text": [
            "\n",
            "  3%|▎         | 1/32 [00:00<00:02, 10.86it/s]"
          ]
        },
        {
          "name": "stdout",
          "output_type": "stream",
          "text": [
            "=======================================================================\n",
            "n_gen  |  n_eval  |     score     |              Parameters            \n",
            "=======================================================================\n",
            "     1 |        1 |  0.5503179248 |                                   -"
          ]
        },
        {
          "name": "stderr",
          "output_type": "stream",
          "text": [
            "\n"
          ]
        },
        {
          "name": "stdout",
          "output_type": "stream",
          "text": [
            "\n",
            "Best Accuracy Score [0.55031792]\n",
            "Model parameters: \n",
            " [1.42409008e+02 2.33325449e+01 9.59098563e+02 5.12672280e-02\n",
            " 2.76858469e+05 2.55309023e-01 7.65871165e-02 9.31109120e+01\n",
            " 9.10055651e+01]\n"
          ]
        },
        {
          "name": "stderr",
          "output_type": "stream",
          "text": [
            "  3%|▎         | 1/32 [00:00<00:00, 33.17it/s]\n"
          ]
        },
        {
          "name": "stdout",
          "output_type": "stream",
          "text": [
            "=======================================================================\n",
            "n_gen  |  n_eval  |     score     |              Parameters            \n",
            "=======================================================================\n",
            "     1 |        1 |  0.8830043735 |                                   -\n",
            "Best F1 Score [0.88300437]\n",
            "Model parameters: \n",
            " [3.27938374e+01 4.95667941e+01 2.17004074e+02 3.51961202e-01\n",
            " 4.19087341e+05 6.99458842e-02 9.36818889e-02 4.36791504e-01\n",
            " 7.79216075e+01]\n"
          ]
        },
        {
          "name": "stderr",
          "output_type": "stream",
          "text": [
            "\n",
            "  3%|▎         | 1/32 [00:00<00:00, 41.63it/s]\n"
          ]
        },
        {
          "name": "stdout",
          "output_type": "stream",
          "text": [
            "=======================================================================\n",
            "n_gen  |  n_eval  |     score     |              Parameters            \n",
            "=======================================================================\n",
            "     1 |        1 |  0.8994930480 |                                   -\n"
          ]
        },
        {
          "name": "stderr",
          "output_type": "stream",
          "text": [
            "C:\\Users\\Felps\\AppData\\Local\\Temp\\ipykernel_25136\\4101288156.py:19: FutureWarning: The frame.append method is deprecated and will be removed from pandas in a future version. Use pandas.concat instead.\n",
            "  lightGBM_data = lightGBM_data.append(temp, ignore_index = True)\n",
            "C:\\Users\\Felps\\AppData\\Local\\Temp\\ipykernel_25136\\2877920736.py:5: DeprecationWarning: Call to deprecated function (or staticmethod) get_termination. (Please use `from pymoo.termination import get_termination`)\n",
            "  term = get_termination(\"n_gen\", ITERATIONS)\n"
          ]
        },
        {
          "name": "stdout",
          "output_type": "stream",
          "text": [
            "Best AUC Score [0.89949305]\n",
            "Model parameters: \n",
            " [1.92991288e+02 4.19620411e+01 5.79149721e+02 4.87075452e-01\n",
            " 2.47007672e+05 2.52049104e-01 1.27187739e-01 2.18600313e+01\n",
            " 4.20020238e+01]\n"
          ]
        },
        {
          "name": "stderr",
          "output_type": "stream",
          "text": [
            "  3%|▎         | 1/32 [00:00<00:00, 35.68it/s]\n"
          ]
        },
        {
          "name": "stdout",
          "output_type": "stream",
          "text": [
            "=======================================================================\n",
            "n_gen  |  n_eval  |     score     |              Parameters            \n",
            "=======================================================================\n",
            "     1 |        1 |  0.6341297955 |                                   -\n",
            "Best Accuracy Score [0.6341298]\n",
            "Model parameters: \n",
            " [1.84401268e+02 4.52795952e+01 8.88139268e+02 3.19755834e-01\n",
            " 2.46645225e+05 4.82072821e-01 1.23857698e-02 7.51132301e+01\n",
            " 8.13361573e+01]\n"
          ]
        },
        {
          "name": "stderr",
          "output_type": "stream",
          "text": [
            "\n",
            "  3%|▎         | 1/32 [00:00<00:00, 35.68it/s]"
          ]
        },
        {
          "name": "stdout",
          "output_type": "stream",
          "text": [
            "=======================================================================\n",
            "n_gen  |  n_eval  |     score     |              Parameters            \n",
            "=======================================================================\n",
            "     1 |        1 |  0.8494490663 |                                   -"
          ]
        },
        {
          "name": "stderr",
          "output_type": "stream",
          "text": [
            "\n"
          ]
        },
        {
          "name": "stdout",
          "output_type": "stream",
          "text": [
            "\n",
            "Best F1 Score [0.84944907]\n",
            "Model parameters: \n",
            " [1.41231979e+02 4.76263454e+01 4.41865025e+02 3.22650314e-01\n",
            " 4.65647917e+05 9.55883876e-02 1.62589380e-02 2.37278308e+01\n",
            " 5.06581721e+01]\n"
          ]
        },
        {
          "name": "stderr",
          "output_type": "stream",
          "text": [
            "  3%|▎         | 1/32 [00:00<00:00, 49.95it/s]\n",
            "C:\\Users\\Felps\\AppData\\Local\\Temp\\ipykernel_25136\\4101288156.py:29: FutureWarning: The frame.append method is deprecated and will be removed from pandas in a future version. Use pandas.concat instead.\n",
            "  lightGBM_data = lightGBM_data.append(temp, ignore_index = True)\n",
            "C:\\Users\\Felps\\AppData\\Local\\Temp\\ipykernel_25136\\4101288156.py:39: FutureWarning: The frame.append method is deprecated and will be removed from pandas in a future version. Use pandas.concat instead.\n",
            "  lightGBM_data = lightGBM_data.append(temp, ignore_index = True)\n"
          ]
        },
        {
          "name": "stdout",
          "output_type": "stream",
          "text": [
            "=======================================================================\n",
            "n_gen  |  n_eval  |     score     |              Parameters            \n",
            "=======================================================================\n",
            "     1 |        1 |  0.8130818335 |                                   -\n",
            "Best AUC Score [0.81308183]\n",
            "Model parameters: \n",
            " [1.28818927e+02 4.35021215e+01 5.94073948e+02 8.50994539e-02\n",
            " 1.70077419e+05 1.95338810e-01 1.25767035e-01 8.32493434e+01\n",
            " 4.68895570e+01]\n",
            "Accuracy: 0.8220941233416207\n",
            "Best hyperparameters: {'num_leaves': 104, 'min_child_samples': 49, 'n_estimators': 884, 'learning_rate': 0.47059140318468407, 'subsample_for_bin': 363012, 'min_split_gain': 0.21676059176288306, 'min_child_weight': 0.01830008127990649, 'reg_alpha': 32.200385243909075, 'reg_lambda': 80.87848664788493}\n",
            "F1: 0.8352893490661956\n",
            "Best hyperparameters: {'num_leaves': 183, 'min_child_samples': 44, 'n_estimators': 622, 'learning_rate': 0.3777537410355325, 'subsample_for_bin': 493018, 'min_split_gain': 0.4744591470231435, 'min_child_weight': 0.10564613037858946, 'reg_alpha': 72.0504774157439, 'reg_lambda': 87.59934029445591}\n",
            "AUC: 0.8863888163696273\n",
            "Best hyperparameters: {'num_leaves': 108, 'min_child_samples': 44, 'n_estimators': 170, 'learning_rate': 0.029967839761397733, 'subsample_for_bin': 328908, 'min_split_gain': 0.07363936738435285, 'min_child_weight': 0.11585896665124552, 'reg_alpha': 46.59533811432673, 'reg_lambda': 49.69056421631186}\n"
          ]
        },
        {
          "name": "stderr",
          "output_type": "stream",
          "text": [
            "100%|██████████| 2/2 [00:00<00:00,  4.79it/s]\n"
          ]
        }
      ],
      "source": [
        "from tqdm import tqdm\n",
        "import pandas as pd\n",
        "from os import system\n",
        "try:\n",
        "    lightGBM_data = pd.read_csv('./lightGBM_data.csv')\n",
        "except:\n",
        "    open('./lightGBM_data.csv', \"a\")\n",
        "    lightGBM_data = pd.DataFrame(columns=['Algorithm', 'Accuracy', 'F1', 'AUC'])\n",
        "\n",
        "\n",
        "for i in tqdm(range(2)):\n",
        "    accuracy_pso, _, _ = run_accuracy_pso(ITERATIONS=1, POPULATION=1)\n",
        "    f1_pso, _, _ = run_f1_pso(ITERATIONS=1, POPULATION=1)\n",
        "    auc_pso, _, _ = run_auc_pso(ITERATIONS=1, POPULATION=1)\n",
        "    temp = pd.DataFrame({'Algorithm' : ['PSO'], \n",
        "                         'Accuracy' :[-accuracy_pso[0]], \n",
        "                         'F1' : [-f1_pso[0]], \n",
        "                         'AUC' : [-auc_pso[0]]})\n",
        "    lightGBM_data = lightGBM_data.append(temp, ignore_index = True)\n",
        "    lightGBM_data[['Algorithm', 'Accuracy', 'F1', 'AUC']].to_csv('./lightGBM_data.csv')\n",
        "    \n",
        "    accuracy_ga, _, _ = run_accuracy_ga(ITERATIONS=1, POPULATION=1)\n",
        "    f1_ga, _, _ = run_f1_ga(ITERATIONS=1, POPULATION=1)\n",
        "    auc_ga, _, _ = run_auc_ga(ITERATIONS=1, POPULATION=1)\n",
        "    temp = pd.DataFrame({'Algorithm' : ['GA'], \n",
        "                         'Accuracy' :[-accuracy_ga[0]], \n",
        "                         'F1' : [-f1_ga[0]], \n",
        "                         'AUC' : [-auc_ga[0]]})\n",
        "    lightGBM_data = lightGBM_data.append(temp, ignore_index = True)\n",
        "    lightGBM_data[['Algorithm', 'Accuracy', 'F1', 'AUC']].to_csv('./lightGBM_data.csv')\n",
        "    \n",
        "    accuracy_optuna, _ = run_optuna_accuracy(n_trials=1)\n",
        "    f1_optuna, _ = run_optuna_f1(n_trials=1)\n",
        "    auc_optuna, _ = run_optuna_auc(n_trials=1)\n",
        "    temp = pd.DataFrame({'Algorithm' : ['Optuna'], \n",
        "                         'Accuracy' :[accuracy_optuna], \n",
        "                         'F1' : [f1_optuna], \n",
        "                         'AUC' : [auc_optuna]})\n",
        "    lightGBM_data = lightGBM_data.append(temp, ignore_index = True)\n",
        "    lightGBM_data[['Algorithm', 'Accuracy', 'F1', 'AUC']].to_csv('./lightGBM_data.csv')"
      ]
    },
    {
      "cell_type": "code",
      "execution_count": null,
      "metadata": {},
      "outputs": [],
      "source": [
        "lightGBM_data.to_csv('./lightGBM_data.csv')"
      ]
    }
  ],
  "metadata": {
    "colab": {
      "collapsed_sections": [
        "_HsPc7BH-MWL",
        "iTAAhn6w-Be4",
        "F-WtiEIO0kFu",
        "vA6kphUO0vcT"
      ],
      "provenance": []
    },
    "kernelspec": {
      "display_name": "Python 3",
      "language": "python",
      "name": "python3"
    },
    "language_info": {
      "codemirror_mode": {
        "name": "ipython",
        "version": 3
      },
      "file_extension": ".py",
      "mimetype": "text/x-python",
      "name": "python",
      "nbconvert_exporter": "python",
      "pygments_lexer": "ipython3",
      "version": "3.11.1"
    },
    "vscode": {
      "interpreter": {
        "hash": "8a5ac1e257a3445902302263f7bb85e3e096a16fcac665c553104f20e5a7c6c3"
      }
    },
    "widgets": {
      "application/vnd.jupyter.widget-state+json": {
        "01d3490253a8464281845cb171385d59": {
          "model_module": "@jupyter-widgets/controls",
          "model_module_version": "1.5.0",
          "model_name": "DescriptionStyleModel",
          "state": {
            "_model_module": "@jupyter-widgets/controls",
            "_model_module_version": "1.5.0",
            "_model_name": "DescriptionStyleModel",
            "_view_count": null,
            "_view_module": "@jupyter-widgets/base",
            "_view_module_version": "1.2.0",
            "_view_name": "StyleView",
            "description_width": ""
          }
        },
        "12434838d89048188eefe1af0332bfd6": {
          "model_module": "@jupyter-widgets/controls",
          "model_module_version": "1.5.0",
          "model_name": "HBoxModel",
          "state": {
            "_dom_classes": [],
            "_model_module": "@jupyter-widgets/controls",
            "_model_module_version": "1.5.0",
            "_model_name": "HBoxModel",
            "_view_count": null,
            "_view_module": "@jupyter-widgets/controls",
            "_view_module_version": "1.5.0",
            "_view_name": "HBoxView",
            "box_style": "",
            "children": [
              "IPY_MODEL_b6288aa156624b108015ab993c54d52b",
              "IPY_MODEL_f45e5f0d4187404fb8f63acd3c26fe17",
              "IPY_MODEL_aaa16b6dbffd42ef973b1826e5ed2242"
            ],
            "layout": "IPY_MODEL_8721e5217b97444d948e5b85c6fd53c7"
          }
        },
        "124e5b4b5b3344f4abdc93628b112d8f": {
          "model_module": "@jupyter-widgets/controls",
          "model_module_version": "1.5.0",
          "model_name": "DescriptionStyleModel",
          "state": {
            "_model_module": "@jupyter-widgets/controls",
            "_model_module_version": "1.5.0",
            "_model_name": "DescriptionStyleModel",
            "_view_count": null,
            "_view_module": "@jupyter-widgets/base",
            "_view_module_version": "1.2.0",
            "_view_name": "StyleView",
            "description_width": ""
          }
        },
        "1614757884124ed487149ebed485833f": {
          "model_module": "@jupyter-widgets/base",
          "model_module_version": "1.2.0",
          "model_name": "LayoutModel",
          "state": {
            "_model_module": "@jupyter-widgets/base",
            "_model_module_version": "1.2.0",
            "_model_name": "LayoutModel",
            "_view_count": null,
            "_view_module": "@jupyter-widgets/base",
            "_view_module_version": "1.2.0",
            "_view_name": "LayoutView",
            "align_content": null,
            "align_items": null,
            "align_self": null,
            "border": null,
            "bottom": null,
            "display": null,
            "flex": null,
            "flex_flow": null,
            "grid_area": null,
            "grid_auto_columns": null,
            "grid_auto_flow": null,
            "grid_auto_rows": null,
            "grid_column": null,
            "grid_gap": null,
            "grid_row": null,
            "grid_template_areas": null,
            "grid_template_columns": null,
            "grid_template_rows": null,
            "height": null,
            "justify_content": null,
            "justify_items": null,
            "left": null,
            "margin": null,
            "max_height": null,
            "max_width": null,
            "min_height": null,
            "min_width": null,
            "object_fit": null,
            "object_position": null,
            "order": null,
            "overflow": null,
            "overflow_x": null,
            "overflow_y": null,
            "padding": null,
            "right": null,
            "top": null,
            "visibility": null,
            "width": null
          }
        },
        "1a32143976c744e5a388d7b343e7c054": {
          "model_module": "@jupyter-widgets/controls",
          "model_module_version": "1.5.0",
          "model_name": "DescriptionStyleModel",
          "state": {
            "_model_module": "@jupyter-widgets/controls",
            "_model_module_version": "1.5.0",
            "_model_name": "DescriptionStyleModel",
            "_view_count": null,
            "_view_module": "@jupyter-widgets/base",
            "_view_module_version": "1.2.0",
            "_view_name": "StyleView",
            "description_width": ""
          }
        },
        "20a38960e7374ab594f04f4b1c5e2321": {
          "model_module": "@jupyter-widgets/controls",
          "model_module_version": "1.5.0",
          "model_name": "HTMLModel",
          "state": {
            "_dom_classes": [],
            "_model_module": "@jupyter-widgets/controls",
            "_model_module_version": "1.5.0",
            "_model_name": "HTMLModel",
            "_view_count": null,
            "_view_module": "@jupyter-widgets/controls",
            "_view_module_version": "1.5.0",
            "_view_name": "HTMLView",
            "description": "",
            "description_tooltip": null,
            "layout": "IPY_MODEL_6f29547455ac4adb8edaa11d5839f5cb",
            "placeholder": "​",
            "style": "IPY_MODEL_1a32143976c744e5a388d7b343e7c054",
            "value": "100%"
          }
        },
        "54cbbc7ffbcc401abfbf3167f882019e": {
          "model_module": "@jupyter-widgets/controls",
          "model_module_version": "1.5.0",
          "model_name": "ProgressStyleModel",
          "state": {
            "_model_module": "@jupyter-widgets/controls",
            "_model_module_version": "1.5.0",
            "_model_name": "ProgressStyleModel",
            "_view_count": null,
            "_view_module": "@jupyter-widgets/base",
            "_view_module_version": "1.2.0",
            "_view_name": "StyleView",
            "bar_color": null,
            "description_width": ""
          }
        },
        "6f124da663194ac0b073ab7a3fb168c3": {
          "model_module": "@jupyter-widgets/controls",
          "model_module_version": "1.5.0",
          "model_name": "ProgressStyleModel",
          "state": {
            "_model_module": "@jupyter-widgets/controls",
            "_model_module_version": "1.5.0",
            "_model_name": "ProgressStyleModel",
            "_view_count": null,
            "_view_module": "@jupyter-widgets/base",
            "_view_module_version": "1.2.0",
            "_view_name": "StyleView",
            "bar_color": null,
            "description_width": ""
          }
        },
        "6f29547455ac4adb8edaa11d5839f5cb": {
          "model_module": "@jupyter-widgets/base",
          "model_module_version": "1.2.0",
          "model_name": "LayoutModel",
          "state": {
            "_model_module": "@jupyter-widgets/base",
            "_model_module_version": "1.2.0",
            "_model_name": "LayoutModel",
            "_view_count": null,
            "_view_module": "@jupyter-widgets/base",
            "_view_module_version": "1.2.0",
            "_view_name": "LayoutView",
            "align_content": null,
            "align_items": null,
            "align_self": null,
            "border": null,
            "bottom": null,
            "display": null,
            "flex": null,
            "flex_flow": null,
            "grid_area": null,
            "grid_auto_columns": null,
            "grid_auto_flow": null,
            "grid_auto_rows": null,
            "grid_column": null,
            "grid_gap": null,
            "grid_row": null,
            "grid_template_areas": null,
            "grid_template_columns": null,
            "grid_template_rows": null,
            "height": null,
            "justify_content": null,
            "justify_items": null,
            "left": null,
            "margin": null,
            "max_height": null,
            "max_width": null,
            "min_height": null,
            "min_width": null,
            "object_fit": null,
            "object_position": null,
            "order": null,
            "overflow": null,
            "overflow_x": null,
            "overflow_y": null,
            "padding": null,
            "right": null,
            "top": null,
            "visibility": null,
            "width": null
          }
        },
        "76b3046c318d4fbcb66b198b50cd91e7": {
          "model_module": "@jupyter-widgets/base",
          "model_module_version": "1.2.0",
          "model_name": "LayoutModel",
          "state": {
            "_model_module": "@jupyter-widgets/base",
            "_model_module_version": "1.2.0",
            "_model_name": "LayoutModel",
            "_view_count": null,
            "_view_module": "@jupyter-widgets/base",
            "_view_module_version": "1.2.0",
            "_view_name": "LayoutView",
            "align_content": null,
            "align_items": null,
            "align_self": null,
            "border": null,
            "bottom": null,
            "display": null,
            "flex": null,
            "flex_flow": null,
            "grid_area": null,
            "grid_auto_columns": null,
            "grid_auto_flow": null,
            "grid_auto_rows": null,
            "grid_column": null,
            "grid_gap": null,
            "grid_row": null,
            "grid_template_areas": null,
            "grid_template_columns": null,
            "grid_template_rows": null,
            "height": null,
            "justify_content": null,
            "justify_items": null,
            "left": null,
            "margin": null,
            "max_height": null,
            "max_width": null,
            "min_height": null,
            "min_width": null,
            "object_fit": null,
            "object_position": null,
            "order": null,
            "overflow": null,
            "overflow_x": null,
            "overflow_y": null,
            "padding": null,
            "right": null,
            "top": null,
            "visibility": null,
            "width": null
          }
        },
        "7c3472a6094a4249a082f8dc630e5258": {
          "model_module": "@jupyter-widgets/controls",
          "model_module_version": "1.5.0",
          "model_name": "FloatProgressModel",
          "state": {
            "_dom_classes": [],
            "_model_module": "@jupyter-widgets/controls",
            "_model_module_version": "1.5.0",
            "_model_name": "FloatProgressModel",
            "_view_count": null,
            "_view_module": "@jupyter-widgets/controls",
            "_view_module_version": "1.5.0",
            "_view_name": "ProgressView",
            "bar_style": "success",
            "description": "",
            "description_tooltip": null,
            "layout": "IPY_MODEL_1614757884124ed487149ebed485833f",
            "max": 32,
            "min": 0,
            "orientation": "horizontal",
            "style": "IPY_MODEL_6f124da663194ac0b073ab7a3fb168c3",
            "value": 32
          }
        },
        "7f079b743c6e4ad897ae55ba366a15b9": {
          "model_module": "@jupyter-widgets/base",
          "model_module_version": "1.2.0",
          "model_name": "LayoutModel",
          "state": {
            "_model_module": "@jupyter-widgets/base",
            "_model_module_version": "1.2.0",
            "_model_name": "LayoutModel",
            "_view_count": null,
            "_view_module": "@jupyter-widgets/base",
            "_view_module_version": "1.2.0",
            "_view_name": "LayoutView",
            "align_content": null,
            "align_items": null,
            "align_self": null,
            "border": null,
            "bottom": null,
            "display": null,
            "flex": null,
            "flex_flow": null,
            "grid_area": null,
            "grid_auto_columns": null,
            "grid_auto_flow": null,
            "grid_auto_rows": null,
            "grid_column": null,
            "grid_gap": null,
            "grid_row": null,
            "grid_template_areas": null,
            "grid_template_columns": null,
            "grid_template_rows": null,
            "height": null,
            "justify_content": null,
            "justify_items": null,
            "left": null,
            "margin": null,
            "max_height": null,
            "max_width": null,
            "min_height": null,
            "min_width": null,
            "object_fit": null,
            "object_position": null,
            "order": null,
            "overflow": null,
            "overflow_x": null,
            "overflow_y": null,
            "padding": null,
            "right": null,
            "top": null,
            "visibility": null,
            "width": null
          }
        },
        "8721e5217b97444d948e5b85c6fd53c7": {
          "model_module": "@jupyter-widgets/base",
          "model_module_version": "1.2.0",
          "model_name": "LayoutModel",
          "state": {
            "_model_module": "@jupyter-widgets/base",
            "_model_module_version": "1.2.0",
            "_model_name": "LayoutModel",
            "_view_count": null,
            "_view_module": "@jupyter-widgets/base",
            "_view_module_version": "1.2.0",
            "_view_name": "LayoutView",
            "align_content": null,
            "align_items": null,
            "align_self": null,
            "border": null,
            "bottom": null,
            "display": null,
            "flex": null,
            "flex_flow": null,
            "grid_area": null,
            "grid_auto_columns": null,
            "grid_auto_flow": null,
            "grid_auto_rows": null,
            "grid_column": null,
            "grid_gap": null,
            "grid_row": null,
            "grid_template_areas": null,
            "grid_template_columns": null,
            "grid_template_rows": null,
            "height": null,
            "justify_content": null,
            "justify_items": null,
            "left": null,
            "margin": null,
            "max_height": null,
            "max_width": null,
            "min_height": null,
            "min_width": null,
            "object_fit": null,
            "object_position": null,
            "order": null,
            "overflow": null,
            "overflow_x": null,
            "overflow_y": null,
            "padding": null,
            "right": null,
            "top": null,
            "visibility": null,
            "width": null
          }
        },
        "992dda0d38b145b88946b67edc62ab57": {
          "model_module": "@jupyter-widgets/base",
          "model_module_version": "1.2.0",
          "model_name": "LayoutModel",
          "state": {
            "_model_module": "@jupyter-widgets/base",
            "_model_module_version": "1.2.0",
            "_model_name": "LayoutModel",
            "_view_count": null,
            "_view_module": "@jupyter-widgets/base",
            "_view_module_version": "1.2.0",
            "_view_name": "LayoutView",
            "align_content": null,
            "align_items": null,
            "align_self": null,
            "border": null,
            "bottom": null,
            "display": null,
            "flex": null,
            "flex_flow": null,
            "grid_area": null,
            "grid_auto_columns": null,
            "grid_auto_flow": null,
            "grid_auto_rows": null,
            "grid_column": null,
            "grid_gap": null,
            "grid_row": null,
            "grid_template_areas": null,
            "grid_template_columns": null,
            "grid_template_rows": null,
            "height": null,
            "justify_content": null,
            "justify_items": null,
            "left": null,
            "margin": null,
            "max_height": null,
            "max_width": null,
            "min_height": null,
            "min_width": null,
            "object_fit": null,
            "object_position": null,
            "order": null,
            "overflow": null,
            "overflow_x": null,
            "overflow_y": null,
            "padding": null,
            "right": null,
            "top": null,
            "visibility": null,
            "width": null
          }
        },
        "aaa16b6dbffd42ef973b1826e5ed2242": {
          "model_module": "@jupyter-widgets/controls",
          "model_module_version": "1.5.0",
          "model_name": "HTMLModel",
          "state": {
            "_dom_classes": [],
            "_model_module": "@jupyter-widgets/controls",
            "_model_module_version": "1.5.0",
            "_model_name": "HTMLModel",
            "_view_count": null,
            "_view_module": "@jupyter-widgets/controls",
            "_view_module_version": "1.5.0",
            "_view_name": "HTMLView",
            "description": "",
            "description_tooltip": null,
            "layout": "IPY_MODEL_d539e4a476cb4ae28e78769b17b97aa9",
            "placeholder": "​",
            "style": "IPY_MODEL_fb379b55e7bd4b3bb7ed4b0ec6390b2e",
            "value": " 32/32 [48:44&lt;00:00, 118.10s/it]"
          }
        },
        "ae818704a52542d696c8eb0c1c182a81": {
          "model_module": "@jupyter-widgets/controls",
          "model_module_version": "1.5.0",
          "model_name": "HTMLModel",
          "state": {
            "_dom_classes": [],
            "_model_module": "@jupyter-widgets/controls",
            "_model_module_version": "1.5.0",
            "_model_name": "HTMLModel",
            "_view_count": null,
            "_view_module": "@jupyter-widgets/controls",
            "_view_module_version": "1.5.0",
            "_view_name": "HTMLView",
            "description": "",
            "description_tooltip": null,
            "layout": "IPY_MODEL_76b3046c318d4fbcb66b198b50cd91e7",
            "placeholder": "​",
            "style": "IPY_MODEL_124e5b4b5b3344f4abdc93628b112d8f",
            "value": " 32/32 [15:48&lt;00:00, 30.29s/it]"
          }
        },
        "b504307a10f54034ad07715278fa1dbc": {
          "model_module": "@jupyter-widgets/controls",
          "model_module_version": "1.5.0",
          "model_name": "HBoxModel",
          "state": {
            "_dom_classes": [],
            "_model_module": "@jupyter-widgets/controls",
            "_model_module_version": "1.5.0",
            "_model_name": "HBoxModel",
            "_view_count": null,
            "_view_module": "@jupyter-widgets/controls",
            "_view_module_version": "1.5.0",
            "_view_name": "HBoxView",
            "box_style": "",
            "children": [
              "IPY_MODEL_20a38960e7374ab594f04f4b1c5e2321",
              "IPY_MODEL_7c3472a6094a4249a082f8dc630e5258",
              "IPY_MODEL_ae818704a52542d696c8eb0c1c182a81"
            ],
            "layout": "IPY_MODEL_992dda0d38b145b88946b67edc62ab57"
          }
        },
        "b6288aa156624b108015ab993c54d52b": {
          "model_module": "@jupyter-widgets/controls",
          "model_module_version": "1.5.0",
          "model_name": "HTMLModel",
          "state": {
            "_dom_classes": [],
            "_model_module": "@jupyter-widgets/controls",
            "_model_module_version": "1.5.0",
            "_model_name": "HTMLModel",
            "_view_count": null,
            "_view_module": "@jupyter-widgets/controls",
            "_view_module_version": "1.5.0",
            "_view_name": "HTMLView",
            "description": "",
            "description_tooltip": null,
            "layout": "IPY_MODEL_d25235d18f8045de9948417d13538ef3",
            "placeholder": "​",
            "style": "IPY_MODEL_01d3490253a8464281845cb171385d59",
            "value": "100%"
          }
        },
        "d25235d18f8045de9948417d13538ef3": {
          "model_module": "@jupyter-widgets/base",
          "model_module_version": "1.2.0",
          "model_name": "LayoutModel",
          "state": {
            "_model_module": "@jupyter-widgets/base",
            "_model_module_version": "1.2.0",
            "_model_name": "LayoutModel",
            "_view_count": null,
            "_view_module": "@jupyter-widgets/base",
            "_view_module_version": "1.2.0",
            "_view_name": "LayoutView",
            "align_content": null,
            "align_items": null,
            "align_self": null,
            "border": null,
            "bottom": null,
            "display": null,
            "flex": null,
            "flex_flow": null,
            "grid_area": null,
            "grid_auto_columns": null,
            "grid_auto_flow": null,
            "grid_auto_rows": null,
            "grid_column": null,
            "grid_gap": null,
            "grid_row": null,
            "grid_template_areas": null,
            "grid_template_columns": null,
            "grid_template_rows": null,
            "height": null,
            "justify_content": null,
            "justify_items": null,
            "left": null,
            "margin": null,
            "max_height": null,
            "max_width": null,
            "min_height": null,
            "min_width": null,
            "object_fit": null,
            "object_position": null,
            "order": null,
            "overflow": null,
            "overflow_x": null,
            "overflow_y": null,
            "padding": null,
            "right": null,
            "top": null,
            "visibility": null,
            "width": null
          }
        },
        "d539e4a476cb4ae28e78769b17b97aa9": {
          "model_module": "@jupyter-widgets/base",
          "model_module_version": "1.2.0",
          "model_name": "LayoutModel",
          "state": {
            "_model_module": "@jupyter-widgets/base",
            "_model_module_version": "1.2.0",
            "_model_name": "LayoutModel",
            "_view_count": null,
            "_view_module": "@jupyter-widgets/base",
            "_view_module_version": "1.2.0",
            "_view_name": "LayoutView",
            "align_content": null,
            "align_items": null,
            "align_self": null,
            "border": null,
            "bottom": null,
            "display": null,
            "flex": null,
            "flex_flow": null,
            "grid_area": null,
            "grid_auto_columns": null,
            "grid_auto_flow": null,
            "grid_auto_rows": null,
            "grid_column": null,
            "grid_gap": null,
            "grid_row": null,
            "grid_template_areas": null,
            "grid_template_columns": null,
            "grid_template_rows": null,
            "height": null,
            "justify_content": null,
            "justify_items": null,
            "left": null,
            "margin": null,
            "max_height": null,
            "max_width": null,
            "min_height": null,
            "min_width": null,
            "object_fit": null,
            "object_position": null,
            "order": null,
            "overflow": null,
            "overflow_x": null,
            "overflow_y": null,
            "padding": null,
            "right": null,
            "top": null,
            "visibility": null,
            "width": null
          }
        },
        "f45e5f0d4187404fb8f63acd3c26fe17": {
          "model_module": "@jupyter-widgets/controls",
          "model_module_version": "1.5.0",
          "model_name": "FloatProgressModel",
          "state": {
            "_dom_classes": [],
            "_model_module": "@jupyter-widgets/controls",
            "_model_module_version": "1.5.0",
            "_model_name": "FloatProgressModel",
            "_view_count": null,
            "_view_module": "@jupyter-widgets/controls",
            "_view_module_version": "1.5.0",
            "_view_name": "ProgressView",
            "bar_style": "success",
            "description": "",
            "description_tooltip": null,
            "layout": "IPY_MODEL_7f079b743c6e4ad897ae55ba366a15b9",
            "max": 32,
            "min": 0,
            "orientation": "horizontal",
            "style": "IPY_MODEL_54cbbc7ffbcc401abfbf3167f882019e",
            "value": 32
          }
        },
        "fb379b55e7bd4b3bb7ed4b0ec6390b2e": {
          "model_module": "@jupyter-widgets/controls",
          "model_module_version": "1.5.0",
          "model_name": "DescriptionStyleModel",
          "state": {
            "_model_module": "@jupyter-widgets/controls",
            "_model_module_version": "1.5.0",
            "_model_name": "DescriptionStyleModel",
            "_view_count": null,
            "_view_module": "@jupyter-widgets/base",
            "_view_module_version": "1.2.0",
            "_view_name": "StyleView",
            "description_width": ""
          }
        }
      }
    }
  },
  "nbformat": 4,
  "nbformat_minor": 0
}
