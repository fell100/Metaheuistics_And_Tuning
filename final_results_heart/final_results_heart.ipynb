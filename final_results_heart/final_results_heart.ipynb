{
 "cells": [
  {
   "cell_type": "code",
   "execution_count": 46,
   "metadata": {},
   "outputs": [],
   "source": [
    "import pandas as pd"
   ]
  },
  {
   "cell_type": "code",
   "execution_count": 47,
   "metadata": {},
   "outputs": [],
   "source": [
    "df1 = pd.read_csv('colab_heart.csv')[['Algorithm', 'Accuracy', 'F1', 'AUC']]\n",
    "df2 = pd.read_csv('colab_heart_2.csv')[['Algorithm', 'Accuracy', 'F1', 'AUC']]\n",
    "df3 = pd.read_csv('lightGBM_heart_data.csv')[['Algorithm', 'Accuracy', 'F1', 'AUC']]"
   ]
  },
  {
   "cell_type": "code",
   "execution_count": 48,
   "metadata": {},
   "outputs": [],
   "source": [
    "GA_DF1 = df1.loc[df1['Algorithm'] == 'GA']\n",
    "GA_DF2 = df2.loc[df2['Algorithm'] == 'GA']\n",
    "GA_DF3 = df3.loc[df3['Algorithm'] == 'GA']\n",
    "OPTUNA_DF1 = df1.loc[df1['Algorithm'] == 'Optuna']\n",
    "OPTUNA_DF2 = df2.loc[df2['Algorithm'] == 'Optuna']\n",
    "OPTUNA_DF3 = df3.loc[df3['Algorithm'] == 'Optuna']\n",
    "PSO_DF3 = df3.loc[df3['Algorithm'] == 'PSO']"
   ]
  },
  {
   "cell_type": "code",
   "execution_count": 49,
   "metadata": {},
   "outputs": [],
   "source": [
    "final_ga_df = pd.concat([GA_DF1, GA_DF2, GA_DF3], ignore_index=True)\n",
    "final_optuna_df = pd.concat([OPTUNA_DF1, OPTUNA_DF2, OPTUNA_DF3], ignore_index=True)\n",
    "final_pso_df = PSO_DF3"
   ]
  },
  {
   "cell_type": "code",
   "execution_count": 53,
   "metadata": {},
   "outputs": [
    {
     "data": {
      "text/plain": [
       "(51, 44, 37)"
      ]
     },
     "execution_count": 53,
     "metadata": {},
     "output_type": "execute_result"
    }
   ],
   "source": [
    "len(final_ga_df), len(final_optuna_df), len(final_pso_df)"
   ]
  },
  {
   "cell_type": "code",
   "execution_count": 54,
   "metadata": {},
   "outputs": [],
   "source": [
    "final_ga_df.to_csv('FINAL_RESULT_GA_HEART.csv') \n",
    "final_optuna_df.to_csv('FINAL_RESULT_OPTUNA_HEART.csv') \n",
    "final_pso_df.to_csv('FINAL_RESULT_PSO_HEART.csv')"
   ]
  }
 ],
 "metadata": {
  "kernelspec": {
   "display_name": "Python 3",
   "language": "python",
   "name": "python3"
  },
  "language_info": {
   "codemirror_mode": {
    "name": "ipython",
    "version": 3
   },
   "file_extension": ".py",
   "mimetype": "text/x-python",
   "name": "python",
   "nbconvert_exporter": "python",
   "pygments_lexer": "ipython3",
   "version": "3.11.1"
  },
  "orig_nbformat": 4,
  "vscode": {
   "interpreter": {
    "hash": "8a5ac1e257a3445902302263f7bb85e3e096a16fcac665c553104f20e5a7c6c3"
   }
  }
 },
 "nbformat": 4,
 "nbformat_minor": 2
}
